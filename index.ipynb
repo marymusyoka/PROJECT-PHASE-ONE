{
 "cells": [
  {
   "cell_type": "markdown",
   "metadata": {},
   "source": [
    "# A DECISION MAKING FRAMEWORK FOR MICROSOFT'S NEW MOVIE STUDIO"
   ]
  },
  {
   "cell_type": "markdown",
   "metadata": {},
   "source": [
    "# Introduction"
   ]
  },
  {
   "cell_type": "markdown",
   "metadata": {},
   "source": [
    "AS microsoft ventures into the realm of film production with the establishment of its new movie studio,strategic decision -making becomes paramount. \n",
    "The goal of this project is to provide the head of Microsoft's new movie studio with actionable insights which will be used as a guide to the decision-making process for film production.\n",
    "By performing analysis  on market trends,audience preferences,and competitive landscape,this project will offer a comprehensive framework to identify the most promising genres,and production\n",
    "strategies. The ultimate goal is to ensure the studio's successful entry into the film industry by aligning its creative direction with data-driven insights."
   ]
  },
  {
   "cell_type": "markdown",
   "metadata": {},
   "source": [
    "# Business Understanding"
   ]
  },
  {
   "cell_type": "markdown",
   "metadata": {},
   "source": [
    "In the contemporary entertainment landscape, the convergence of technology and content creation presents both challenges and apportunities for industry players. As Microsoft embarks on its journey to establish a new movie studio, it is essential to grasp the multifacted dynamics of the film industry and position the venture strategically  within this competitive lanscape.\n",
    "Understanding the business context involves a comprehensive analysis of market trends,consumer preference and competitive forces shaping the entertainment sector. Key consinderation include the rise of streaming platforms,changing viewing habits and increasing demand for original and diverse content. Additionally, the competitive landscape encompases traditional studios,independent producers, and tech giant vying for audience attention and market share.\n",
    "\n",
    "By developing a deep understanding of the business environment,Microsoft can identify strategic opportunities, mitigate risks  and chart a course that maximizes the success of its movie studio venture, This entails not only staying abreast of industry trends but also anticipating future developments and adapting proactively to remain competitive in an ever-evolving market."
   ]
  },
  {
   "cell_type": "markdown",
   "metadata": {},
   "source": [
    "To make informed decisions on the type of films microsoft should produce, it is important to analyze the current trends in the box office, and try to understand what genres and production qualities are performing well. By doing this we will help guide the studios creative and financial investments. The success of these films can significantly impact the microsoft's new movie \n",
    "studios market entry and overall profitability."
   ]
  },
  {
   "cell_type": "markdown",
   "metadata": {},
   "source": [
    "# Data Understanding"
   ]
  },
  {
   "cell_type": "markdown",
   "metadata": {},
   "source": [
    "In the context of establishing Microsoft's new movie studio,data understanding is essential for informing strategic decisions and optimizing performance acrross facets of the ventures.\n",
    "To conduct a comprehensive analysis, we will collect data on the following aspects;\n",
    "   - Production budgets and marketing spends\n",
    "   - Audience demographics and preferences\n",
    "   - Box office revenue of top-grossing films over the past years\n",
    "   - Genres of these films (e.g action,comedy,drama,science fiction)\n",
    "   - Critical reception and audience reviews from rotten tomates and imdb scores.  \n",
    "Sources for this data include industry reports  e.g from Box office mojo, The Numbers, The Movie DB, Rotten Tomatoes and IMDB. The data from these sources are in different data format, some are\n",
    "in Comma Separated Values(CSV) and we can open them using Spreadsheet Software or pd.read_csv,For our case we'll use pd.read_csv. We also have IMDB data which is located in a sqlite database."
   ]
  },
  {
   "cell_type": "markdown",
   "metadata": {},
   "source": [
    "# Data Preparation\n"
   ]
  },
  {
   "cell_type": "markdown",
   "metadata": {},
   "source": [
    "In preparation for Microsoft's new movie studio project,data preparation will involve several critical steps to ensure that the information utilized for decision making is accurate.\n",
    "\n",
    "1. Data Collection: We'll gather our data from various sources e.g Box office mojo,The Numbers,The Movie DB, Rotten Tomatoes and IMDB,the data will include audience demogrphics,viewing habits   and box office performance.\n",
    "2. Data Cleaning: This will involve scrubing the collected data to fill the missing values.\n",
    "3. Data transformation: This will involve transforming raw data into a format that is suitable for analysis. It will involve aggregating data, creating new variables and performing calculations to  derive meaningful insights.\n",
    "4. Data Sampling: Depending on the size of the dataset,we will consider sampling techniques to manage computational resources and ensure representative analysing."
   ]
  },
  {
   "cell_type": "markdown",
   "metadata": {},
   "source": [
    "# Data Analysis"
   ]
  },
  {
   "cell_type": "markdown",
   "metadata": {},
   "source": [
    "Data Analysis will be a pivotal aspect of Microsoft's movie studio project,this will help in enabling the extraction of actionable insights to inform strategic decisions and drive performance optimization. The analysis will help us answer the following questions;\n",
    "1. Top-Grossing Genres : This will help in identifying which film genres have the highest box office revenues.\n",
    "2. Audience Demographics : Analyze which demographics are driving box office success.\n",
    "3. Production vs Revenue : Helps us to compare production budgets against box office return to determine the profitability of different genres.High budgets films might not always yield high returns.\n",
    "4. Critical and Audience Reception : Assess how critical reviews and audience scores correlate with box office performance.\n",
    "5. Top Performing Studios also using Production vs Revenue\n",
    "6. Target Key Demographics"
   ]
  },
  {
   "cell_type": "markdown",
   "metadata": {},
   "source": [
    "# Data Visualization"
   ]
  },
  {
   "cell_type": "markdown",
   "metadata": {},
   "source": [
    "Data Visualization will play a crucial role in Microsoft's Movie studio project allowing stakeholders to understand complex data quickly and make informed decisions"
   ]
  },
  {
   "cell_type": "markdown",
   "metadata": {},
   "source": [
    "# Getting started"
   ]
  },
  {
   "cell_type": "markdown",
   "metadata": {},
   "source": [
    "# Data cleaning\n",
    "# We start cleaning tmdb.movies.csv file"
   ]
  },
  {
   "cell_type": "markdown",
   "metadata": {},
   "source": [
    "In the cell below, we:\n",
    "\n",
    "- Import and alias pandas as pd\n",
    "- Import and alias numpy as np\n",
    "- Import abd alias matplotlib.pyplot as plt\n",
    "- Set matplotlib visualization to display inline in the notebook"
   ]
  },
  {
   "cell_type": "code",
   "execution_count": 2,
   "metadata": {},
   "outputs": [],
   "source": [
    "import pandas as pd\n",
    "import seaborn as sns\n",
    "import matplotlib.pyplot as plt\n",
    "%matplotlib inline"
   ]
  },
  {
   "cell_type": "markdown",
   "metadata": {},
   "source": [
    "In a dataframe name \"tmdb_df\" load \"tmdb.movies.csv\" file in the cell below using \"pd.read_csv\" format"
   ]
  },
  {
   "cell_type": "code",
   "execution_count": 3,
   "metadata": {},
   "outputs": [
    {
     "data": {
      "text/html": [
       "<div>\n",
       "<style scoped>\n",
       "    .dataframe tbody tr th:only-of-type {\n",
       "        vertical-align: middle;\n",
       "    }\n",
       "\n",
       "    .dataframe tbody tr th {\n",
       "        vertical-align: top;\n",
       "    }\n",
       "\n",
       "    .dataframe thead th {\n",
       "        text-align: right;\n",
       "    }\n",
       "</style>\n",
       "<table border=\"1\" class=\"dataframe\">\n",
       "  <thead>\n",
       "    <tr style=\"text-align: right;\">\n",
       "      <th></th>\n",
       "      <th>Unnamed: 0</th>\n",
       "      <th>genre_ids</th>\n",
       "      <th>id</th>\n",
       "      <th>original_language</th>\n",
       "      <th>original_title</th>\n",
       "      <th>popularity</th>\n",
       "      <th>release_date</th>\n",
       "      <th>title</th>\n",
       "      <th>vote_average</th>\n",
       "      <th>vote_count</th>\n",
       "    </tr>\n",
       "  </thead>\n",
       "  <tbody>\n",
       "    <tr>\n",
       "      <th>0</th>\n",
       "      <td>0</td>\n",
       "      <td>[12, 14, 10751]</td>\n",
       "      <td>12444</td>\n",
       "      <td>en</td>\n",
       "      <td>Harry Potter and the Deathly Hallows: Part 1</td>\n",
       "      <td>33.533</td>\n",
       "      <td>2010-11-19</td>\n",
       "      <td>Harry Potter and the Deathly Hallows: Part 1</td>\n",
       "      <td>7.7</td>\n",
       "      <td>10788</td>\n",
       "    </tr>\n",
       "    <tr>\n",
       "      <th>1</th>\n",
       "      <td>1</td>\n",
       "      <td>[14, 12, 16, 10751]</td>\n",
       "      <td>10191</td>\n",
       "      <td>en</td>\n",
       "      <td>How to Train Your Dragon</td>\n",
       "      <td>28.734</td>\n",
       "      <td>2010-03-26</td>\n",
       "      <td>How to Train Your Dragon</td>\n",
       "      <td>7.7</td>\n",
       "      <td>7610</td>\n",
       "    </tr>\n",
       "    <tr>\n",
       "      <th>2</th>\n",
       "      <td>2</td>\n",
       "      <td>[12, 28, 878]</td>\n",
       "      <td>10138</td>\n",
       "      <td>en</td>\n",
       "      <td>Iron Man 2</td>\n",
       "      <td>28.515</td>\n",
       "      <td>2010-05-07</td>\n",
       "      <td>Iron Man 2</td>\n",
       "      <td>6.8</td>\n",
       "      <td>12368</td>\n",
       "    </tr>\n",
       "    <tr>\n",
       "      <th>3</th>\n",
       "      <td>3</td>\n",
       "      <td>[16, 35, 10751]</td>\n",
       "      <td>862</td>\n",
       "      <td>en</td>\n",
       "      <td>Toy Story</td>\n",
       "      <td>28.005</td>\n",
       "      <td>1995-11-22</td>\n",
       "      <td>Toy Story</td>\n",
       "      <td>7.9</td>\n",
       "      <td>10174</td>\n",
       "    </tr>\n",
       "    <tr>\n",
       "      <th>4</th>\n",
       "      <td>4</td>\n",
       "      <td>[28, 878, 12]</td>\n",
       "      <td>27205</td>\n",
       "      <td>en</td>\n",
       "      <td>Inception</td>\n",
       "      <td>27.920</td>\n",
       "      <td>2010-07-16</td>\n",
       "      <td>Inception</td>\n",
       "      <td>8.3</td>\n",
       "      <td>22186</td>\n",
       "    </tr>\n",
       "  </tbody>\n",
       "</table>\n",
       "</div>"
      ],
      "text/plain": [
       "   Unnamed: 0            genre_ids     id original_language  \\\n",
       "0           0      [12, 14, 10751]  12444                en   \n",
       "1           1  [14, 12, 16, 10751]  10191                en   \n",
       "2           2        [12, 28, 878]  10138                en   \n",
       "3           3      [16, 35, 10751]    862                en   \n",
       "4           4        [28, 878, 12]  27205                en   \n",
       "\n",
       "                                 original_title  popularity release_date  \\\n",
       "0  Harry Potter and the Deathly Hallows: Part 1      33.533   2010-11-19   \n",
       "1                      How to Train Your Dragon      28.734   2010-03-26   \n",
       "2                                    Iron Man 2      28.515   2010-05-07   \n",
       "3                                     Toy Story      28.005   1995-11-22   \n",
       "4                                     Inception      27.920   2010-07-16   \n",
       "\n",
       "                                          title  vote_average  vote_count  \n",
       "0  Harry Potter and the Deathly Hallows: Part 1           7.7       10788  \n",
       "1                      How to Train Your Dragon           7.7        7610  \n",
       "2                                    Iron Man 2           6.8       12368  \n",
       "3                                     Toy Story           7.9       10174  \n",
       "4                                     Inception           8.3       22186  "
      ]
     },
     "execution_count": 3,
     "metadata": {},
     "output_type": "execute_result"
    }
   ],
   "source": [
    "tmdb_df = pd.read_csv(\"tmdb.movies.csv\")\n",
    "tmdb_df.head()"
   ]
  },
  {
   "cell_type": "markdown",
   "metadata": {},
   "source": [
    "From the look of things it looks like our CSV came with index column,this has lead to an extra column named Unnamed:0 . We don't need both column,\n",
    "So we can write a code below to get rid of it. We can  achive these either by;\n",
    "1. Re-load with read_csv, and specify the parameter index_col=0\n",
    "2. Drop the column Unnamed:0 with axis=1"
   ]
  },
  {
   "cell_type": "code",
   "execution_count": 4,
   "metadata": {},
   "outputs": [
    {
     "data": {
      "text/html": [
       "<div>\n",
       "<style scoped>\n",
       "    .dataframe tbody tr th:only-of-type {\n",
       "        vertical-align: middle;\n",
       "    }\n",
       "\n",
       "    .dataframe tbody tr th {\n",
       "        vertical-align: top;\n",
       "    }\n",
       "\n",
       "    .dataframe thead th {\n",
       "        text-align: right;\n",
       "    }\n",
       "</style>\n",
       "<table border=\"1\" class=\"dataframe\">\n",
       "  <thead>\n",
       "    <tr style=\"text-align: right;\">\n",
       "      <th></th>\n",
       "      <th>genre_ids</th>\n",
       "      <th>id</th>\n",
       "      <th>original_language</th>\n",
       "      <th>original_title</th>\n",
       "      <th>popularity</th>\n",
       "      <th>release_date</th>\n",
       "      <th>title</th>\n",
       "      <th>vote_average</th>\n",
       "      <th>vote_count</th>\n",
       "    </tr>\n",
       "  </thead>\n",
       "  <tbody>\n",
       "    <tr>\n",
       "      <th>0</th>\n",
       "      <td>[12, 14, 10751]</td>\n",
       "      <td>12444</td>\n",
       "      <td>en</td>\n",
       "      <td>Harry Potter and the Deathly Hallows: Part 1</td>\n",
       "      <td>33.533</td>\n",
       "      <td>2010-11-19</td>\n",
       "      <td>Harry Potter and the Deathly Hallows: Part 1</td>\n",
       "      <td>7.7</td>\n",
       "      <td>10788</td>\n",
       "    </tr>\n",
       "    <tr>\n",
       "      <th>1</th>\n",
       "      <td>[14, 12, 16, 10751]</td>\n",
       "      <td>10191</td>\n",
       "      <td>en</td>\n",
       "      <td>How to Train Your Dragon</td>\n",
       "      <td>28.734</td>\n",
       "      <td>2010-03-26</td>\n",
       "      <td>How to Train Your Dragon</td>\n",
       "      <td>7.7</td>\n",
       "      <td>7610</td>\n",
       "    </tr>\n",
       "    <tr>\n",
       "      <th>2</th>\n",
       "      <td>[12, 28, 878]</td>\n",
       "      <td>10138</td>\n",
       "      <td>en</td>\n",
       "      <td>Iron Man 2</td>\n",
       "      <td>28.515</td>\n",
       "      <td>2010-05-07</td>\n",
       "      <td>Iron Man 2</td>\n",
       "      <td>6.8</td>\n",
       "      <td>12368</td>\n",
       "    </tr>\n",
       "    <tr>\n",
       "      <th>3</th>\n",
       "      <td>[16, 35, 10751]</td>\n",
       "      <td>862</td>\n",
       "      <td>en</td>\n",
       "      <td>Toy Story</td>\n",
       "      <td>28.005</td>\n",
       "      <td>1995-11-22</td>\n",
       "      <td>Toy Story</td>\n",
       "      <td>7.9</td>\n",
       "      <td>10174</td>\n",
       "    </tr>\n",
       "    <tr>\n",
       "      <th>4</th>\n",
       "      <td>[28, 878, 12]</td>\n",
       "      <td>27205</td>\n",
       "      <td>en</td>\n",
       "      <td>Inception</td>\n",
       "      <td>27.920</td>\n",
       "      <td>2010-07-16</td>\n",
       "      <td>Inception</td>\n",
       "      <td>8.3</td>\n",
       "      <td>22186</td>\n",
       "    </tr>\n",
       "  </tbody>\n",
       "</table>\n",
       "</div>"
      ],
      "text/plain": [
       "             genre_ids     id original_language  \\\n",
       "0      [12, 14, 10751]  12444                en   \n",
       "1  [14, 12, 16, 10751]  10191                en   \n",
       "2        [12, 28, 878]  10138                en   \n",
       "3      [16, 35, 10751]    862                en   \n",
       "4        [28, 878, 12]  27205                en   \n",
       "\n",
       "                                 original_title  popularity release_date  \\\n",
       "0  Harry Potter and the Deathly Hallows: Part 1      33.533   2010-11-19   \n",
       "1                      How to Train Your Dragon      28.734   2010-03-26   \n",
       "2                                    Iron Man 2      28.515   2010-05-07   \n",
       "3                                     Toy Story      28.005   1995-11-22   \n",
       "4                                     Inception      27.920   2010-07-16   \n",
       "\n",
       "                                          title  vote_average  vote_count  \n",
       "0  Harry Potter and the Deathly Hallows: Part 1           7.7       10788  \n",
       "1                      How to Train Your Dragon           7.7        7610  \n",
       "2                                    Iron Man 2           6.8       12368  \n",
       "3                                     Toy Story           7.9       10174  \n",
       "4                                     Inception           8.3       22186  "
      ]
     },
     "execution_count": 4,
     "metadata": {},
     "output_type": "execute_result"
    }
   ],
   "source": [
    "#reload our cvs using index_col=0\n",
    "tmdb_df = pd.read_csv(\"tmdb.movies.csv\",index_col=0)\n",
    "tmdb_df.head()"
   ]
  },
  {
   "cell_type": "markdown",
   "metadata": {},
   "source": [
    "Now lets get familiar with the data we have in our tmdb_df. This step will include\n",
    "1. Understanding the dimentionality of our dataset\n",
    "2. Investigating what type of data it contains, and the data types used to store it\n",
    "3. Dicovering how missing values are encoded, and how many there are\n",
    "4. Getting a feel for what information it does and doesn't contain\n",
    "\n",
    "In the cell below,lets inspect the overall shape of the dataframe"
   ]
  },
  {
   "cell_type": "markdown",
   "metadata": {},
   "source": [
    "Let's look at the info printout:"
   ]
  },
  {
   "cell_type": "code",
   "execution_count": 5,
   "metadata": {},
   "outputs": [
    {
     "data": {
      "text/plain": [
       "(26517, 9)"
      ]
     },
     "execution_count": 5,
     "metadata": {},
     "output_type": "execute_result"
    }
   ],
   "source": [
    "# checking data shape\n",
    "tmdb_df.shape"
   ]
  },
  {
   "cell_type": "code",
   "execution_count": 6,
   "metadata": {},
   "outputs": [
    {
     "name": "stdout",
     "output_type": "stream",
     "text": [
      "<class 'pandas.core.frame.DataFrame'>\n",
      "Int64Index: 26517 entries, 0 to 26516\n",
      "Data columns (total 9 columns):\n",
      " #   Column             Non-Null Count  Dtype  \n",
      "---  ------             --------------  -----  \n",
      " 0   genre_ids          26517 non-null  object \n",
      " 1   id                 26517 non-null  int64  \n",
      " 2   original_language  26517 non-null  object \n",
      " 3   original_title     26517 non-null  object \n",
      " 4   popularity         26517 non-null  float64\n",
      " 5   release_date       26517 non-null  object \n",
      " 6   title              26517 non-null  object \n",
      " 7   vote_average       26517 non-null  float64\n",
      " 8   vote_count         26517 non-null  int64  \n",
      "dtypes: float64(2), int64(2), object(5)\n",
      "memory usage: 2.0+ MB\n"
     ]
    }
   ],
   "source": [
    "#checking dataframe info\n",
    "tmdb_df.info()"
   ]
  },
  {
   "cell_type": "markdown",
   "metadata": {},
   "source": [
    "In the cell below, interpret that information. Do the data types line up with what we expect? Are there any missing values?"
   ]
  },
  {
   "cell_type": "code",
   "execution_count": 7,
   "metadata": {},
   "outputs": [
    {
     "data": {
      "text/plain": [
       "'\\nThe data types seem to line up with what we expect. The columns\\ncontaining strings are type object, whereas the columns containing\\ndecimal numbers and full numbers(vote_count,vote_average,popularity and id) \\nare type float64 and int64 respectively.\\n\\nWe can see that there are no missing values in the dataset,\\nsince there are 26517 total rows and each of those\\ncolumns contains all the 26517 rows\\n'"
      ]
     },
     "execution_count": 7,
     "metadata": {},
     "output_type": "execute_result"
    }
   ],
   "source": [
    "\"\"\"\n",
    "The data types seem to line up with what we expect. The columns\n",
    "containing strings are type object, whereas the columns containing\n",
    "decimal numbers and full numbers(vote_count,vote_average,popularity and id) \n",
    "are type float64 and int64 respectively.\n",
    "\n",
    "We can see that there are no missing values in the dataset,\n",
    "since there are 26517 total rows and each of those\n",
    "columns contains all the 26517 rows\n",
    "\"\"\""
   ]
  },
  {
   "cell_type": "markdown",
   "metadata": {},
   "source": [
    "# 2. Secondly we open \"rt.reviews.tsv\" and clean the dataset"
   ]
  },
  {
   "cell_type": "markdown",
   "metadata": {},
   "source": [
    " # We repeat the same process with rt.reviews.tsv and we name our dataframe rt_reviews_df"
   ]
  },
  {
   "cell_type": "code",
   "execution_count": 8,
   "metadata": {},
   "outputs": [
    {
     "data": {
      "text/html": [
       "<div>\n",
       "<style scoped>\n",
       "    .dataframe tbody tr th:only-of-type {\n",
       "        vertical-align: middle;\n",
       "    }\n",
       "\n",
       "    .dataframe tbody tr th {\n",
       "        vertical-align: top;\n",
       "    }\n",
       "\n",
       "    .dataframe thead th {\n",
       "        text-align: right;\n",
       "    }\n",
       "</style>\n",
       "<table border=\"1\" class=\"dataframe\">\n",
       "  <thead>\n",
       "    <tr style=\"text-align: right;\">\n",
       "      <th></th>\n",
       "      <th>id</th>\n",
       "      <th>review</th>\n",
       "      <th>rating</th>\n",
       "      <th>fresh</th>\n",
       "      <th>critic</th>\n",
       "      <th>top_critic</th>\n",
       "      <th>publisher</th>\n",
       "      <th>date</th>\n",
       "    </tr>\n",
       "  </thead>\n",
       "  <tbody>\n",
       "    <tr>\n",
       "      <th>0</th>\n",
       "      <td>3</td>\n",
       "      <td>A distinctly gallows take on contemporary fina...</td>\n",
       "      <td>3/5</td>\n",
       "      <td>fresh</td>\n",
       "      <td>PJ Nabarro</td>\n",
       "      <td>0</td>\n",
       "      <td>Patrick Nabarro</td>\n",
       "      <td>November 10, 2018</td>\n",
       "    </tr>\n",
       "    <tr>\n",
       "      <th>1</th>\n",
       "      <td>3</td>\n",
       "      <td>It's an allegory in search of a meaning that n...</td>\n",
       "      <td>NaN</td>\n",
       "      <td>rotten</td>\n",
       "      <td>Annalee Newitz</td>\n",
       "      <td>0</td>\n",
       "      <td>io9.com</td>\n",
       "      <td>May 23, 2018</td>\n",
       "    </tr>\n",
       "    <tr>\n",
       "      <th>2</th>\n",
       "      <td>3</td>\n",
       "      <td>... life lived in a bubble in financial dealin...</td>\n",
       "      <td>NaN</td>\n",
       "      <td>fresh</td>\n",
       "      <td>Sean Axmaker</td>\n",
       "      <td>0</td>\n",
       "      <td>Stream on Demand</td>\n",
       "      <td>January 4, 2018</td>\n",
       "    </tr>\n",
       "    <tr>\n",
       "      <th>3</th>\n",
       "      <td>3</td>\n",
       "      <td>Continuing along a line introduced in last yea...</td>\n",
       "      <td>NaN</td>\n",
       "      <td>fresh</td>\n",
       "      <td>Daniel Kasman</td>\n",
       "      <td>0</td>\n",
       "      <td>MUBI</td>\n",
       "      <td>November 16, 2017</td>\n",
       "    </tr>\n",
       "    <tr>\n",
       "      <th>4</th>\n",
       "      <td>3</td>\n",
       "      <td>... a perverse twist on neorealism...</td>\n",
       "      <td>NaN</td>\n",
       "      <td>fresh</td>\n",
       "      <td>NaN</td>\n",
       "      <td>0</td>\n",
       "      <td>Cinema Scope</td>\n",
       "      <td>October 12, 2017</td>\n",
       "    </tr>\n",
       "    <tr>\n",
       "      <th>...</th>\n",
       "      <td>...</td>\n",
       "      <td>...</td>\n",
       "      <td>...</td>\n",
       "      <td>...</td>\n",
       "      <td>...</td>\n",
       "      <td>...</td>\n",
       "      <td>...</td>\n",
       "      <td>...</td>\n",
       "    </tr>\n",
       "    <tr>\n",
       "      <th>54427</th>\n",
       "      <td>2000</td>\n",
       "      <td>The real charm of this trifle is the deadpan c...</td>\n",
       "      <td>NaN</td>\n",
       "      <td>fresh</td>\n",
       "      <td>Laura Sinagra</td>\n",
       "      <td>1</td>\n",
       "      <td>Village Voice</td>\n",
       "      <td>September 24, 2002</td>\n",
       "    </tr>\n",
       "    <tr>\n",
       "      <th>54428</th>\n",
       "      <td>2000</td>\n",
       "      <td>NaN</td>\n",
       "      <td>1/5</td>\n",
       "      <td>rotten</td>\n",
       "      <td>Michael Szymanski</td>\n",
       "      <td>0</td>\n",
       "      <td>Zap2it.com</td>\n",
       "      <td>September 21, 2005</td>\n",
       "    </tr>\n",
       "    <tr>\n",
       "      <th>54429</th>\n",
       "      <td>2000</td>\n",
       "      <td>NaN</td>\n",
       "      <td>2/5</td>\n",
       "      <td>rotten</td>\n",
       "      <td>Emanuel Levy</td>\n",
       "      <td>0</td>\n",
       "      <td>EmanuelLevy.Com</td>\n",
       "      <td>July 17, 2005</td>\n",
       "    </tr>\n",
       "    <tr>\n",
       "      <th>54430</th>\n",
       "      <td>2000</td>\n",
       "      <td>NaN</td>\n",
       "      <td>2.5/5</td>\n",
       "      <td>rotten</td>\n",
       "      <td>Christopher Null</td>\n",
       "      <td>0</td>\n",
       "      <td>Filmcritic.com</td>\n",
       "      <td>September 7, 2003</td>\n",
       "    </tr>\n",
       "    <tr>\n",
       "      <th>54431</th>\n",
       "      <td>2000</td>\n",
       "      <td>NaN</td>\n",
       "      <td>3/5</td>\n",
       "      <td>fresh</td>\n",
       "      <td>Nicolas Lacroix</td>\n",
       "      <td>0</td>\n",
       "      <td>Showbizz.net</td>\n",
       "      <td>November 12, 2002</td>\n",
       "    </tr>\n",
       "  </tbody>\n",
       "</table>\n",
       "<p>54432 rows × 8 columns</p>\n",
       "</div>"
      ],
      "text/plain": [
       "         id                                             review rating   fresh  \\\n",
       "0         3  A distinctly gallows take on contemporary fina...    3/5   fresh   \n",
       "1         3  It's an allegory in search of a meaning that n...    NaN  rotten   \n",
       "2         3  ... life lived in a bubble in financial dealin...    NaN   fresh   \n",
       "3         3  Continuing along a line introduced in last yea...    NaN   fresh   \n",
       "4         3             ... a perverse twist on neorealism...     NaN   fresh   \n",
       "...     ...                                                ...    ...     ...   \n",
       "54427  2000  The real charm of this trifle is the deadpan c...    NaN   fresh   \n",
       "54428  2000                                                NaN    1/5  rotten   \n",
       "54429  2000                                                NaN    2/5  rotten   \n",
       "54430  2000                                                NaN  2.5/5  rotten   \n",
       "54431  2000                                                NaN    3/5   fresh   \n",
       "\n",
       "                  critic  top_critic         publisher                date  \n",
       "0             PJ Nabarro           0   Patrick Nabarro   November 10, 2018  \n",
       "1         Annalee Newitz           0           io9.com        May 23, 2018  \n",
       "2           Sean Axmaker           0  Stream on Demand     January 4, 2018  \n",
       "3          Daniel Kasman           0              MUBI   November 16, 2017  \n",
       "4                    NaN           0      Cinema Scope    October 12, 2017  \n",
       "...                  ...         ...               ...                 ...  \n",
       "54427      Laura Sinagra           1     Village Voice  September 24, 2002  \n",
       "54428  Michael Szymanski           0        Zap2it.com  September 21, 2005  \n",
       "54429       Emanuel Levy           0   EmanuelLevy.Com       July 17, 2005  \n",
       "54430   Christopher Null           0    Filmcritic.com   September 7, 2003  \n",
       "54431    Nicolas Lacroix           0      Showbizz.net   November 12, 2002  \n",
       "\n",
       "[54432 rows x 8 columns]"
      ]
     },
     "execution_count": 8,
     "metadata": {},
     "output_type": "execute_result"
    }
   ],
   "source": [
    "# we create avairable named rt_reviews_df and open our dataset using the variable\n",
    "rt_reviews_df = pd.read_csv('rt.reviews.tsv',sep='\\t',encoding='latin')\n",
    "rt_reviews_df"
   ]
  },
  {
   "cell_type": "code",
   "execution_count": 9,
   "metadata": {},
   "outputs": [
    {
     "data": {
      "text/plain": [
       "(54432, 8)"
      ]
     },
     "execution_count": 9,
     "metadata": {},
     "output_type": "execute_result"
    }
   ],
   "source": [
    "# we check our rt_reviews_df shape\n",
    "rt_reviews_df.shape"
   ]
  },
  {
   "cell_type": "code",
   "execution_count": 10,
   "metadata": {},
   "outputs": [
    {
     "name": "stdout",
     "output_type": "stream",
     "text": [
      "<class 'pandas.core.frame.DataFrame'>\n",
      "RangeIndex: 54432 entries, 0 to 54431\n",
      "Data columns (total 8 columns):\n",
      " #   Column      Non-Null Count  Dtype \n",
      "---  ------      --------------  ----- \n",
      " 0   id          54432 non-null  int64 \n",
      " 1   review      48869 non-null  object\n",
      " 2   rating      40915 non-null  object\n",
      " 3   fresh       54432 non-null  object\n",
      " 4   critic      51710 non-null  object\n",
      " 5   top_critic  54432 non-null  int64 \n",
      " 6   publisher   54123 non-null  object\n",
      " 7   date        54432 non-null  object\n",
      "dtypes: int64(2), object(6)\n",
      "memory usage: 3.3+ MB\n"
     ]
    }
   ],
   "source": [
    "# we check for info printout\n",
    "rt_reviews_df.info()"
   ]
  },
  {
   "cell_type": "markdown",
   "metadata": {},
   "source": [
    "In the cell below, interpret that information. Do the data types line up with what we expect? Are there any missing values?"
   ]
  },
  {
   "cell_type": "code",
   "execution_count": 11,
   "metadata": {},
   "outputs": [
    {
     "data": {
      "text/plain": [
       "\"\\nFrom the info we can see that we have missing values\\nfrom columns review,rating,critic and publisher we'll \\nhave to handle the missing values.\\n\\nWe can say that all the data types are as per expectation\\nbut for rating which is of string value we'll convert it\\nto numeric values when cleaning dataset\\n\""
      ]
     },
     "execution_count": 11,
     "metadata": {},
     "output_type": "execute_result"
    }
   ],
   "source": [
    "\"\"\"\n",
    "From the info we can see that we have missing values\n",
    "from columns review,rating,critic and publisher we'll \n",
    "have to handle the missing values.\n",
    "\n",
    "We can say that all the data types are as per expectation\n",
    "but for rating which is of string value we'll convert it\n",
    "to numeric values when cleaning dataset\n",
    "\"\"\""
   ]
  },
  {
   "cell_type": "code",
   "execution_count": 12,
   "metadata": {},
   "outputs": [
    {
     "data": {
      "text/plain": [
       "22111"
      ]
     },
     "execution_count": 12,
     "metadata": {},
     "output_type": "execute_result"
    }
   ],
   "source": [
    "#checking how many missing values we have in the dataset\n",
    "rt_reviews_df.isna().sum().sum()"
   ]
  },
  {
   "cell_type": "markdown",
   "metadata": {},
   "source": [
    "# From the info we can see we have four columns with missing values;review,rating,critic and publisher\n",
    "Lets apply specific strategies for each column\n",
    "\n",
    "We strat with rating column"
   ]
  },
  {
   "cell_type": "code",
   "execution_count": 13,
   "metadata": {},
   "outputs": [
    {
     "data": {
      "text/plain": [
       "13517"
      ]
     },
     "execution_count": 13,
     "metadata": {},
     "output_type": "execute_result"
    }
   ],
   "source": [
    "#checking how many missing values in \"rating\" column\n",
    "rt_reviews_df[\"rating\"].isna().sum()"
   ]
  },
  {
   "cell_type": "markdown",
   "metadata": {},
   "source": [
    "From the rating column lets extract the numerical part of the rating(e.g,\"3\" from \"3/5\")\n",
    "\n",
    "Then we convert it to a numeric format for imputation and analysis\n",
    "\n",
    "After converting to numeric format,handle missing values using appropriate imputation techniques"
   ]
  },
  {
   "cell_type": "markdown",
   "metadata": {},
   "source": [
    " We can find a meaningful placeholder to replace ratings with a placeholder value e.g \"-1\" instead of \"N/A\" to distinguish them from observed ratings and help us\n",
    " convert rating to numeric values\n",
    "\n",
    " For the rating column we have replaced all NAN columns with -1 value"
   ]
  },
  {
   "cell_type": "code",
   "execution_count": 14,
   "metadata": {},
   "outputs": [],
   "source": [
    "# Extracting the numerical part of rating column\n",
    "rt_reviews_df[\"rating\"] = rt_reviews_df[\"rating\"].str.extract(r'(\\d+)').astype(float)"
   ]
  },
  {
   "cell_type": "code",
   "execution_count": 15,
   "metadata": {},
   "outputs": [],
   "source": [
    "# Replace NaN with placeholder \"-1\"\n",
    "rt_reviews_df[\"rating\"].fillna(-1,inplace=True)"
   ]
  },
  {
   "cell_type": "code",
   "execution_count": 16,
   "metadata": {},
   "outputs": [
    {
     "data": {
      "text/html": [
       "<div>\n",
       "<style scoped>\n",
       "    .dataframe tbody tr th:only-of-type {\n",
       "        vertical-align: middle;\n",
       "    }\n",
       "\n",
       "    .dataframe tbody tr th {\n",
       "        vertical-align: top;\n",
       "    }\n",
       "\n",
       "    .dataframe thead th {\n",
       "        text-align: right;\n",
       "    }\n",
       "</style>\n",
       "<table border=\"1\" class=\"dataframe\">\n",
       "  <thead>\n",
       "    <tr style=\"text-align: right;\">\n",
       "      <th></th>\n",
       "      <th>id</th>\n",
       "      <th>review</th>\n",
       "      <th>rating</th>\n",
       "      <th>fresh</th>\n",
       "      <th>critic</th>\n",
       "      <th>top_critic</th>\n",
       "      <th>publisher</th>\n",
       "      <th>date</th>\n",
       "    </tr>\n",
       "  </thead>\n",
       "  <tbody>\n",
       "    <tr>\n",
       "      <th>0</th>\n",
       "      <td>3</td>\n",
       "      <td>A distinctly gallows take on contemporary fina...</td>\n",
       "      <td>3.0</td>\n",
       "      <td>fresh</td>\n",
       "      <td>PJ Nabarro</td>\n",
       "      <td>0</td>\n",
       "      <td>Patrick Nabarro</td>\n",
       "      <td>November 10, 2018</td>\n",
       "    </tr>\n",
       "    <tr>\n",
       "      <th>1</th>\n",
       "      <td>3</td>\n",
       "      <td>It's an allegory in search of a meaning that n...</td>\n",
       "      <td>-1.0</td>\n",
       "      <td>rotten</td>\n",
       "      <td>Annalee Newitz</td>\n",
       "      <td>0</td>\n",
       "      <td>io9.com</td>\n",
       "      <td>May 23, 2018</td>\n",
       "    </tr>\n",
       "    <tr>\n",
       "      <th>2</th>\n",
       "      <td>3</td>\n",
       "      <td>... life lived in a bubble in financial dealin...</td>\n",
       "      <td>-1.0</td>\n",
       "      <td>fresh</td>\n",
       "      <td>Sean Axmaker</td>\n",
       "      <td>0</td>\n",
       "      <td>Stream on Demand</td>\n",
       "      <td>January 4, 2018</td>\n",
       "    </tr>\n",
       "    <tr>\n",
       "      <th>3</th>\n",
       "      <td>3</td>\n",
       "      <td>Continuing along a line introduced in last yea...</td>\n",
       "      <td>-1.0</td>\n",
       "      <td>fresh</td>\n",
       "      <td>Daniel Kasman</td>\n",
       "      <td>0</td>\n",
       "      <td>MUBI</td>\n",
       "      <td>November 16, 2017</td>\n",
       "    </tr>\n",
       "    <tr>\n",
       "      <th>4</th>\n",
       "      <td>3</td>\n",
       "      <td>... a perverse twist on neorealism...</td>\n",
       "      <td>-1.0</td>\n",
       "      <td>fresh</td>\n",
       "      <td>NaN</td>\n",
       "      <td>0</td>\n",
       "      <td>Cinema Scope</td>\n",
       "      <td>October 12, 2017</td>\n",
       "    </tr>\n",
       "    <tr>\n",
       "      <th>...</th>\n",
       "      <td>...</td>\n",
       "      <td>...</td>\n",
       "      <td>...</td>\n",
       "      <td>...</td>\n",
       "      <td>...</td>\n",
       "      <td>...</td>\n",
       "      <td>...</td>\n",
       "      <td>...</td>\n",
       "    </tr>\n",
       "    <tr>\n",
       "      <th>54427</th>\n",
       "      <td>2000</td>\n",
       "      <td>The real charm of this trifle is the deadpan c...</td>\n",
       "      <td>-1.0</td>\n",
       "      <td>fresh</td>\n",
       "      <td>Laura Sinagra</td>\n",
       "      <td>1</td>\n",
       "      <td>Village Voice</td>\n",
       "      <td>September 24, 2002</td>\n",
       "    </tr>\n",
       "    <tr>\n",
       "      <th>54428</th>\n",
       "      <td>2000</td>\n",
       "      <td>NaN</td>\n",
       "      <td>1.0</td>\n",
       "      <td>rotten</td>\n",
       "      <td>Michael Szymanski</td>\n",
       "      <td>0</td>\n",
       "      <td>Zap2it.com</td>\n",
       "      <td>September 21, 2005</td>\n",
       "    </tr>\n",
       "    <tr>\n",
       "      <th>54429</th>\n",
       "      <td>2000</td>\n",
       "      <td>NaN</td>\n",
       "      <td>2.0</td>\n",
       "      <td>rotten</td>\n",
       "      <td>Emanuel Levy</td>\n",
       "      <td>0</td>\n",
       "      <td>EmanuelLevy.Com</td>\n",
       "      <td>July 17, 2005</td>\n",
       "    </tr>\n",
       "    <tr>\n",
       "      <th>54430</th>\n",
       "      <td>2000</td>\n",
       "      <td>NaN</td>\n",
       "      <td>2.0</td>\n",
       "      <td>rotten</td>\n",
       "      <td>Christopher Null</td>\n",
       "      <td>0</td>\n",
       "      <td>Filmcritic.com</td>\n",
       "      <td>September 7, 2003</td>\n",
       "    </tr>\n",
       "    <tr>\n",
       "      <th>54431</th>\n",
       "      <td>2000</td>\n",
       "      <td>NaN</td>\n",
       "      <td>3.0</td>\n",
       "      <td>fresh</td>\n",
       "      <td>Nicolas Lacroix</td>\n",
       "      <td>0</td>\n",
       "      <td>Showbizz.net</td>\n",
       "      <td>November 12, 2002</td>\n",
       "    </tr>\n",
       "  </tbody>\n",
       "</table>\n",
       "<p>54432 rows × 8 columns</p>\n",
       "</div>"
      ],
      "text/plain": [
       "         id                                             review  rating  \\\n",
       "0         3  A distinctly gallows take on contemporary fina...     3.0   \n",
       "1         3  It's an allegory in search of a meaning that n...    -1.0   \n",
       "2         3  ... life lived in a bubble in financial dealin...    -1.0   \n",
       "3         3  Continuing along a line introduced in last yea...    -1.0   \n",
       "4         3             ... a perverse twist on neorealism...     -1.0   \n",
       "...     ...                                                ...     ...   \n",
       "54427  2000  The real charm of this trifle is the deadpan c...    -1.0   \n",
       "54428  2000                                                NaN     1.0   \n",
       "54429  2000                                                NaN     2.0   \n",
       "54430  2000                                                NaN     2.0   \n",
       "54431  2000                                                NaN     3.0   \n",
       "\n",
       "        fresh             critic  top_critic         publisher  \\\n",
       "0       fresh         PJ Nabarro           0   Patrick Nabarro   \n",
       "1      rotten     Annalee Newitz           0           io9.com   \n",
       "2       fresh       Sean Axmaker           0  Stream on Demand   \n",
       "3       fresh      Daniel Kasman           0              MUBI   \n",
       "4       fresh                NaN           0      Cinema Scope   \n",
       "...       ...                ...         ...               ...   \n",
       "54427   fresh      Laura Sinagra           1     Village Voice   \n",
       "54428  rotten  Michael Szymanski           0        Zap2it.com   \n",
       "54429  rotten       Emanuel Levy           0   EmanuelLevy.Com   \n",
       "54430  rotten   Christopher Null           0    Filmcritic.com   \n",
       "54431   fresh    Nicolas Lacroix           0      Showbizz.net   \n",
       "\n",
       "                     date  \n",
       "0       November 10, 2018  \n",
       "1            May 23, 2018  \n",
       "2         January 4, 2018  \n",
       "3       November 16, 2017  \n",
       "4        October 12, 2017  \n",
       "...                   ...  \n",
       "54427  September 24, 2002  \n",
       "54428  September 21, 2005  \n",
       "54429       July 17, 2005  \n",
       "54430   September 7, 2003  \n",
       "54431   November 12, 2002  \n",
       "\n",
       "[54432 rows x 8 columns]"
      ]
     },
     "execution_count": 16,
     "metadata": {},
     "output_type": "execute_result"
    }
   ],
   "source": [
    "# cross checking if rating column contains float datatype\n",
    "rt_reviews_df"
   ]
  },
  {
   "cell_type": "markdown",
   "metadata": {},
   "source": [
    "For \"Publisher\" column we can replace missing value with \"Unkown\" \n",
    "\n",
    "We'll fill \"publisher\" missing value with unknow to avoid data loss,\n",
    "\n",
    "you ensure that  no rows are removed from the dataset,thus\n",
    "\n",
    "preserving the maximum  amount of data available for analysis. \n",
    "\n",
    "We have done so since the missing value are not a significant portion of the overall data since we only have 309 missing data out of 54430\n",
    "As per missing_percentage of our dataset we can say th missing data publisher is not significant since its 0.567681"
   ]
  },
  {
   "cell_type": "code",
   "execution_count": 17,
   "metadata": {},
   "outputs": [
    {
     "data": {
      "text/plain": [
       "309"
      ]
     },
     "execution_count": 17,
     "metadata": {},
     "output_type": "execute_result"
    }
   ],
   "source": [
    "#checking how many missing values in publisher column\n",
    "rt_reviews_df[\"publisher\"].isna().sum()"
   ]
  },
  {
   "cell_type": "code",
   "execution_count": 18,
   "metadata": {},
   "outputs": [
    {
     "data": {
      "text/plain": [
       "id             0.000000\n",
       "review        10.220091\n",
       "rating         0.000000\n",
       "fresh          0.000000\n",
       "critic         5.000735\n",
       "top_critic     0.000000\n",
       "publisher      0.567681\n",
       "date           0.000000\n",
       "dtype: float64"
      ]
     },
     "execution_count": 18,
     "metadata": {},
     "output_type": "execute_result"
    }
   ],
   "source": [
    "missing_percentage = rt_reviews_df.isnull().mean() *100\n",
    "missing_percentage"
   ]
  },
  {
   "cell_type": "code",
   "execution_count": 19,
   "metadata": {},
   "outputs": [],
   "source": [
    "#replacing missing values with \"unknown\"\n",
    "rt_reviews_df[\"publisher\"] = rt_reviews_df[\"publisher\"].fillna(\"Unknown\")"
   ]
  },
  {
   "cell_type": "markdown",
   "metadata": {},
   "source": [
    "We can apply the same technique for reviews but instead we replace missing values with \"Not Provided\""
   ]
  },
  {
   "cell_type": "code",
   "execution_count": 20,
   "metadata": {},
   "outputs": [],
   "source": [
    "#replacing review missing values with \"Not Provided\"\n",
    "rt_reviews_df[\"review\"] = rt_reviews_df[\"review\"].fillna(\"Not Provided\")"
   ]
  },
  {
   "cell_type": "markdown",
   "metadata": {},
   "source": [
    "For critic we also apply imputation method by replacing the missing value with \"Unknown Critic\""
   ]
  },
  {
   "cell_type": "code",
   "execution_count": 21,
   "metadata": {},
   "outputs": [],
   "source": [
    "#replacing critic missing values with \"Unknown Critic\"\n",
    "rt_reviews_df[\"critic\"] = rt_reviews_df[\"critic\"].fillna(\"Unknown Critic\")"
   ]
  },
  {
   "cell_type": "markdown",
   "metadata": {},
   "source": [
    "Know lets check df info and see if we still have missing values"
   ]
  },
  {
   "cell_type": "code",
   "execution_count": 22,
   "metadata": {},
   "outputs": [
    {
     "name": "stdout",
     "output_type": "stream",
     "text": [
      "<class 'pandas.core.frame.DataFrame'>\n",
      "RangeIndex: 54432 entries, 0 to 54431\n",
      "Data columns (total 8 columns):\n",
      " #   Column      Non-Null Count  Dtype  \n",
      "---  ------      --------------  -----  \n",
      " 0   id          54432 non-null  int64  \n",
      " 1   review      54432 non-null  object \n",
      " 2   rating      54432 non-null  float64\n",
      " 3   fresh       54432 non-null  object \n",
      " 4   critic      54432 non-null  object \n",
      " 5   top_critic  54432 non-null  int64  \n",
      " 6   publisher   54432 non-null  object \n",
      " 7   date        54432 non-null  object \n",
      "dtypes: float64(1), int64(2), object(5)\n",
      "memory usage: 3.3+ MB\n"
     ]
    }
   ],
   "source": [
    "rt_reviews_df.info()"
   ]
  },
  {
   "cell_type": "code",
   "execution_count": 23,
   "metadata": {},
   "outputs": [
    {
     "data": {
      "text/plain": [
       "'\\nFilling \"publisher\" missing values with \"Unknown\",\"Critic\" with \"Unknown Critic\"\\nand \"review\" with \"Not Provided\" provides a clear,simple and unbiased way to handle\\nmissing data,preserving the integrity of the dataset and facilitating further analysis\\n'"
      ]
     },
     "execution_count": 23,
     "metadata": {},
     "output_type": "execute_result"
    }
   ],
   "source": [
    "\"\"\"\n",
    "Filling \"publisher\" missing values with \"Unknown\",\"Critic\" with \"Unknown Critic\"\n",
    "and \"review\" with \"Not Provided\" provides a clear,simple and unbiased way to handle\n",
    "missing data,preserving the integrity of the dataset and facilitating further analysis\n",
    "\"\"\""
   ]
  },
  {
   "cell_type": "markdown",
   "metadata": {},
   "source": [
    "# 3 .We open tn.movie_budgets.csv and clean the dataset\n",
    "\n",
    "We follow the same procedure we have done on the previous sets\n",
    "\n",
    "use a dataframe named tn_movie_budgets_df to load df"
   ]
  },
  {
   "cell_type": "code",
   "execution_count": 24,
   "metadata": {},
   "outputs": [
    {
     "data": {
      "text/html": [
       "<div>\n",
       "<style scoped>\n",
       "    .dataframe tbody tr th:only-of-type {\n",
       "        vertical-align: middle;\n",
       "    }\n",
       "\n",
       "    .dataframe tbody tr th {\n",
       "        vertical-align: top;\n",
       "    }\n",
       "\n",
       "    .dataframe thead th {\n",
       "        text-align: right;\n",
       "    }\n",
       "</style>\n",
       "<table border=\"1\" class=\"dataframe\">\n",
       "  <thead>\n",
       "    <tr style=\"text-align: right;\">\n",
       "      <th></th>\n",
       "      <th>id</th>\n",
       "      <th>release_date</th>\n",
       "      <th>movie</th>\n",
       "      <th>production_budget</th>\n",
       "      <th>domestic_gross</th>\n",
       "      <th>worldwide_gross</th>\n",
       "    </tr>\n",
       "  </thead>\n",
       "  <tbody>\n",
       "    <tr>\n",
       "      <th>0</th>\n",
       "      <td>1</td>\n",
       "      <td>Dec 18, 2009</td>\n",
       "      <td>Avatar</td>\n",
       "      <td>$425,000,000</td>\n",
       "      <td>$760,507,625</td>\n",
       "      <td>$2,776,345,279</td>\n",
       "    </tr>\n",
       "    <tr>\n",
       "      <th>1</th>\n",
       "      <td>2</td>\n",
       "      <td>May 20, 2011</td>\n",
       "      <td>Pirates of the Caribbean: On Stranger Tides</td>\n",
       "      <td>$410,600,000</td>\n",
       "      <td>$241,063,875</td>\n",
       "      <td>$1,045,663,875</td>\n",
       "    </tr>\n",
       "    <tr>\n",
       "      <th>2</th>\n",
       "      <td>3</td>\n",
       "      <td>Jun 7, 2019</td>\n",
       "      <td>Dark Phoenix</td>\n",
       "      <td>$350,000,000</td>\n",
       "      <td>$42,762,350</td>\n",
       "      <td>$149,762,350</td>\n",
       "    </tr>\n",
       "    <tr>\n",
       "      <th>3</th>\n",
       "      <td>4</td>\n",
       "      <td>May 1, 2015</td>\n",
       "      <td>Avengers: Age of Ultron</td>\n",
       "      <td>$330,600,000</td>\n",
       "      <td>$459,005,868</td>\n",
       "      <td>$1,403,013,963</td>\n",
       "    </tr>\n",
       "    <tr>\n",
       "      <th>4</th>\n",
       "      <td>5</td>\n",
       "      <td>Dec 15, 2017</td>\n",
       "      <td>Star Wars Ep. VIII: The Last Jedi</td>\n",
       "      <td>$317,000,000</td>\n",
       "      <td>$620,181,382</td>\n",
       "      <td>$1,316,721,747</td>\n",
       "    </tr>\n",
       "    <tr>\n",
       "      <th>...</th>\n",
       "      <td>...</td>\n",
       "      <td>...</td>\n",
       "      <td>...</td>\n",
       "      <td>...</td>\n",
       "      <td>...</td>\n",
       "      <td>...</td>\n",
       "    </tr>\n",
       "    <tr>\n",
       "      <th>5777</th>\n",
       "      <td>78</td>\n",
       "      <td>Dec 31, 2018</td>\n",
       "      <td>Red 11</td>\n",
       "      <td>$7,000</td>\n",
       "      <td>$0</td>\n",
       "      <td>$0</td>\n",
       "    </tr>\n",
       "    <tr>\n",
       "      <th>5778</th>\n",
       "      <td>79</td>\n",
       "      <td>Apr 2, 1999</td>\n",
       "      <td>Following</td>\n",
       "      <td>$6,000</td>\n",
       "      <td>$48,482</td>\n",
       "      <td>$240,495</td>\n",
       "    </tr>\n",
       "    <tr>\n",
       "      <th>5779</th>\n",
       "      <td>80</td>\n",
       "      <td>Jul 13, 2005</td>\n",
       "      <td>Return to the Land of Wonders</td>\n",
       "      <td>$5,000</td>\n",
       "      <td>$1,338</td>\n",
       "      <td>$1,338</td>\n",
       "    </tr>\n",
       "    <tr>\n",
       "      <th>5780</th>\n",
       "      <td>81</td>\n",
       "      <td>Sep 29, 2015</td>\n",
       "      <td>A Plague So Pleasant</td>\n",
       "      <td>$1,400</td>\n",
       "      <td>$0</td>\n",
       "      <td>$0</td>\n",
       "    </tr>\n",
       "    <tr>\n",
       "      <th>5781</th>\n",
       "      <td>82</td>\n",
       "      <td>Aug 5, 2005</td>\n",
       "      <td>My Date With Drew</td>\n",
       "      <td>$1,100</td>\n",
       "      <td>$181,041</td>\n",
       "      <td>$181,041</td>\n",
       "    </tr>\n",
       "  </tbody>\n",
       "</table>\n",
       "<p>5782 rows × 6 columns</p>\n",
       "</div>"
      ],
      "text/plain": [
       "      id  release_date                                        movie  \\\n",
       "0      1  Dec 18, 2009                                       Avatar   \n",
       "1      2  May 20, 2011  Pirates of the Caribbean: On Stranger Tides   \n",
       "2      3   Jun 7, 2019                                 Dark Phoenix   \n",
       "3      4   May 1, 2015                      Avengers: Age of Ultron   \n",
       "4      5  Dec 15, 2017            Star Wars Ep. VIII: The Last Jedi   \n",
       "...   ..           ...                                          ...   \n",
       "5777  78  Dec 31, 2018                                       Red 11   \n",
       "5778  79   Apr 2, 1999                                    Following   \n",
       "5779  80  Jul 13, 2005                Return to the Land of Wonders   \n",
       "5780  81  Sep 29, 2015                         A Plague So Pleasant   \n",
       "5781  82   Aug 5, 2005                            My Date With Drew   \n",
       "\n",
       "     production_budget domestic_gross worldwide_gross  \n",
       "0         $425,000,000   $760,507,625  $2,776,345,279  \n",
       "1         $410,600,000   $241,063,875  $1,045,663,875  \n",
       "2         $350,000,000    $42,762,350    $149,762,350  \n",
       "3         $330,600,000   $459,005,868  $1,403,013,963  \n",
       "4         $317,000,000   $620,181,382  $1,316,721,747  \n",
       "...                ...            ...             ...  \n",
       "5777            $7,000             $0              $0  \n",
       "5778            $6,000        $48,482        $240,495  \n",
       "5779            $5,000         $1,338          $1,338  \n",
       "5780            $1,400             $0              $0  \n",
       "5781            $1,100       $181,041        $181,041  \n",
       "\n",
       "[5782 rows x 6 columns]"
      ]
     },
     "execution_count": 24,
     "metadata": {},
     "output_type": "execute_result"
    }
   ],
   "source": [
    "#open the dataset\n",
    "tn_movie_budgets_df = pd.read_csv(\"tn.movie_budgets.csv\")\n",
    "tn_movie_budgets_df"
   ]
  },
  {
   "cell_type": "code",
   "execution_count": 25,
   "metadata": {},
   "outputs": [
    {
     "data": {
      "text/plain": [
       "(5782, 6)"
      ]
     },
     "execution_count": 25,
     "metadata": {},
     "output_type": "execute_result"
    }
   ],
   "source": [
    "# dataframe Dimentions\n",
    "tn_movie_budgets_df.shape"
   ]
  },
  {
   "cell_type": "code",
   "execution_count": 26,
   "metadata": {},
   "outputs": [
    {
     "name": "stdout",
     "output_type": "stream",
     "text": [
      "<class 'pandas.core.frame.DataFrame'>\n",
      "RangeIndex: 5782 entries, 0 to 5781\n",
      "Data columns (total 6 columns):\n",
      " #   Column             Non-Null Count  Dtype \n",
      "---  ------             --------------  ----- \n",
      " 0   id                 5782 non-null   int64 \n",
      " 1   release_date       5782 non-null   object\n",
      " 2   movie              5782 non-null   object\n",
      " 3   production_budget  5782 non-null   object\n",
      " 4   domestic_gross     5782 non-null   object\n",
      " 5   worldwide_gross    5782 non-null   object\n",
      "dtypes: int64(1), object(5)\n",
      "memory usage: 271.2+ KB\n"
     ]
    }
   ],
   "source": [
    "# Dataframe info\n",
    "tn_movie_budgets_df.info()"
   ]
  },
  {
   "cell_type": "markdown",
   "metadata": {},
   "source": [
    " We interprent the info from above cell"
   ]
  },
  {
   "cell_type": "code",
   "execution_count": 27,
   "metadata": {},
   "outputs": [
    {
     "data": {
      "text/plain": [
       "'\\nThe data types seem not to line up with what we expect. The columns\\ncontaining strings are type object, whereas the columns containing\\ndecimal numbers and full numbers(production_budget,domestic_gross and worlwide_gross) \\nare  not of type float and int as we expect them to be instead they are of type object.\\n\\nWe can see that there are no missing values in the dataset,\\nsince there are 5782 total rows and each of those\\ncolumns contains all the 5782 rows\\n'"
      ]
     },
     "execution_count": 27,
     "metadata": {},
     "output_type": "execute_result"
    }
   ],
   "source": [
    "\"\"\"\n",
    "The data types seem not to line up with what we expect. The columns\n",
    "containing strings are type object, whereas the columns containing\n",
    "decimal numbers and full numbers(production_budget,domestic_gross and worlwide_gross) \n",
    "are  not of type float and int as we expect them to be instead they are of type object.\n",
    "\n",
    "We can see that there are no missing values in the dataset,\n",
    "since there are 5782 total rows and each of those\n",
    "columns contains all the 5782 rows\n",
    "\"\"\""
   ]
  },
  {
   "cell_type": "markdown",
   "metadata": {},
   "source": [
    "# For the Production_budget,domestic_gross and worlwide_gross we can remove the dollar signs to make our columns of type float and not object"
   ]
  },
  {
   "cell_type": "markdown",
   "metadata": {},
   "source": [
    "Removing the Dollar Sign\n",
    "You can use the str.replace method to remove the dollar sign. If the column is not of string type, you'll need to convert it to string first."
   ]
  },
  {
   "cell_type": "code",
   "execution_count": 28,
   "metadata": {},
   "outputs": [],
   "source": [
    "# use for loop to iterate over the dataframe columns\n",
    "modified_cols = ['production_budget', 'domestic_gross', 'worldwide_gross']\n",
    "for col in modified_cols:\n",
    "    tn_movie_budgets_df[col] = tn_movie_budgets_df[col].str.replace('$', '').str.replace(',', '').astype(float)\n"
   ]
  },
  {
   "cell_type": "code",
   "execution_count": 29,
   "metadata": {},
   "outputs": [
    {
     "data": {
      "text/html": [
       "<div>\n",
       "<style scoped>\n",
       "    .dataframe tbody tr th:only-of-type {\n",
       "        vertical-align: middle;\n",
       "    }\n",
       "\n",
       "    .dataframe tbody tr th {\n",
       "        vertical-align: top;\n",
       "    }\n",
       "\n",
       "    .dataframe thead th {\n",
       "        text-align: right;\n",
       "    }\n",
       "</style>\n",
       "<table border=\"1\" class=\"dataframe\">\n",
       "  <thead>\n",
       "    <tr style=\"text-align: right;\">\n",
       "      <th></th>\n",
       "      <th>id</th>\n",
       "      <th>release_date</th>\n",
       "      <th>movie</th>\n",
       "      <th>production_budget</th>\n",
       "      <th>domestic_gross</th>\n",
       "      <th>worldwide_gross</th>\n",
       "    </tr>\n",
       "  </thead>\n",
       "  <tbody>\n",
       "    <tr>\n",
       "      <th>0</th>\n",
       "      <td>1</td>\n",
       "      <td>Dec 18, 2009</td>\n",
       "      <td>Avatar</td>\n",
       "      <td>425000000.0</td>\n",
       "      <td>760507625.0</td>\n",
       "      <td>2.776345e+09</td>\n",
       "    </tr>\n",
       "    <tr>\n",
       "      <th>1</th>\n",
       "      <td>2</td>\n",
       "      <td>May 20, 2011</td>\n",
       "      <td>Pirates of the Caribbean: On Stranger Tides</td>\n",
       "      <td>410600000.0</td>\n",
       "      <td>241063875.0</td>\n",
       "      <td>1.045664e+09</td>\n",
       "    </tr>\n",
       "    <tr>\n",
       "      <th>2</th>\n",
       "      <td>3</td>\n",
       "      <td>Jun 7, 2019</td>\n",
       "      <td>Dark Phoenix</td>\n",
       "      <td>350000000.0</td>\n",
       "      <td>42762350.0</td>\n",
       "      <td>1.497624e+08</td>\n",
       "    </tr>\n",
       "    <tr>\n",
       "      <th>3</th>\n",
       "      <td>4</td>\n",
       "      <td>May 1, 2015</td>\n",
       "      <td>Avengers: Age of Ultron</td>\n",
       "      <td>330600000.0</td>\n",
       "      <td>459005868.0</td>\n",
       "      <td>1.403014e+09</td>\n",
       "    </tr>\n",
       "    <tr>\n",
       "      <th>4</th>\n",
       "      <td>5</td>\n",
       "      <td>Dec 15, 2017</td>\n",
       "      <td>Star Wars Ep. VIII: The Last Jedi</td>\n",
       "      <td>317000000.0</td>\n",
       "      <td>620181382.0</td>\n",
       "      <td>1.316722e+09</td>\n",
       "    </tr>\n",
       "    <tr>\n",
       "      <th>...</th>\n",
       "      <td>...</td>\n",
       "      <td>...</td>\n",
       "      <td>...</td>\n",
       "      <td>...</td>\n",
       "      <td>...</td>\n",
       "      <td>...</td>\n",
       "    </tr>\n",
       "    <tr>\n",
       "      <th>5777</th>\n",
       "      <td>78</td>\n",
       "      <td>Dec 31, 2018</td>\n",
       "      <td>Red 11</td>\n",
       "      <td>7000.0</td>\n",
       "      <td>0.0</td>\n",
       "      <td>0.000000e+00</td>\n",
       "    </tr>\n",
       "    <tr>\n",
       "      <th>5778</th>\n",
       "      <td>79</td>\n",
       "      <td>Apr 2, 1999</td>\n",
       "      <td>Following</td>\n",
       "      <td>6000.0</td>\n",
       "      <td>48482.0</td>\n",
       "      <td>2.404950e+05</td>\n",
       "    </tr>\n",
       "    <tr>\n",
       "      <th>5779</th>\n",
       "      <td>80</td>\n",
       "      <td>Jul 13, 2005</td>\n",
       "      <td>Return to the Land of Wonders</td>\n",
       "      <td>5000.0</td>\n",
       "      <td>1338.0</td>\n",
       "      <td>1.338000e+03</td>\n",
       "    </tr>\n",
       "    <tr>\n",
       "      <th>5780</th>\n",
       "      <td>81</td>\n",
       "      <td>Sep 29, 2015</td>\n",
       "      <td>A Plague So Pleasant</td>\n",
       "      <td>1400.0</td>\n",
       "      <td>0.0</td>\n",
       "      <td>0.000000e+00</td>\n",
       "    </tr>\n",
       "    <tr>\n",
       "      <th>5781</th>\n",
       "      <td>82</td>\n",
       "      <td>Aug 5, 2005</td>\n",
       "      <td>My Date With Drew</td>\n",
       "      <td>1100.0</td>\n",
       "      <td>181041.0</td>\n",
       "      <td>1.810410e+05</td>\n",
       "    </tr>\n",
       "  </tbody>\n",
       "</table>\n",
       "<p>5782 rows × 6 columns</p>\n",
       "</div>"
      ],
      "text/plain": [
       "      id  release_date                                        movie  \\\n",
       "0      1  Dec 18, 2009                                       Avatar   \n",
       "1      2  May 20, 2011  Pirates of the Caribbean: On Stranger Tides   \n",
       "2      3   Jun 7, 2019                                 Dark Phoenix   \n",
       "3      4   May 1, 2015                      Avengers: Age of Ultron   \n",
       "4      5  Dec 15, 2017            Star Wars Ep. VIII: The Last Jedi   \n",
       "...   ..           ...                                          ...   \n",
       "5777  78  Dec 31, 2018                                       Red 11   \n",
       "5778  79   Apr 2, 1999                                    Following   \n",
       "5779  80  Jul 13, 2005                Return to the Land of Wonders   \n",
       "5780  81  Sep 29, 2015                         A Plague So Pleasant   \n",
       "5781  82   Aug 5, 2005                            My Date With Drew   \n",
       "\n",
       "      production_budget  domestic_gross  worldwide_gross  \n",
       "0           425000000.0     760507625.0     2.776345e+09  \n",
       "1           410600000.0     241063875.0     1.045664e+09  \n",
       "2           350000000.0      42762350.0     1.497624e+08  \n",
       "3           330600000.0     459005868.0     1.403014e+09  \n",
       "4           317000000.0     620181382.0     1.316722e+09  \n",
       "...                 ...             ...              ...  \n",
       "5777             7000.0             0.0     0.000000e+00  \n",
       "5778             6000.0         48482.0     2.404950e+05  \n",
       "5779             5000.0          1338.0     1.338000e+03  \n",
       "5780             1400.0             0.0     0.000000e+00  \n",
       "5781             1100.0        181041.0     1.810410e+05  \n",
       "\n",
       "[5782 rows x 6 columns]"
      ]
     },
     "execution_count": 29,
     "metadata": {},
     "output_type": "execute_result"
    }
   ],
   "source": [
    "# lets confirm if the dollar sign is removed\n",
    "tn_movie_budgets_df"
   ]
  },
  {
   "cell_type": "markdown",
   "metadata": {},
   "source": [
    "Now we can modify our column name for \"product_budget\",\"domestic_gross\",\"worlwide_gross\" and add the dollar sign on the columns name to specify that the columns data is in dollar denomination using the rename method\n",
    "\n",
    "For this we will use a dictionary to specify the modifications for each column name"
   ]
  },
  {
   "cell_type": "code",
   "execution_count": 30,
   "metadata": {},
   "outputs": [
    {
     "data": {
      "text/html": [
       "<div>\n",
       "<style scoped>\n",
       "    .dataframe tbody tr th:only-of-type {\n",
       "        vertical-align: middle;\n",
       "    }\n",
       "\n",
       "    .dataframe tbody tr th {\n",
       "        vertical-align: top;\n",
       "    }\n",
       "\n",
       "    .dataframe thead th {\n",
       "        text-align: right;\n",
       "    }\n",
       "</style>\n",
       "<table border=\"1\" class=\"dataframe\">\n",
       "  <thead>\n",
       "    <tr style=\"text-align: right;\">\n",
       "      <th></th>\n",
       "      <th>id</th>\n",
       "      <th>release_date</th>\n",
       "      <th>movie</th>\n",
       "      <th>production_budget $</th>\n",
       "      <th>domestic_gross $</th>\n",
       "      <th>worldwide_gross $</th>\n",
       "    </tr>\n",
       "  </thead>\n",
       "  <tbody>\n",
       "    <tr>\n",
       "      <th>0</th>\n",
       "      <td>1</td>\n",
       "      <td>Dec 18, 2009</td>\n",
       "      <td>Avatar</td>\n",
       "      <td>425000000.0</td>\n",
       "      <td>760507625.0</td>\n",
       "      <td>2.776345e+09</td>\n",
       "    </tr>\n",
       "    <tr>\n",
       "      <th>1</th>\n",
       "      <td>2</td>\n",
       "      <td>May 20, 2011</td>\n",
       "      <td>Pirates of the Caribbean: On Stranger Tides</td>\n",
       "      <td>410600000.0</td>\n",
       "      <td>241063875.0</td>\n",
       "      <td>1.045664e+09</td>\n",
       "    </tr>\n",
       "    <tr>\n",
       "      <th>2</th>\n",
       "      <td>3</td>\n",
       "      <td>Jun 7, 2019</td>\n",
       "      <td>Dark Phoenix</td>\n",
       "      <td>350000000.0</td>\n",
       "      <td>42762350.0</td>\n",
       "      <td>1.497624e+08</td>\n",
       "    </tr>\n",
       "    <tr>\n",
       "      <th>3</th>\n",
       "      <td>4</td>\n",
       "      <td>May 1, 2015</td>\n",
       "      <td>Avengers: Age of Ultron</td>\n",
       "      <td>330600000.0</td>\n",
       "      <td>459005868.0</td>\n",
       "      <td>1.403014e+09</td>\n",
       "    </tr>\n",
       "    <tr>\n",
       "      <th>4</th>\n",
       "      <td>5</td>\n",
       "      <td>Dec 15, 2017</td>\n",
       "      <td>Star Wars Ep. VIII: The Last Jedi</td>\n",
       "      <td>317000000.0</td>\n",
       "      <td>620181382.0</td>\n",
       "      <td>1.316722e+09</td>\n",
       "    </tr>\n",
       "    <tr>\n",
       "      <th>...</th>\n",
       "      <td>...</td>\n",
       "      <td>...</td>\n",
       "      <td>...</td>\n",
       "      <td>...</td>\n",
       "      <td>...</td>\n",
       "      <td>...</td>\n",
       "    </tr>\n",
       "    <tr>\n",
       "      <th>5777</th>\n",
       "      <td>78</td>\n",
       "      <td>Dec 31, 2018</td>\n",
       "      <td>Red 11</td>\n",
       "      <td>7000.0</td>\n",
       "      <td>0.0</td>\n",
       "      <td>0.000000e+00</td>\n",
       "    </tr>\n",
       "    <tr>\n",
       "      <th>5778</th>\n",
       "      <td>79</td>\n",
       "      <td>Apr 2, 1999</td>\n",
       "      <td>Following</td>\n",
       "      <td>6000.0</td>\n",
       "      <td>48482.0</td>\n",
       "      <td>2.404950e+05</td>\n",
       "    </tr>\n",
       "    <tr>\n",
       "      <th>5779</th>\n",
       "      <td>80</td>\n",
       "      <td>Jul 13, 2005</td>\n",
       "      <td>Return to the Land of Wonders</td>\n",
       "      <td>5000.0</td>\n",
       "      <td>1338.0</td>\n",
       "      <td>1.338000e+03</td>\n",
       "    </tr>\n",
       "    <tr>\n",
       "      <th>5780</th>\n",
       "      <td>81</td>\n",
       "      <td>Sep 29, 2015</td>\n",
       "      <td>A Plague So Pleasant</td>\n",
       "      <td>1400.0</td>\n",
       "      <td>0.0</td>\n",
       "      <td>0.000000e+00</td>\n",
       "    </tr>\n",
       "    <tr>\n",
       "      <th>5781</th>\n",
       "      <td>82</td>\n",
       "      <td>Aug 5, 2005</td>\n",
       "      <td>My Date With Drew</td>\n",
       "      <td>1100.0</td>\n",
       "      <td>181041.0</td>\n",
       "      <td>1.810410e+05</td>\n",
       "    </tr>\n",
       "  </tbody>\n",
       "</table>\n",
       "<p>5782 rows × 6 columns</p>\n",
       "</div>"
      ],
      "text/plain": [
       "      id  release_date                                        movie  \\\n",
       "0      1  Dec 18, 2009                                       Avatar   \n",
       "1      2  May 20, 2011  Pirates of the Caribbean: On Stranger Tides   \n",
       "2      3   Jun 7, 2019                                 Dark Phoenix   \n",
       "3      4   May 1, 2015                      Avengers: Age of Ultron   \n",
       "4      5  Dec 15, 2017            Star Wars Ep. VIII: The Last Jedi   \n",
       "...   ..           ...                                          ...   \n",
       "5777  78  Dec 31, 2018                                       Red 11   \n",
       "5778  79   Apr 2, 1999                                    Following   \n",
       "5779  80  Jul 13, 2005                Return to the Land of Wonders   \n",
       "5780  81  Sep 29, 2015                         A Plague So Pleasant   \n",
       "5781  82   Aug 5, 2005                            My Date With Drew   \n",
       "\n",
       "      production_budget $  domestic_gross $  worldwide_gross $  \n",
       "0             425000000.0       760507625.0       2.776345e+09  \n",
       "1             410600000.0       241063875.0       1.045664e+09  \n",
       "2             350000000.0        42762350.0       1.497624e+08  \n",
       "3             330600000.0       459005868.0       1.403014e+09  \n",
       "4             317000000.0       620181382.0       1.316722e+09  \n",
       "...                   ...               ...                ...  \n",
       "5777               7000.0               0.0       0.000000e+00  \n",
       "5778               6000.0           48482.0       2.404950e+05  \n",
       "5779               5000.0            1338.0       1.338000e+03  \n",
       "5780               1400.0               0.0       0.000000e+00  \n",
       "5781               1100.0          181041.0       1.810410e+05  \n",
       "\n",
       "[5782 rows x 6 columns]"
      ]
     },
     "execution_count": 30,
     "metadata": {},
     "output_type": "execute_result"
    }
   ],
   "source": [
    "# Renaming columns to add additional details\n",
    "tn_movie_budgets_df = tn_movie_budgets_df.rename(columns={\n",
    "              'production_budget':'production_budget $',\n",
    "              'domestic_gross':'domestic_gross $',\n",
    "              'worldwide_gross':'worldwide_gross $'\n",
    "              \n",
    "})\n",
    "tn_movie_budgets_df"
   ]
  },
  {
   "cell_type": "markdown",
   "metadata": {},
   "source": [
    "# 4. We open rt.movie_info.tsv and clean our data\n",
    "\n",
    "We apply the same process as the other dataframes"
   ]
  },
  {
   "cell_type": "markdown",
   "metadata": {},
   "source": [
    " We Load our data in a dataframe named rt_movie_df"
   ]
  },
  {
   "cell_type": "code",
   "execution_count": 31,
   "metadata": {},
   "outputs": [
    {
     "data": {
      "text/html": [
       "<div>\n",
       "<style scoped>\n",
       "    .dataframe tbody tr th:only-of-type {\n",
       "        vertical-align: middle;\n",
       "    }\n",
       "\n",
       "    .dataframe tbody tr th {\n",
       "        vertical-align: top;\n",
       "    }\n",
       "\n",
       "    .dataframe thead th {\n",
       "        text-align: right;\n",
       "    }\n",
       "</style>\n",
       "<table border=\"1\" class=\"dataframe\">\n",
       "  <thead>\n",
       "    <tr style=\"text-align: right;\">\n",
       "      <th></th>\n",
       "      <th>id</th>\n",
       "      <th>synopsis</th>\n",
       "      <th>rating</th>\n",
       "      <th>genre</th>\n",
       "      <th>director</th>\n",
       "      <th>writer</th>\n",
       "      <th>theater_date</th>\n",
       "      <th>dvd_date</th>\n",
       "      <th>currency</th>\n",
       "      <th>box_office</th>\n",
       "      <th>runtime</th>\n",
       "      <th>studio</th>\n",
       "    </tr>\n",
       "  </thead>\n",
       "  <tbody>\n",
       "    <tr>\n",
       "      <th>0</th>\n",
       "      <td>1</td>\n",
       "      <td>This gritty, fast-paced, and innovative police...</td>\n",
       "      <td>R</td>\n",
       "      <td>Action and Adventure|Classics|Drama</td>\n",
       "      <td>William Friedkin</td>\n",
       "      <td>Ernest Tidyman</td>\n",
       "      <td>Oct 9, 1971</td>\n",
       "      <td>Sep 25, 2001</td>\n",
       "      <td>NaN</td>\n",
       "      <td>NaN</td>\n",
       "      <td>104 minutes</td>\n",
       "      <td>NaN</td>\n",
       "    </tr>\n",
       "    <tr>\n",
       "      <th>1</th>\n",
       "      <td>3</td>\n",
       "      <td>New York City, not-too-distant-future: Eric Pa...</td>\n",
       "      <td>R</td>\n",
       "      <td>Drama|Science Fiction and Fantasy</td>\n",
       "      <td>David Cronenberg</td>\n",
       "      <td>David Cronenberg|Don DeLillo</td>\n",
       "      <td>Aug 17, 2012</td>\n",
       "      <td>Jan 1, 2013</td>\n",
       "      <td>$</td>\n",
       "      <td>600,000</td>\n",
       "      <td>108 minutes</td>\n",
       "      <td>Entertainment One</td>\n",
       "    </tr>\n",
       "    <tr>\n",
       "      <th>2</th>\n",
       "      <td>5</td>\n",
       "      <td>Illeana Douglas delivers a superb performance ...</td>\n",
       "      <td>R</td>\n",
       "      <td>Drama|Musical and Performing Arts</td>\n",
       "      <td>Allison Anders</td>\n",
       "      <td>Allison Anders</td>\n",
       "      <td>Sep 13, 1996</td>\n",
       "      <td>Apr 18, 2000</td>\n",
       "      <td>NaN</td>\n",
       "      <td>NaN</td>\n",
       "      <td>116 minutes</td>\n",
       "      <td>NaN</td>\n",
       "    </tr>\n",
       "    <tr>\n",
       "      <th>3</th>\n",
       "      <td>6</td>\n",
       "      <td>Michael Douglas runs afoul of a treacherous su...</td>\n",
       "      <td>R</td>\n",
       "      <td>Drama|Mystery and Suspense</td>\n",
       "      <td>Barry Levinson</td>\n",
       "      <td>Paul Attanasio|Michael Crichton</td>\n",
       "      <td>Dec 9, 1994</td>\n",
       "      <td>Aug 27, 1997</td>\n",
       "      <td>NaN</td>\n",
       "      <td>NaN</td>\n",
       "      <td>128 minutes</td>\n",
       "      <td>NaN</td>\n",
       "    </tr>\n",
       "    <tr>\n",
       "      <th>4</th>\n",
       "      <td>7</td>\n",
       "      <td>NaN</td>\n",
       "      <td>NR</td>\n",
       "      <td>Drama|Romance</td>\n",
       "      <td>Rodney Bennett</td>\n",
       "      <td>Giles Cooper</td>\n",
       "      <td>NaN</td>\n",
       "      <td>NaN</td>\n",
       "      <td>NaN</td>\n",
       "      <td>NaN</td>\n",
       "      <td>200 minutes</td>\n",
       "      <td>NaN</td>\n",
       "    </tr>\n",
       "    <tr>\n",
       "      <th>...</th>\n",
       "      <td>...</td>\n",
       "      <td>...</td>\n",
       "      <td>...</td>\n",
       "      <td>...</td>\n",
       "      <td>...</td>\n",
       "      <td>...</td>\n",
       "      <td>...</td>\n",
       "      <td>...</td>\n",
       "      <td>...</td>\n",
       "      <td>...</td>\n",
       "      <td>...</td>\n",
       "      <td>...</td>\n",
       "    </tr>\n",
       "    <tr>\n",
       "      <th>1555</th>\n",
       "      <td>1996</td>\n",
       "      <td>Forget terrorists or hijackers -- there's a ha...</td>\n",
       "      <td>R</td>\n",
       "      <td>Action and Adventure|Horror|Mystery and Suspense</td>\n",
       "      <td>NaN</td>\n",
       "      <td>NaN</td>\n",
       "      <td>Aug 18, 2006</td>\n",
       "      <td>Jan 2, 2007</td>\n",
       "      <td>$</td>\n",
       "      <td>33,886,034</td>\n",
       "      <td>106 minutes</td>\n",
       "      <td>New Line Cinema</td>\n",
       "    </tr>\n",
       "    <tr>\n",
       "      <th>1556</th>\n",
       "      <td>1997</td>\n",
       "      <td>The popular Saturday Night Live sketch was exp...</td>\n",
       "      <td>PG</td>\n",
       "      <td>Comedy|Science Fiction and Fantasy</td>\n",
       "      <td>Steve Barron</td>\n",
       "      <td>Terry Turner|Tom Davis|Dan Aykroyd|Bonnie Turner</td>\n",
       "      <td>Jul 23, 1993</td>\n",
       "      <td>Apr 17, 2001</td>\n",
       "      <td>NaN</td>\n",
       "      <td>NaN</td>\n",
       "      <td>88 minutes</td>\n",
       "      <td>Paramount Vantage</td>\n",
       "    </tr>\n",
       "    <tr>\n",
       "      <th>1557</th>\n",
       "      <td>1998</td>\n",
       "      <td>Based on a novel by Richard Powell, when the l...</td>\n",
       "      <td>G</td>\n",
       "      <td>Classics|Comedy|Drama|Musical and Performing Arts</td>\n",
       "      <td>Gordon Douglas</td>\n",
       "      <td>NaN</td>\n",
       "      <td>Jan 1, 1962</td>\n",
       "      <td>May 11, 2004</td>\n",
       "      <td>NaN</td>\n",
       "      <td>NaN</td>\n",
       "      <td>111 minutes</td>\n",
       "      <td>NaN</td>\n",
       "    </tr>\n",
       "    <tr>\n",
       "      <th>1558</th>\n",
       "      <td>1999</td>\n",
       "      <td>The Sandlot is a coming-of-age story about a g...</td>\n",
       "      <td>PG</td>\n",
       "      <td>Comedy|Drama|Kids and Family|Sports and Fitness</td>\n",
       "      <td>David Mickey Evans</td>\n",
       "      <td>David Mickey Evans|Robert Gunter</td>\n",
       "      <td>Apr 1, 1993</td>\n",
       "      <td>Jan 29, 2002</td>\n",
       "      <td>NaN</td>\n",
       "      <td>NaN</td>\n",
       "      <td>101 minutes</td>\n",
       "      <td>NaN</td>\n",
       "    </tr>\n",
       "    <tr>\n",
       "      <th>1559</th>\n",
       "      <td>2000</td>\n",
       "      <td>Suspended from the force, Paris cop Hubert is ...</td>\n",
       "      <td>R</td>\n",
       "      <td>Action and Adventure|Art House and Internation...</td>\n",
       "      <td>NaN</td>\n",
       "      <td>Luc Besson</td>\n",
       "      <td>Sep 27, 2001</td>\n",
       "      <td>Feb 11, 2003</td>\n",
       "      <td>NaN</td>\n",
       "      <td>NaN</td>\n",
       "      <td>94 minutes</td>\n",
       "      <td>Columbia Pictures</td>\n",
       "    </tr>\n",
       "  </tbody>\n",
       "</table>\n",
       "<p>1560 rows × 12 columns</p>\n",
       "</div>"
      ],
      "text/plain": [
       "        id                                           synopsis rating  \\\n",
       "0        1  This gritty, fast-paced, and innovative police...      R   \n",
       "1        3  New York City, not-too-distant-future: Eric Pa...      R   \n",
       "2        5  Illeana Douglas delivers a superb performance ...      R   \n",
       "3        6  Michael Douglas runs afoul of a treacherous su...      R   \n",
       "4        7                                                NaN     NR   \n",
       "...    ...                                                ...    ...   \n",
       "1555  1996  Forget terrorists or hijackers -- there's a ha...      R   \n",
       "1556  1997  The popular Saturday Night Live sketch was exp...     PG   \n",
       "1557  1998  Based on a novel by Richard Powell, when the l...      G   \n",
       "1558  1999  The Sandlot is a coming-of-age story about a g...     PG   \n",
       "1559  2000  Suspended from the force, Paris cop Hubert is ...      R   \n",
       "\n",
       "                                                  genre            director  \\\n",
       "0                   Action and Adventure|Classics|Drama    William Friedkin   \n",
       "1                     Drama|Science Fiction and Fantasy    David Cronenberg   \n",
       "2                     Drama|Musical and Performing Arts      Allison Anders   \n",
       "3                            Drama|Mystery and Suspense      Barry Levinson   \n",
       "4                                         Drama|Romance      Rodney Bennett   \n",
       "...                                                 ...                 ...   \n",
       "1555   Action and Adventure|Horror|Mystery and Suspense                 NaN   \n",
       "1556                 Comedy|Science Fiction and Fantasy        Steve Barron   \n",
       "1557  Classics|Comedy|Drama|Musical and Performing Arts      Gordon Douglas   \n",
       "1558    Comedy|Drama|Kids and Family|Sports and Fitness  David Mickey Evans   \n",
       "1559  Action and Adventure|Art House and Internation...                 NaN   \n",
       "\n",
       "                                                writer  theater_date  \\\n",
       "0                                       Ernest Tidyman   Oct 9, 1971   \n",
       "1                         David Cronenberg|Don DeLillo  Aug 17, 2012   \n",
       "2                                       Allison Anders  Sep 13, 1996   \n",
       "3                      Paul Attanasio|Michael Crichton   Dec 9, 1994   \n",
       "4                                         Giles Cooper           NaN   \n",
       "...                                                ...           ...   \n",
       "1555                                               NaN  Aug 18, 2006   \n",
       "1556  Terry Turner|Tom Davis|Dan Aykroyd|Bonnie Turner  Jul 23, 1993   \n",
       "1557                                               NaN   Jan 1, 1962   \n",
       "1558                  David Mickey Evans|Robert Gunter   Apr 1, 1993   \n",
       "1559                                        Luc Besson  Sep 27, 2001   \n",
       "\n",
       "          dvd_date currency  box_office      runtime             studio  \n",
       "0     Sep 25, 2001      NaN         NaN  104 minutes                NaN  \n",
       "1      Jan 1, 2013        $     600,000  108 minutes  Entertainment One  \n",
       "2     Apr 18, 2000      NaN         NaN  116 minutes                NaN  \n",
       "3     Aug 27, 1997      NaN         NaN  128 minutes                NaN  \n",
       "4              NaN      NaN         NaN  200 minutes                NaN  \n",
       "...            ...      ...         ...          ...                ...  \n",
       "1555   Jan 2, 2007        $  33,886,034  106 minutes    New Line Cinema  \n",
       "1556  Apr 17, 2001      NaN         NaN   88 minutes  Paramount Vantage  \n",
       "1557  May 11, 2004      NaN         NaN  111 minutes                NaN  \n",
       "1558  Jan 29, 2002      NaN         NaN  101 minutes                NaN  \n",
       "1559  Feb 11, 2003      NaN         NaN   94 minutes  Columbia Pictures  \n",
       "\n",
       "[1560 rows x 12 columns]"
      ]
     },
     "execution_count": 31,
     "metadata": {},
     "output_type": "execute_result"
    }
   ],
   "source": [
    "rt_movie_df = pd.read_csv(\"rt.movie_info.tsv\",sep='\\t')\n",
    "rt_movie_df"
   ]
  },
  {
   "cell_type": "code",
   "execution_count": 32,
   "metadata": {},
   "outputs": [
    {
     "data": {
      "text/plain": [
       "(1560, 12)"
      ]
     },
     "execution_count": 32,
     "metadata": {},
     "output_type": "execute_result"
    }
   ],
   "source": [
    "#look for rt_movie_df shape\n",
    "rt_movie_df.shape"
   ]
  },
  {
   "cell_type": "code",
   "execution_count": 33,
   "metadata": {},
   "outputs": [
    {
     "name": "stdout",
     "output_type": "stream",
     "text": [
      "<class 'pandas.core.frame.DataFrame'>\n",
      "RangeIndex: 1560 entries, 0 to 1559\n",
      "Data columns (total 12 columns):\n",
      " #   Column        Non-Null Count  Dtype \n",
      "---  ------        --------------  ----- \n",
      " 0   id            1560 non-null   int64 \n",
      " 1   synopsis      1498 non-null   object\n",
      " 2   rating        1557 non-null   object\n",
      " 3   genre         1552 non-null   object\n",
      " 4   director      1361 non-null   object\n",
      " 5   writer        1111 non-null   object\n",
      " 6   theater_date  1201 non-null   object\n",
      " 7   dvd_date      1201 non-null   object\n",
      " 8   currency      340 non-null    object\n",
      " 9   box_office    340 non-null    object\n",
      " 10  runtime       1530 non-null   object\n",
      " 11  studio        494 non-null    object\n",
      "dtypes: int64(1), object(11)\n",
      "memory usage: 146.4+ KB\n"
     ]
    }
   ],
   "source": [
    "# Looking for our dataframe info\n",
    "rt_movie_df.info()"
   ]
  },
  {
   "cell_type": "code",
   "execution_count": 34,
   "metadata": {},
   "outputs": [
    {
     "data": {
      "text/plain": [
       "id               0.000000\n",
       "synopsis         3.974359\n",
       "rating           0.192308\n",
       "genre            0.512821\n",
       "director        12.756410\n",
       "writer          28.782051\n",
       "theater_date    23.012821\n",
       "dvd_date        23.012821\n",
       "currency        78.205128\n",
       "box_office      78.205128\n",
       "runtime          1.923077\n",
       "studio          68.333333\n",
       "dtype: float64"
      ]
     },
     "execution_count": 34,
     "metadata": {},
     "output_type": "execute_result"
    }
   ],
   "source": [
    "#percentage for missing values\n",
    "rt_missing_value_percentage =rt_movie_df.isnull().mean() *100\n",
    "rt_missing_value_percentage"
   ]
  },
  {
   "cell_type": "code",
   "execution_count": 35,
   "metadata": {},
   "outputs": [
    {
     "data": {
      "text/plain": [
       "'\\nThe data types seem to line up with what we expect. The columns\\ncontaining strings are type object, and we only have one int column which is id \\ncolumn.\\n\\nWe can see that there are alot of missing values in the dataset,\\nbut since our main focus will be on rating,genre and rutime columns\\nwe can try and fix the missing values for the three columns,\\nbased on the percentage of some columns e.g box_offece,currency,studio\\nwe have more than half of the data missing.\\n'"
      ]
     },
     "execution_count": 35,
     "metadata": {},
     "output_type": "execute_result"
    }
   ],
   "source": [
    "\"\"\"\n",
    "The data types seem to line up with what we expect. The columns\n",
    "containing strings are type object, and we only have one int column which is id \n",
    "column.\n",
    "\n",
    "We can see that there are alot of missing values in the dataset,\n",
    "but since our main focus will be on rating,genre and rutime columns\n",
    "we can try and fix the missing values for the three columns,\n",
    "based on the percentage of some columns e.g box_offece,currency,studio\n",
    "we have more than half of the data missing.\n",
    "\"\"\""
   ]
  },
  {
   "cell_type": "markdown",
   "metadata": {},
   "source": [
    "We check the value_counts for the three columns so we can understand the data stored in them well"
   ]
  },
  {
   "cell_type": "code",
   "execution_count": 36,
   "metadata": {},
   "outputs": [
    {
     "data": {
      "text/plain": [
       "R        521\n",
       "NR       503\n",
       "PG       240\n",
       "PG-13    235\n",
       "G         57\n",
       "NC17       1\n",
       "Name: rating, dtype: int64"
      ]
     },
     "execution_count": 36,
     "metadata": {},
     "output_type": "execute_result"
    }
   ],
   "source": [
    "#Checking rating value_count\n",
    "rt_movie_df[\"rating\"].value_counts()"
   ]
  },
  {
   "cell_type": "code",
   "execution_count": 37,
   "metadata": {},
   "outputs": [
    {
     "data": {
      "text/plain": [
       "<bound method IndexOpsMixin.value_counts of 0                     Action and Adventure|Classics|Drama\n",
       "1                       Drama|Science Fiction and Fantasy\n",
       "2                       Drama|Musical and Performing Arts\n",
       "3                              Drama|Mystery and Suspense\n",
       "4                                           Drama|Romance\n",
       "                              ...                        \n",
       "1555     Action and Adventure|Horror|Mystery and Suspense\n",
       "1556                   Comedy|Science Fiction and Fantasy\n",
       "1557    Classics|Comedy|Drama|Musical and Performing Arts\n",
       "1558      Comedy|Drama|Kids and Family|Sports and Fitness\n",
       "1559    Action and Adventure|Art House and Internation...\n",
       "Name: genre, Length: 1560, dtype: object>"
      ]
     },
     "execution_count": 37,
     "metadata": {},
     "output_type": "execute_result"
    }
   ],
   "source": [
    "#Checking genre value_count\n",
    "rt_movie_df[\"genre\"].value_counts"
   ]
  },
  {
   "cell_type": "code",
   "execution_count": 38,
   "metadata": {},
   "outputs": [
    {
     "data": {
      "text/plain": [
       "90 minutes     72\n",
       "95 minutes     66\n",
       "100 minutes    51\n",
       "93 minutes     47\n",
       "96 minutes     43\n",
       "               ..\n",
       "229 minutes     1\n",
       "192 minutes     1\n",
       "240 minutes     1\n",
       "183 minutes     1\n",
       "166 minutes     1\n",
       "Name: runtime, Length: 142, dtype: int64"
      ]
     },
     "execution_count": 38,
     "metadata": {},
     "output_type": "execute_result"
    }
   ],
   "source": [
    "#checking runtime_count\n",
    "rt_movie_df[\"runtime\"].value_counts()"
   ]
  },
  {
   "cell_type": "markdown",
   "metadata": {},
   "source": [
    "# Handling missing values for \"rating\",\"genre\",and \"runtime\" columns for our rt_movie_df\n",
    "\n",
    "In the analysis of the dataset,drop rows with missing  values from columns rating,genre and runtime because the proportion of missing values is \n",
    "relatively small,affecting less than 5% of the total dataset. This minimal impact justifies the removal of these rows as it does not significantly alter the \n",
    "overall dataset or the findings derived from it. I  considered alternative methods such as imputation,but it seemed that the method will not  be suitable for\n",
    "my context. Imputation could introduce additional bias,especially with the limited number of missing values, and may not accurately reflect the underlying data\n",
    "patterns"
   ]
  },
  {
   "cell_type": "markdown",
   "metadata": {},
   "source": [
    "Lets handle our missing values as mentioned above\n"
   ]
  },
  {
   "cell_type": "code",
   "execution_count": 39,
   "metadata": {},
   "outputs": [],
   "source": [
    "# We start by selecting the relevant columns in a variable named columns_of_interest\n",
    "columns_of_interest = [\"rating\",\"genre\",\"runtime\"]\n",
    "rt_movie_selected_df = rt_movie_df[columns_of_interest]\n",
    "#drop rows with missing data\n",
    "#we rename dataframe to rt_movie_dropped_df so as not to interfear with the original dataframe\n",
    "rt_movie_df = rt_movie_selected_df.dropna()"
   ]
  },
  {
   "cell_type": "code",
   "execution_count": 40,
   "metadata": {},
   "outputs": [
    {
     "data": {
      "text/html": [
       "<div>\n",
       "<style scoped>\n",
       "    .dataframe tbody tr th:only-of-type {\n",
       "        vertical-align: middle;\n",
       "    }\n",
       "\n",
       "    .dataframe tbody tr th {\n",
       "        vertical-align: top;\n",
       "    }\n",
       "\n",
       "    .dataframe thead th {\n",
       "        text-align: right;\n",
       "    }\n",
       "</style>\n",
       "<table border=\"1\" class=\"dataframe\">\n",
       "  <thead>\n",
       "    <tr style=\"text-align: right;\">\n",
       "      <th></th>\n",
       "      <th>rating</th>\n",
       "      <th>genre</th>\n",
       "      <th>runtime</th>\n",
       "    </tr>\n",
       "  </thead>\n",
       "  <tbody>\n",
       "    <tr>\n",
       "      <th>0</th>\n",
       "      <td>R</td>\n",
       "      <td>Action and Adventure|Classics|Drama</td>\n",
       "      <td>104 minutes</td>\n",
       "    </tr>\n",
       "    <tr>\n",
       "      <th>1</th>\n",
       "      <td>R</td>\n",
       "      <td>Drama|Science Fiction and Fantasy</td>\n",
       "      <td>108 minutes</td>\n",
       "    </tr>\n",
       "    <tr>\n",
       "      <th>2</th>\n",
       "      <td>R</td>\n",
       "      <td>Drama|Musical and Performing Arts</td>\n",
       "      <td>116 minutes</td>\n",
       "    </tr>\n",
       "    <tr>\n",
       "      <th>3</th>\n",
       "      <td>R</td>\n",
       "      <td>Drama|Mystery and Suspense</td>\n",
       "      <td>128 minutes</td>\n",
       "    </tr>\n",
       "    <tr>\n",
       "      <th>4</th>\n",
       "      <td>NR</td>\n",
       "      <td>Drama|Romance</td>\n",
       "      <td>200 minutes</td>\n",
       "    </tr>\n",
       "    <tr>\n",
       "      <th>...</th>\n",
       "      <td>...</td>\n",
       "      <td>...</td>\n",
       "      <td>...</td>\n",
       "    </tr>\n",
       "    <tr>\n",
       "      <th>1555</th>\n",
       "      <td>R</td>\n",
       "      <td>Action and Adventure|Horror|Mystery and Suspense</td>\n",
       "      <td>106 minutes</td>\n",
       "    </tr>\n",
       "    <tr>\n",
       "      <th>1556</th>\n",
       "      <td>PG</td>\n",
       "      <td>Comedy|Science Fiction and Fantasy</td>\n",
       "      <td>88 minutes</td>\n",
       "    </tr>\n",
       "    <tr>\n",
       "      <th>1557</th>\n",
       "      <td>G</td>\n",
       "      <td>Classics|Comedy|Drama|Musical and Performing Arts</td>\n",
       "      <td>111 minutes</td>\n",
       "    </tr>\n",
       "    <tr>\n",
       "      <th>1558</th>\n",
       "      <td>PG</td>\n",
       "      <td>Comedy|Drama|Kids and Family|Sports and Fitness</td>\n",
       "      <td>101 minutes</td>\n",
       "    </tr>\n",
       "    <tr>\n",
       "      <th>1559</th>\n",
       "      <td>R</td>\n",
       "      <td>Action and Adventure|Art House and Internation...</td>\n",
       "      <td>94 minutes</td>\n",
       "    </tr>\n",
       "  </tbody>\n",
       "</table>\n",
       "<p>1526 rows × 3 columns</p>\n",
       "</div>"
      ],
      "text/plain": [
       "     rating                                              genre      runtime\n",
       "0         R                Action and Adventure|Classics|Drama  104 minutes\n",
       "1         R                  Drama|Science Fiction and Fantasy  108 minutes\n",
       "2         R                  Drama|Musical and Performing Arts  116 minutes\n",
       "3         R                         Drama|Mystery and Suspense  128 minutes\n",
       "4        NR                                      Drama|Romance  200 minutes\n",
       "...     ...                                                ...          ...\n",
       "1555      R   Action and Adventure|Horror|Mystery and Suspense  106 minutes\n",
       "1556     PG                 Comedy|Science Fiction and Fantasy   88 minutes\n",
       "1557      G  Classics|Comedy|Drama|Musical and Performing Arts  111 minutes\n",
       "1558     PG    Comedy|Drama|Kids and Family|Sports and Fitness  101 minutes\n",
       "1559      R  Action and Adventure|Art House and Internation...   94 minutes\n",
       "\n",
       "[1526 rows x 3 columns]"
      ]
     },
     "execution_count": 40,
     "metadata": {},
     "output_type": "execute_result"
    }
   ],
   "source": [
    "rt_movie_df"
   ]
  },
  {
   "cell_type": "code",
   "execution_count": 41,
   "metadata": {},
   "outputs": [
    {
     "name": "stdout",
     "output_type": "stream",
     "text": [
      "<class 'pandas.core.frame.DataFrame'>\n",
      "Int64Index: 1526 entries, 0 to 1559\n",
      "Data columns (total 3 columns):\n",
      " #   Column   Non-Null Count  Dtype \n",
      "---  ------   --------------  ----- \n",
      " 0   rating   1526 non-null   object\n",
      " 1   genre    1526 non-null   object\n",
      " 2   runtime  1526 non-null   object\n",
      "dtypes: object(3)\n",
      "memory usage: 47.7+ KB\n"
     ]
    }
   ],
   "source": [
    "rt_movie_df.info()"
   ]
  },
  {
   "cell_type": "markdown",
   "metadata": {},
   "source": [
    "# 5. We open \"bom.movie_gross.csv\"and clean the dataset\n",
    "\n",
    "We apply the same techniques as our previous dataset and open our file in a variable named \"bom_movie_df\""
   ]
  },
  {
   "cell_type": "code",
   "execution_count": 42,
   "metadata": {},
   "outputs": [
    {
     "data": {
      "text/html": [
       "<div>\n",
       "<style scoped>\n",
       "    .dataframe tbody tr th:only-of-type {\n",
       "        vertical-align: middle;\n",
       "    }\n",
       "\n",
       "    .dataframe tbody tr th {\n",
       "        vertical-align: top;\n",
       "    }\n",
       "\n",
       "    .dataframe thead th {\n",
       "        text-align: right;\n",
       "    }\n",
       "</style>\n",
       "<table border=\"1\" class=\"dataframe\">\n",
       "  <thead>\n",
       "    <tr style=\"text-align: right;\">\n",
       "      <th></th>\n",
       "      <th>title</th>\n",
       "      <th>studio</th>\n",
       "      <th>domestic_gross</th>\n",
       "      <th>foreign_gross</th>\n",
       "      <th>year</th>\n",
       "    </tr>\n",
       "  </thead>\n",
       "  <tbody>\n",
       "    <tr>\n",
       "      <th>0</th>\n",
       "      <td>Toy Story 3</td>\n",
       "      <td>BV</td>\n",
       "      <td>415000000.0</td>\n",
       "      <td>652000000</td>\n",
       "      <td>2010</td>\n",
       "    </tr>\n",
       "    <tr>\n",
       "      <th>1</th>\n",
       "      <td>Alice in Wonderland (2010)</td>\n",
       "      <td>BV</td>\n",
       "      <td>334200000.0</td>\n",
       "      <td>691300000</td>\n",
       "      <td>2010</td>\n",
       "    </tr>\n",
       "    <tr>\n",
       "      <th>2</th>\n",
       "      <td>Harry Potter and the Deathly Hallows Part 1</td>\n",
       "      <td>WB</td>\n",
       "      <td>296000000.0</td>\n",
       "      <td>664300000</td>\n",
       "      <td>2010</td>\n",
       "    </tr>\n",
       "    <tr>\n",
       "      <th>3</th>\n",
       "      <td>Inception</td>\n",
       "      <td>WB</td>\n",
       "      <td>292600000.0</td>\n",
       "      <td>535700000</td>\n",
       "      <td>2010</td>\n",
       "    </tr>\n",
       "    <tr>\n",
       "      <th>4</th>\n",
       "      <td>Shrek Forever After</td>\n",
       "      <td>P/DW</td>\n",
       "      <td>238700000.0</td>\n",
       "      <td>513900000</td>\n",
       "      <td>2010</td>\n",
       "    </tr>\n",
       "    <tr>\n",
       "      <th>...</th>\n",
       "      <td>...</td>\n",
       "      <td>...</td>\n",
       "      <td>...</td>\n",
       "      <td>...</td>\n",
       "      <td>...</td>\n",
       "    </tr>\n",
       "    <tr>\n",
       "      <th>3382</th>\n",
       "      <td>The Quake</td>\n",
       "      <td>Magn.</td>\n",
       "      <td>6200.0</td>\n",
       "      <td>NaN</td>\n",
       "      <td>2018</td>\n",
       "    </tr>\n",
       "    <tr>\n",
       "      <th>3383</th>\n",
       "      <td>Edward II (2018 re-release)</td>\n",
       "      <td>FM</td>\n",
       "      <td>4800.0</td>\n",
       "      <td>NaN</td>\n",
       "      <td>2018</td>\n",
       "    </tr>\n",
       "    <tr>\n",
       "      <th>3384</th>\n",
       "      <td>El Pacto</td>\n",
       "      <td>Sony</td>\n",
       "      <td>2500.0</td>\n",
       "      <td>NaN</td>\n",
       "      <td>2018</td>\n",
       "    </tr>\n",
       "    <tr>\n",
       "      <th>3385</th>\n",
       "      <td>The Swan</td>\n",
       "      <td>Synergetic</td>\n",
       "      <td>2400.0</td>\n",
       "      <td>NaN</td>\n",
       "      <td>2018</td>\n",
       "    </tr>\n",
       "    <tr>\n",
       "      <th>3386</th>\n",
       "      <td>An Actor Prepares</td>\n",
       "      <td>Grav.</td>\n",
       "      <td>1700.0</td>\n",
       "      <td>NaN</td>\n",
       "      <td>2018</td>\n",
       "    </tr>\n",
       "  </tbody>\n",
       "</table>\n",
       "<p>3387 rows × 5 columns</p>\n",
       "</div>"
      ],
      "text/plain": [
       "                                            title      studio  domestic_gross  \\\n",
       "0                                     Toy Story 3          BV     415000000.0   \n",
       "1                      Alice in Wonderland (2010)          BV     334200000.0   \n",
       "2     Harry Potter and the Deathly Hallows Part 1          WB     296000000.0   \n",
       "3                                       Inception          WB     292600000.0   \n",
       "4                             Shrek Forever After        P/DW     238700000.0   \n",
       "...                                           ...         ...             ...   \n",
       "3382                                    The Quake       Magn.          6200.0   \n",
       "3383                  Edward II (2018 re-release)          FM          4800.0   \n",
       "3384                                     El Pacto        Sony          2500.0   \n",
       "3385                                     The Swan  Synergetic          2400.0   \n",
       "3386                            An Actor Prepares       Grav.          1700.0   \n",
       "\n",
       "     foreign_gross  year  \n",
       "0        652000000  2010  \n",
       "1        691300000  2010  \n",
       "2        664300000  2010  \n",
       "3        535700000  2010  \n",
       "4        513900000  2010  \n",
       "...            ...   ...  \n",
       "3382           NaN  2018  \n",
       "3383           NaN  2018  \n",
       "3384           NaN  2018  \n",
       "3385           NaN  2018  \n",
       "3386           NaN  2018  \n",
       "\n",
       "[3387 rows x 5 columns]"
      ]
     },
     "execution_count": 42,
     "metadata": {},
     "output_type": "execute_result"
    }
   ],
   "source": [
    "#opening dataset\n",
    "bom_movie_gross_df = pd.read_csv(\"bom.movie_gross.csv\")\n",
    "bom_movie_gross_df"
   ]
  },
  {
   "cell_type": "code",
   "execution_count": 43,
   "metadata": {},
   "outputs": [
    {
     "data": {
      "text/plain": [
       "(3387, 5)"
      ]
     },
     "execution_count": 43,
     "metadata": {},
     "output_type": "execute_result"
    }
   ],
   "source": [
    "#look  at the shape of dataframe\n",
    "bom_movie_gross_df.shape"
   ]
  },
  {
   "cell_type": "code",
   "execution_count": 44,
   "metadata": {},
   "outputs": [
    {
     "name": "stdout",
     "output_type": "stream",
     "text": [
      "<class 'pandas.core.frame.DataFrame'>\n",
      "RangeIndex: 3387 entries, 0 to 3386\n",
      "Data columns (total 5 columns):\n",
      " #   Column          Non-Null Count  Dtype  \n",
      "---  ------          --------------  -----  \n",
      " 0   title           3387 non-null   object \n",
      " 1   studio          3382 non-null   object \n",
      " 2   domestic_gross  3359 non-null   float64\n",
      " 3   foreign_gross   2037 non-null   object \n",
      " 4   year            3387 non-null   int64  \n",
      "dtypes: float64(1), int64(1), object(3)\n",
      "memory usage: 132.4+ KB\n"
     ]
    }
   ],
   "source": [
    "# Get info printout\n",
    "bom_movie_gross_df.info()"
   ]
  },
  {
   "cell_type": "code",
   "execution_count": 45,
   "metadata": {},
   "outputs": [
    {
     "data": {
      "text/plain": [
       "title              0.000000\n",
       "studio             0.147623\n",
       "domestic_gross     0.826690\n",
       "foreign_gross     39.858282\n",
       "year               0.000000\n",
       "dtype: float64"
      ]
     },
     "execution_count": 45,
     "metadata": {},
     "output_type": "execute_result"
    }
   ],
   "source": [
    "#percentage for missing values\n",
    "bom_missing_value_percentage = bom_movie_gross_df.isnull().mean() *100\n",
    "bom_missing_value_percentage"
   ]
  },
  {
   "cell_type": "markdown",
   "metadata": {},
   "source": [
    "# Handling missing values for our dataset\n"
   ]
  },
  {
   "cell_type": "markdown",
   "metadata": {},
   "source": [
    " We will start with our studio\n",
    " \n",
    " For studio we only have 5 missing values,which is less than 1% of the data .Since studio contains categorical data we can replace the missing studio names with the most frequent.\n",
    " The reason for Replacing missing data will help us maintain integrity of our data and consistency which is crucial for accurate analysis and reporting.\n",
    " Also i assumed that the nature of the missing data is at random,so imputing with mode(most frequent value) will be a reasonable approach because it\n",
    " reflects the  most common occurrence in the dataset"
   ]
  },
  {
   "cell_type": "code",
   "execution_count": 46,
   "metadata": {},
   "outputs": [],
   "source": [
    "# for 'studio' column which contains categorical data\n",
    "# we impute the missing values by replacing them with the most common name\n",
    "bom_movie_gross_df[\"studio\"].fillna(bom_movie_gross_df[\"studio\"].mode()[0],inplace=True)"
   ]
  },
  {
   "cell_type": "markdown",
   "metadata": {},
   "source": [
    "# We handle missing value from domestic_gross column\n",
    "\n",
    "For Domestic_gross column  which has also less than 1% of missing data,we will also apply the same technique as the studio column and impute the missing value but since Domestic_gross has numeric values\n",
    "we'll replace missing values with the mean of the column"
   ]
  },
  {
   "cell_type": "code",
   "execution_count": 47,
   "metadata": {},
   "outputs": [
    {
     "data": {
      "text/plain": [
       "28"
      ]
     },
     "execution_count": 47,
     "metadata": {},
     "output_type": "execute_result"
    }
   ],
   "source": [
    "#for domestic_gross column with numerical data we use mean to replace missing values\n",
    "#we identify the missing values from domestic_gross column\n",
    "bom_movie_gross_df[\"domestic_gross\"].isnull().sum()"
   ]
  },
  {
   "cell_type": "code",
   "execution_count": 48,
   "metadata": {},
   "outputs": [
    {
     "data": {
      "text/plain": [
       "28745845.06698422"
      ]
     },
     "execution_count": 48,
     "metadata": {},
     "output_type": "execute_result"
    }
   ],
   "source": [
    "#now we calculate the mean of the domestic_gross column(excluding missing values)\n",
    "mean_domestic_gross = bom_movie_gross_df[\"domestic_gross\"].mean()\n",
    "mean_domestic_gross"
   ]
  },
  {
   "cell_type": "code",
   "execution_count": 49,
   "metadata": {},
   "outputs": [],
   "source": [
    "# Now we replace missing values with mean\n",
    "bom_movie_gross_df[\"domestic_gross\"].fillna(mean_domestic_gross,inplace=True)"
   ]
  },
  {
   "cell_type": "markdown",
   "metadata": {},
   "source": [
    "# Handling missing values from foreign_gross column\n",
    "\n",
    "For our foreign_gross column we'll consider zero imputation method since we have so many missing values at the percentage of 39.8% and we can not use mean since we will mess with our data quality and integrity\n",
    "of our data\n",
    "\n",
    "First lets look how many missing values we have\n"
   ]
  },
  {
   "cell_type": "code",
   "execution_count": 50,
   "metadata": {},
   "outputs": [
    {
     "data": {
      "text/plain": [
       "1350"
      ]
     },
     "execution_count": 50,
     "metadata": {},
     "output_type": "execute_result"
    }
   ],
   "source": [
    "bom_movie_gross_df[\"foreign_gross\"].isna().sum()"
   ]
  },
  {
   "cell_type": "code",
   "execution_count": 51,
   "metadata": {},
   "outputs": [],
   "source": [
    "#we use zero imputation to replace all the 1350 missing values\n",
    "bom_movie_gross_df[\"foreign_gross\"].fillna(0,inplace=True)"
   ]
  },
  {
   "cell_type": "markdown",
   "metadata": {},
   "source": [
    "Now lets check our dataframe info and see if we have any missing values after cleaning our columns\n"
   ]
  },
  {
   "cell_type": "code",
   "execution_count": 52,
   "metadata": {},
   "outputs": [
    {
     "name": "stdout",
     "output_type": "stream",
     "text": [
      "<class 'pandas.core.frame.DataFrame'>\n",
      "RangeIndex: 3387 entries, 0 to 3386\n",
      "Data columns (total 5 columns):\n",
      " #   Column          Non-Null Count  Dtype  \n",
      "---  ------          --------------  -----  \n",
      " 0   title           3387 non-null   object \n",
      " 1   studio          3387 non-null   object \n",
      " 2   domestic_gross  3387 non-null   float64\n",
      " 3   foreign_gross   3387 non-null   object \n",
      " 4   year            3387 non-null   int64  \n",
      "dtypes: float64(1), int64(1), object(3)\n",
      "memory usage: 132.4+ KB\n"
     ]
    }
   ],
   "source": [
    "bom_movie_gross_df.info()"
   ]
  },
  {
   "cell_type": "markdown",
   "metadata": {},
   "source": [
    " Explaining the above cell"
   ]
  },
  {
   "cell_type": "code",
   "execution_count": 53,
   "metadata": {},
   "outputs": [
    {
     "data": {
      "text/plain": [
       "' \\n Data preprocessing and missing value imputation for our \"bom.movie_gross.csv\"\\n is now completed,Various strategies were employed to handle missing values.\\n Missing values in \"foreigh_gross\" were imputed using zero imputation technique\\n to account for the large number of missing values.\\n The dataset is now ready forfurther analysis\\n '"
      ]
     },
     "execution_count": 53,
     "metadata": {},
     "output_type": "execute_result"
    }
   ],
   "source": [
    "\"\"\" \n",
    " Data preprocessing and missing value imputation for our \"bom.movie_gross.csv\"\n",
    " is now completed,Various strategies were employed to handle missing values.\n",
    " Missing values in \"foreigh_gross\" were imputed using zero imputation technique\n",
    " to account for the large number of missing values.\n",
    " The dataset is now ready forfurther analysis\n",
    " \"\"\""
   ]
  },
  {
   "cell_type": "markdown",
   "metadata": {},
   "source": [
    "We have successfully completed the data cleaning process for five datasets.Each dataset has been meticulously processed to ensure accuracy and consistency.\n",
    "\n",
    "This involved\n",
    "- Handling missing values\n",
    "- Correcting data types\n",
    "- Verifying data integrity\n",
    "\n",
    "With the data now clean  and ready, we are moving on to the next phase: analysis. This stage will involve:\n",
    "\n",
    "- Conducting exploratory data analysis(EDA) to uncover initial insights\n",
    "- Identifying key trends and patterns\n",
    "- Performing statistical analysis\n",
    "- Creating visualization to aid in understanding the data\n",
    "\n",
    "The analysis will help us derive  meaningful insights and actionable recommendations based on the data\n",
    "\n",
    "\n"
   ]
  },
  {
   "cell_type": "markdown",
   "metadata": {},
   "source": [
    "# Lets get started with our data analysis using our cleaned columns"
   ]
  },
  {
   "cell_type": "markdown",
   "metadata": {},
   "source": [
    "# 1.1 We start with our \"tmdb.movies.csv\" \n",
    "\n"
   ]
  },
  {
   "cell_type": "markdown",
   "metadata": {},
   "source": [
    "# Answering question"
   ]
  },
  {
   "cell_type": "markdown",
   "metadata": {},
   "source": [
    "Using \"tmdb.movies.csv cleaned dataset\n",
    "\n",
    "# Descriptive Analysis\n",
    "\n",
    "1. Popularity and vote metrics:\n",
    "\n",
    "Distribution of popularity scores\n",
    "\n",
    "Lets look at the summary of our dataset using the describe() method to get the central tendency,dispersion and the shape of our dataset distribution"
   ]
  },
  {
   "cell_type": "code",
   "execution_count": 54,
   "metadata": {},
   "outputs": [
    {
     "data": {
      "text/html": [
       "<div>\n",
       "<style scoped>\n",
       "    .dataframe tbody tr th:only-of-type {\n",
       "        vertical-align: middle;\n",
       "    }\n",
       "\n",
       "    .dataframe tbody tr th {\n",
       "        vertical-align: top;\n",
       "    }\n",
       "\n",
       "    .dataframe thead th {\n",
       "        text-align: right;\n",
       "    }\n",
       "</style>\n",
       "<table border=\"1\" class=\"dataframe\">\n",
       "  <thead>\n",
       "    <tr style=\"text-align: right;\">\n",
       "      <th></th>\n",
       "      <th>id</th>\n",
       "      <th>popularity</th>\n",
       "      <th>vote_average</th>\n",
       "      <th>vote_count</th>\n",
       "    </tr>\n",
       "  </thead>\n",
       "  <tbody>\n",
       "    <tr>\n",
       "      <th>count</th>\n",
       "      <td>26517.000000</td>\n",
       "      <td>26517.000000</td>\n",
       "      <td>26517.000000</td>\n",
       "      <td>26517.000000</td>\n",
       "    </tr>\n",
       "    <tr>\n",
       "      <th>mean</th>\n",
       "      <td>295050.153260</td>\n",
       "      <td>3.130912</td>\n",
       "      <td>5.991281</td>\n",
       "      <td>194.224837</td>\n",
       "    </tr>\n",
       "    <tr>\n",
       "      <th>std</th>\n",
       "      <td>153661.615648</td>\n",
       "      <td>4.355229</td>\n",
       "      <td>1.852946</td>\n",
       "      <td>960.961095</td>\n",
       "    </tr>\n",
       "    <tr>\n",
       "      <th>min</th>\n",
       "      <td>27.000000</td>\n",
       "      <td>0.600000</td>\n",
       "      <td>0.000000</td>\n",
       "      <td>1.000000</td>\n",
       "    </tr>\n",
       "    <tr>\n",
       "      <th>25%</th>\n",
       "      <td>157851.000000</td>\n",
       "      <td>0.600000</td>\n",
       "      <td>5.000000</td>\n",
       "      <td>2.000000</td>\n",
       "    </tr>\n",
       "    <tr>\n",
       "      <th>50%</th>\n",
       "      <td>309581.000000</td>\n",
       "      <td>1.374000</td>\n",
       "      <td>6.000000</td>\n",
       "      <td>5.000000</td>\n",
       "    </tr>\n",
       "    <tr>\n",
       "      <th>75%</th>\n",
       "      <td>419542.000000</td>\n",
       "      <td>3.694000</td>\n",
       "      <td>7.000000</td>\n",
       "      <td>28.000000</td>\n",
       "    </tr>\n",
       "    <tr>\n",
       "      <th>max</th>\n",
       "      <td>608444.000000</td>\n",
       "      <td>80.773000</td>\n",
       "      <td>10.000000</td>\n",
       "      <td>22186.000000</td>\n",
       "    </tr>\n",
       "  </tbody>\n",
       "</table>\n",
       "</div>"
      ],
      "text/plain": [
       "                  id    popularity  vote_average    vote_count\n",
       "count   26517.000000  26517.000000  26517.000000  26517.000000\n",
       "mean   295050.153260      3.130912      5.991281    194.224837\n",
       "std    153661.615648      4.355229      1.852946    960.961095\n",
       "min        27.000000      0.600000      0.000000      1.000000\n",
       "25%    157851.000000      0.600000      5.000000      2.000000\n",
       "50%    309581.000000      1.374000      6.000000      5.000000\n",
       "75%    419542.000000      3.694000      7.000000     28.000000\n",
       "max    608444.000000     80.773000     10.000000  22186.000000"
      ]
     },
     "execution_count": 54,
     "metadata": {},
     "output_type": "execute_result"
    }
   ],
   "source": [
    "tmdb_df.describe()"
   ]
  },
  {
   "cell_type": "markdown",
   "metadata": {},
   "source": [
    "2. For the most popular movie we sort our dataset based on the popularity column in descending order and select the top 10 entries"
   ]
  },
  {
   "cell_type": "code",
   "execution_count": 55,
   "metadata": {},
   "outputs": [
    {
     "name": "stdout",
     "output_type": "stream",
     "text": [
      "                                             title  popularity\n",
      "23811                       Avengers: Infinity War      80.773\n",
      "11019                                    John Wick      78.123\n",
      "23812            Spider-Man: Into the Spider-Verse      60.534\n",
      "11020    The Hobbit: The Battle of the Five Armies      53.783\n",
      "5179                                  The Avengers      50.289\n",
      "11021                      Guardians of the Galaxy      49.606\n",
      "20617                            Blade Runner 2049      48.571\n",
      "23813                            Blade Runner 2049      48.571\n",
      "23814  Fantastic Beasts: The Crimes of Grindelwald      48.508\n",
      "23815                    Ralph Breaks the Internet      48.057\n"
     ]
    }
   ],
   "source": [
    "# Top 10 most popular movies\n",
    "top_10_popular = tmdb_df.sort_values(by=\"popularity\",ascending=False).head(10)\n",
    "print(top_10_popular[['title','popularity']])"
   ]
  },
  {
   "cell_type": "markdown",
   "metadata": {},
   "source": [
    "3. Release Date Insights\n",
    "\n",
    "For this question we will extract the top_years with the highest release by extracting the release year from date column,count the number of movies released each year using value count and then sort the years based on the number of releases in descending order.\n"
   ]
  },
  {
   "cell_type": "code",
   "execution_count": 56,
   "metadata": {},
   "outputs": [
    {
     "data": {
      "text/plain": [
       "2015    3258\n",
       "2016    3192\n",
       "2013    3147\n",
       "2017    3145\n",
       "2014    3137\n",
       "2011    2696\n",
       "2012    2659\n",
       "2018    2587\n",
       "2010    2406\n",
       "2019      63\n",
       "Name: release_year, dtype: int64"
      ]
     },
     "execution_count": 56,
     "metadata": {},
     "output_type": "execute_result"
    }
   ],
   "source": [
    "# extract release year \n",
    "tmdb_df[\"release_date\"] = pd.to_datetime(tmdb_df[\"release_date\"])\n",
    "tmdb_df[\"release_year\"] = tmdb_df[\"release_date\"].dt.year\n",
    "# Count movie releases per year using value_count\n",
    "release_per_year = tmdb_df[\"release_year\"].value_counts().sort_index()\n",
    "# Sort years using release column and select the top_10\n",
    "top_years = release_per_year.sort_values(ascending=False)\n",
    "top_years.head(10)\n"
   ]
  },
  {
   "cell_type": "markdown",
   "metadata": {},
   "source": [
    "4.Language Distribution\n",
    "\n",
    "Most common original language\n",
    "\n",
    "We will group the data by language,sum the popularity values for each language to determine the total popularity per language, sort the grouped data in descending order based on the total popularity and the we extract the top 10 entries from the sorted data"
   ]
  },
  {
   "cell_type": "code",
   "execution_count": 57,
   "metadata": {},
   "outputs": [
    {
     "data": {
      "text/plain": [
       "en    23291\n",
       "fr      507\n",
       "es      455\n",
       "ru      298\n",
       "ja      265\n",
       "      ...  \n",
       "ha        1\n",
       "nb        1\n",
       "cr        1\n",
       "kk        1\n",
       "ps        1\n",
       "Name: original_language, Length: 76, dtype: int64"
      ]
     },
     "execution_count": 57,
     "metadata": {},
     "output_type": "execute_result"
    }
   ],
   "source": [
    "# get languages value counts\n",
    "language_counts = tmdb_df[\"original_language\"].value_counts()\n",
    "language_counts\n"
   ]
  },
  {
   "cell_type": "markdown",
   "metadata": {},
   "source": [
    "We get most common language based on popularity"
   ]
  },
  {
   "cell_type": "code",
   "execution_count": 58,
   "metadata": {},
   "outputs": [
    {
     "data": {
      "text/html": [
       "<div>\n",
       "<style scoped>\n",
       "    .dataframe tbody tr th:only-of-type {\n",
       "        vertical-align: middle;\n",
       "    }\n",
       "\n",
       "    .dataframe tbody tr th {\n",
       "        vertical-align: top;\n",
       "    }\n",
       "\n",
       "    .dataframe thead th {\n",
       "        text-align: right;\n",
       "    }\n",
       "</style>\n",
       "<table border=\"1\" class=\"dataframe\">\n",
       "  <thead>\n",
       "    <tr style=\"text-align: right;\">\n",
       "      <th></th>\n",
       "      <th>original_language</th>\n",
       "      <th>popularity</th>\n",
       "    </tr>\n",
       "  </thead>\n",
       "  <tbody>\n",
       "    <tr>\n",
       "      <th>47</th>\n",
       "      <td>nb</td>\n",
       "      <td>8.221000</td>\n",
       "    </tr>\n",
       "    <tr>\n",
       "      <th>63</th>\n",
       "      <td>sw</td>\n",
       "      <td>7.440000</td>\n",
       "    </tr>\n",
       "    <tr>\n",
       "      <th>34</th>\n",
       "      <td>ja</td>\n",
       "      <td>5.711072</td>\n",
       "    </tr>\n",
       "    <tr>\n",
       "      <th>30</th>\n",
       "      <td>hz</td>\n",
       "      <td>5.495000</td>\n",
       "    </tr>\n",
       "    <tr>\n",
       "      <th>69</th>\n",
       "      <td>uk</td>\n",
       "      <td>5.331000</td>\n",
       "    </tr>\n",
       "    <tr>\n",
       "      <th>31</th>\n",
       "      <td>id</td>\n",
       "      <td>5.187000</td>\n",
       "    </tr>\n",
       "    <tr>\n",
       "      <th>1</th>\n",
       "      <td>af</td>\n",
       "      <td>4.814000</td>\n",
       "    </tr>\n",
       "    <tr>\n",
       "      <th>62</th>\n",
       "      <td>sv</td>\n",
       "      <td>4.799897</td>\n",
       "    </tr>\n",
       "    <tr>\n",
       "      <th>44</th>\n",
       "      <td>mi</td>\n",
       "      <td>4.746000</td>\n",
       "    </tr>\n",
       "    <tr>\n",
       "      <th>38</th>\n",
       "      <td>ko</td>\n",
       "      <td>4.697441</td>\n",
       "    </tr>\n",
       "  </tbody>\n",
       "</table>\n",
       "</div>"
      ],
      "text/plain": [
       "   original_language  popularity\n",
       "47                nb    8.221000\n",
       "63                sw    7.440000\n",
       "34                ja    5.711072\n",
       "30                hz    5.495000\n",
       "69                uk    5.331000\n",
       "31                id    5.187000\n",
       "1                 af    4.814000\n",
       "62                sv    4.799897\n",
       "44                mi    4.746000\n",
       "38                ko    4.697441"
      ]
     },
     "execution_count": 58,
     "metadata": {},
     "output_type": "execute_result"
    }
   ],
   "source": [
    "# We group by \"original_language\" and sum the popularity\n",
    "#sort by popularity in descending order and select top 10\n",
    "language_popularity = tmdb_df.groupby(\"original_language\")[\"popularity\"].mean().reset_index()\n",
    "top_10_popular_language = language_popularity.sort_values(by=\"popularity\",ascending=False).head(10)\n",
    "top_10_popular_language"
   ]
  },
  {
   "cell_type": "markdown",
   "metadata": {},
   "source": [
    " we calculate the correlation matrix based on vote average,vote count and popularity"
   ]
  },
  {
   "cell_type": "code",
   "execution_count": 59,
   "metadata": {},
   "outputs": [
    {
     "data": {
      "text/html": [
       "<div>\n",
       "<style scoped>\n",
       "    .dataframe tbody tr th:only-of-type {\n",
       "        vertical-align: middle;\n",
       "    }\n",
       "\n",
       "    .dataframe tbody tr th {\n",
       "        vertical-align: top;\n",
       "    }\n",
       "\n",
       "    .dataframe thead th {\n",
       "        text-align: right;\n",
       "    }\n",
       "</style>\n",
       "<table border=\"1\" class=\"dataframe\">\n",
       "  <thead>\n",
       "    <tr style=\"text-align: right;\">\n",
       "      <th></th>\n",
       "      <th>vote_average</th>\n",
       "      <th>vote_count</th>\n",
       "      <th>popularity</th>\n",
       "    </tr>\n",
       "  </thead>\n",
       "  <tbody>\n",
       "    <tr>\n",
       "      <th>vote_average</th>\n",
       "      <td>1.000000</td>\n",
       "      <td>0.086370</td>\n",
       "      <td>0.065273</td>\n",
       "    </tr>\n",
       "    <tr>\n",
       "      <th>vote_count</th>\n",
       "      <td>0.086370</td>\n",
       "      <td>1.000000</td>\n",
       "      <td>0.694849</td>\n",
       "    </tr>\n",
       "    <tr>\n",
       "      <th>popularity</th>\n",
       "      <td>0.065273</td>\n",
       "      <td>0.694849</td>\n",
       "      <td>1.000000</td>\n",
       "    </tr>\n",
       "  </tbody>\n",
       "</table>\n",
       "</div>"
      ],
      "text/plain": [
       "              vote_average  vote_count  popularity\n",
       "vote_average      1.000000    0.086370    0.065273\n",
       "vote_count        0.086370    1.000000    0.694849\n",
       "popularity        0.065273    0.694849    1.000000"
      ]
     },
     "execution_count": 59,
     "metadata": {},
     "output_type": "execute_result"
    }
   ],
   "source": [
    "correlation_matrix = tmdb_df[[\"vote_average\",\"vote_count\",\"popularity\"]].corr()\n",
    "correlation_matrix"
   ]
  },
  {
   "cell_type": "markdown",
   "metadata": {},
   "source": [
    "From our correlation we can see Correlation between vote_count and popularity is 0.694849 this is a strong correlation it indicates that movies with more votes tend to be more popular. It suggets that as the number of votes increases,the popularity of the novie also increases\n",
    "\n",
    "Correlation between vote_count and vote_average is at 0.086370 we can say this is a weak positive correlation, it suggests a slight tendency that movies with more votes might have higher average ratings,but the relationship is not very strong."
   ]
  },
  {
   "cell_type": "markdown",
   "metadata": {},
   "source": [
    "# 2.1 rt.reviews.tsv Analysis\n",
    "\n",
    "1. Frequency of reviews by publisher\n",
    "\n",
    "Using value_counts to get the distribution frequency"
   ]
  },
  {
   "cell_type": "code",
   "execution_count": 60,
   "metadata": {},
   "outputs": [
    {
     "data": {
      "text/plain": [
       "eFilmCritic.com                    673\n",
       "EmanuelLevy.Com                    591\n",
       "New York Times                     590\n",
       "Washington Post                    565\n",
       "Entertainment Weekly               541\n",
       "                                  ... \n",
       "The Asahi Shimbun GLOBE (Japan)      1\n",
       "Fangoria                             1\n",
       "Los Angeles Blade                    1\n",
       "The Filtered Lens                    1\n",
       "Tom &amp; Lorenzo                    1\n",
       "Name: publisher, Length: 1282, dtype: int64"
      ]
     },
     "execution_count": 60,
     "metadata": {},
     "output_type": "execute_result"
    }
   ],
   "source": [
    "#Publisher Frequency distribution\n",
    "publisher_count = rt_reviews_df[\"publisher\"].value_counts()\n",
    "publisher_count"
   ]
  },
  {
   "cell_type": "markdown",
   "metadata": {},
   "source": [
    "2. We calculate the Average rating by publisher using groupby method() and display the publishers sorted by their average rating"
   ]
  },
  {
   "cell_type": "code",
   "execution_count": 61,
   "metadata": {},
   "outputs": [
    {
     "data": {
      "text/html": [
       "<div>\n",
       "<style scoped>\n",
       "    .dataframe tbody tr th:only-of-type {\n",
       "        vertical-align: middle;\n",
       "    }\n",
       "\n",
       "    .dataframe tbody tr th {\n",
       "        vertical-align: top;\n",
       "    }\n",
       "\n",
       "    .dataframe thead th {\n",
       "        text-align: right;\n",
       "    }\n",
       "</style>\n",
       "<table border=\"1\" class=\"dataframe\">\n",
       "  <thead>\n",
       "    <tr style=\"text-align: right;\">\n",
       "      <th></th>\n",
       "      <th>publisher</th>\n",
       "      <th>rating</th>\n",
       "    </tr>\n",
       "  </thead>\n",
       "  <tbody>\n",
       "    <tr>\n",
       "      <th>0</th>\n",
       "      <td>2UE That Movie Show</td>\n",
       "      <td>3.900000</td>\n",
       "    </tr>\n",
       "    <tr>\n",
       "      <th>1</th>\n",
       "      <td>3AW</td>\n",
       "      <td>2.761905</td>\n",
       "    </tr>\n",
       "    <tr>\n",
       "      <th>2</th>\n",
       "      <td>3BlackChicks Review</td>\n",
       "      <td>1.820513</td>\n",
       "    </tr>\n",
       "    <tr>\n",
       "      <th>3</th>\n",
       "      <td>48 Hills</td>\n",
       "      <td>-1.000000</td>\n",
       "    </tr>\n",
       "    <tr>\n",
       "      <th>4</th>\n",
       "      <td>4Columns</td>\n",
       "      <td>-1.000000</td>\n",
       "    </tr>\n",
       "    <tr>\n",
       "      <th>...</th>\n",
       "      <td>...</td>\n",
       "      <td>...</td>\n",
       "    </tr>\n",
       "    <tr>\n",
       "      <th>1277</th>\n",
       "      <td>thelondonpaper</td>\n",
       "      <td>2.800000</td>\n",
       "    </tr>\n",
       "    <tr>\n",
       "      <th>1278</th>\n",
       "      <td>tonymacklin.net</td>\n",
       "      <td>2.307692</td>\n",
       "    </tr>\n",
       "    <tr>\n",
       "      <th>1279</th>\n",
       "      <td>tonymedley.com</td>\n",
       "      <td>4.976744</td>\n",
       "    </tr>\n",
       "    <tr>\n",
       "      <th>1280</th>\n",
       "      <td>www.kcactive.com</td>\n",
       "      <td>3.285714</td>\n",
       "    </tr>\n",
       "    <tr>\n",
       "      <th>1281</th>\n",
       "      <td>www.susangranger.com</td>\n",
       "      <td>4.926829</td>\n",
       "    </tr>\n",
       "  </tbody>\n",
       "</table>\n",
       "<p>1282 rows × 2 columns</p>\n",
       "</div>"
      ],
      "text/plain": [
       "                 publisher    rating\n",
       "0      2UE That Movie Show  3.900000\n",
       "1                      3AW  2.761905\n",
       "2      3BlackChicks Review  1.820513\n",
       "3                 48 Hills -1.000000\n",
       "4                 4Columns -1.000000\n",
       "...                    ...       ...\n",
       "1277        thelondonpaper  2.800000\n",
       "1278       tonymacklin.net  2.307692\n",
       "1279        tonymedley.com  4.976744\n",
       "1280      www.kcactive.com  3.285714\n",
       "1281  www.susangranger.com  4.926829\n",
       "\n",
       "[1282 rows x 2 columns]"
      ]
     },
     "execution_count": 61,
     "metadata": {},
     "output_type": "execute_result"
    }
   ],
   "source": [
    "#Mean Rating for each publisher\n",
    "mean_ratings_by_publisher =rt_reviews_df.groupby(\"publisher\")[\"rating\"].mean().reset_index()\n",
    "mean_ratings_by_publisher"
   ]
  },
  {
   "cell_type": "markdown",
   "metadata": {},
   "source": [
    "Get the top movie publishers based on rating"
   ]
  },
  {
   "cell_type": "code",
   "execution_count": 62,
   "metadata": {},
   "outputs": [
    {
     "data": {
      "text/html": [
       "<div>\n",
       "<style scoped>\n",
       "    .dataframe tbody tr th:only-of-type {\n",
       "        vertical-align: middle;\n",
       "    }\n",
       "\n",
       "    .dataframe tbody tr th {\n",
       "        vertical-align: top;\n",
       "    }\n",
       "\n",
       "    .dataframe thead th {\n",
       "        text-align: right;\n",
       "    }\n",
       "</style>\n",
       "<table border=\"1\" class=\"dataframe\">\n",
       "  <thead>\n",
       "    <tr style=\"text-align: right;\">\n",
       "      <th></th>\n",
       "      <th>publisher</th>\n",
       "      <th>rating</th>\n",
       "    </tr>\n",
       "  </thead>\n",
       "  <tbody>\n",
       "    <tr>\n",
       "      <th>1037</th>\n",
       "      <td>Tampa Tribune</td>\n",
       "      <td>9.0</td>\n",
       "    </tr>\n",
       "    <tr>\n",
       "      <th>902</th>\n",
       "      <td>Rotten Tomatoes</td>\n",
       "      <td>9.0</td>\n",
       "    </tr>\n",
       "    <tr>\n",
       "      <th>269</th>\n",
       "      <td>CutPrintFilm</td>\n",
       "      <td>9.0</td>\n",
       "    </tr>\n",
       "    <tr>\n",
       "      <th>24</th>\n",
       "      <td>AfterElton.com</td>\n",
       "      <td>9.0</td>\n",
       "    </tr>\n",
       "    <tr>\n",
       "      <th>889</th>\n",
       "      <td>Revolver</td>\n",
       "      <td>9.0</td>\n",
       "    </tr>\n",
       "    <tr>\n",
       "      <th>1254</th>\n",
       "      <td>cinemaobsession.com</td>\n",
       "      <td>9.0</td>\n",
       "    </tr>\n",
       "    <tr>\n",
       "      <th>234</th>\n",
       "      <td>Colbybryant.com</td>\n",
       "      <td>8.5</td>\n",
       "    </tr>\n",
       "    <tr>\n",
       "      <th>458</th>\n",
       "      <td>Gay.com UK</td>\n",
       "      <td>8.0</td>\n",
       "    </tr>\n",
       "    <tr>\n",
       "      <th>652</th>\n",
       "      <td>Maven's Nest</td>\n",
       "      <td>8.0</td>\n",
       "    </tr>\n",
       "    <tr>\n",
       "      <th>862</th>\n",
       "      <td>Rave Reviews</td>\n",
       "      <td>8.0</td>\n",
       "    </tr>\n",
       "  </tbody>\n",
       "</table>\n",
       "</div>"
      ],
      "text/plain": [
       "                publisher  rating\n",
       "1037        Tampa Tribune     9.0\n",
       "902       Rotten Tomatoes     9.0\n",
       "269          CutPrintFilm     9.0\n",
       "24         AfterElton.com     9.0\n",
       "889              Revolver     9.0\n",
       "1254  cinemaobsession.com     9.0\n",
       "234       Colbybryant.com     8.5\n",
       "458            Gay.com UK     8.0\n",
       "652          Maven's Nest     8.0\n",
       "862          Rave Reviews     8.0"
      ]
     },
     "execution_count": 62,
     "metadata": {},
     "output_type": "execute_result"
    }
   ],
   "source": [
    "# Top publishers we sort the publisher by mean rating in descending order and select the top 10\n",
    "top_publishers = mean_ratings_by_publisher.sort_values(by=\"rating\",ascending=False).head(10)\n",
    "top_publishers"
   ]
  },
  {
   "cell_type": "markdown",
   "metadata": {},
   "source": [
    "# 3.1 Analyzing Data for \"tn.movie_budgets\""
   ]
  },
  {
   "cell_type": "markdown",
   "metadata": {},
   "source": [
    "Here we are going to perform data analysis for our tn.movie_budgets and calculate profitability ratio,year trends,top number of movies by gross and financial efficiency"
   ]
  },
  {
   "cell_type": "markdown",
   "metadata": {},
   "source": [
    "Lets get started"
   ]
  },
  {
   "cell_type": "markdown",
   "metadata": {},
   "source": [
    "1. Profitability Analysis\n",
    "\n",
    "The profitability Ratio can be calculated as the ratio of worldwide gross to the production budget\n",
    "\n",
    "Create a new column named \"profitability_ratio\" in the dataframe"
   ]
  },
  {
   "cell_type": "code",
   "execution_count": 63,
   "metadata": {},
   "outputs": [
    {
     "data": {
      "text/html": [
       "<div>\n",
       "<style scoped>\n",
       "    .dataframe tbody tr th:only-of-type {\n",
       "        vertical-align: middle;\n",
       "    }\n",
       "\n",
       "    .dataframe tbody tr th {\n",
       "        vertical-align: top;\n",
       "    }\n",
       "\n",
       "    .dataframe thead th {\n",
       "        text-align: right;\n",
       "    }\n",
       "</style>\n",
       "<table border=\"1\" class=\"dataframe\">\n",
       "  <thead>\n",
       "    <tr style=\"text-align: right;\">\n",
       "      <th></th>\n",
       "      <th>id</th>\n",
       "      <th>release_date</th>\n",
       "      <th>movie</th>\n",
       "      <th>production_budget $</th>\n",
       "      <th>domestic_gross $</th>\n",
       "      <th>worldwide_gross $</th>\n",
       "      <th>profitability_ratio</th>\n",
       "    </tr>\n",
       "  </thead>\n",
       "  <tbody>\n",
       "    <tr>\n",
       "      <th>0</th>\n",
       "      <td>1</td>\n",
       "      <td>Dec 18, 2009</td>\n",
       "      <td>Avatar</td>\n",
       "      <td>425000000.0</td>\n",
       "      <td>760507625.0</td>\n",
       "      <td>2.776345e+09</td>\n",
       "      <td>6.532577</td>\n",
       "    </tr>\n",
       "    <tr>\n",
       "      <th>1</th>\n",
       "      <td>2</td>\n",
       "      <td>May 20, 2011</td>\n",
       "      <td>Pirates of the Caribbean: On Stranger Tides</td>\n",
       "      <td>410600000.0</td>\n",
       "      <td>241063875.0</td>\n",
       "      <td>1.045664e+09</td>\n",
       "      <td>2.546673</td>\n",
       "    </tr>\n",
       "    <tr>\n",
       "      <th>2</th>\n",
       "      <td>3</td>\n",
       "      <td>Jun 7, 2019</td>\n",
       "      <td>Dark Phoenix</td>\n",
       "      <td>350000000.0</td>\n",
       "      <td>42762350.0</td>\n",
       "      <td>1.497624e+08</td>\n",
       "      <td>0.427892</td>\n",
       "    </tr>\n",
       "    <tr>\n",
       "      <th>3</th>\n",
       "      <td>4</td>\n",
       "      <td>May 1, 2015</td>\n",
       "      <td>Avengers: Age of Ultron</td>\n",
       "      <td>330600000.0</td>\n",
       "      <td>459005868.0</td>\n",
       "      <td>1.403014e+09</td>\n",
       "      <td>4.243841</td>\n",
       "    </tr>\n",
       "    <tr>\n",
       "      <th>4</th>\n",
       "      <td>5</td>\n",
       "      <td>Dec 15, 2017</td>\n",
       "      <td>Star Wars Ep. VIII: The Last Jedi</td>\n",
       "      <td>317000000.0</td>\n",
       "      <td>620181382.0</td>\n",
       "      <td>1.316722e+09</td>\n",
       "      <td>4.153696</td>\n",
       "    </tr>\n",
       "    <tr>\n",
       "      <th>...</th>\n",
       "      <td>...</td>\n",
       "      <td>...</td>\n",
       "      <td>...</td>\n",
       "      <td>...</td>\n",
       "      <td>...</td>\n",
       "      <td>...</td>\n",
       "      <td>...</td>\n",
       "    </tr>\n",
       "    <tr>\n",
       "      <th>5777</th>\n",
       "      <td>78</td>\n",
       "      <td>Dec 31, 2018</td>\n",
       "      <td>Red 11</td>\n",
       "      <td>7000.0</td>\n",
       "      <td>0.0</td>\n",
       "      <td>0.000000e+00</td>\n",
       "      <td>0.000000</td>\n",
       "    </tr>\n",
       "    <tr>\n",
       "      <th>5778</th>\n",
       "      <td>79</td>\n",
       "      <td>Apr 2, 1999</td>\n",
       "      <td>Following</td>\n",
       "      <td>6000.0</td>\n",
       "      <td>48482.0</td>\n",
       "      <td>2.404950e+05</td>\n",
       "      <td>40.082500</td>\n",
       "    </tr>\n",
       "    <tr>\n",
       "      <th>5779</th>\n",
       "      <td>80</td>\n",
       "      <td>Jul 13, 2005</td>\n",
       "      <td>Return to the Land of Wonders</td>\n",
       "      <td>5000.0</td>\n",
       "      <td>1338.0</td>\n",
       "      <td>1.338000e+03</td>\n",
       "      <td>0.267600</td>\n",
       "    </tr>\n",
       "    <tr>\n",
       "      <th>5780</th>\n",
       "      <td>81</td>\n",
       "      <td>Sep 29, 2015</td>\n",
       "      <td>A Plague So Pleasant</td>\n",
       "      <td>1400.0</td>\n",
       "      <td>0.0</td>\n",
       "      <td>0.000000e+00</td>\n",
       "      <td>0.000000</td>\n",
       "    </tr>\n",
       "    <tr>\n",
       "      <th>5781</th>\n",
       "      <td>82</td>\n",
       "      <td>Aug 5, 2005</td>\n",
       "      <td>My Date With Drew</td>\n",
       "      <td>1100.0</td>\n",
       "      <td>181041.0</td>\n",
       "      <td>1.810410e+05</td>\n",
       "      <td>164.582727</td>\n",
       "    </tr>\n",
       "  </tbody>\n",
       "</table>\n",
       "<p>5782 rows × 7 columns</p>\n",
       "</div>"
      ],
      "text/plain": [
       "      id  release_date                                        movie  \\\n",
       "0      1  Dec 18, 2009                                       Avatar   \n",
       "1      2  May 20, 2011  Pirates of the Caribbean: On Stranger Tides   \n",
       "2      3   Jun 7, 2019                                 Dark Phoenix   \n",
       "3      4   May 1, 2015                      Avengers: Age of Ultron   \n",
       "4      5  Dec 15, 2017            Star Wars Ep. VIII: The Last Jedi   \n",
       "...   ..           ...                                          ...   \n",
       "5777  78  Dec 31, 2018                                       Red 11   \n",
       "5778  79   Apr 2, 1999                                    Following   \n",
       "5779  80  Jul 13, 2005                Return to the Land of Wonders   \n",
       "5780  81  Sep 29, 2015                         A Plague So Pleasant   \n",
       "5781  82   Aug 5, 2005                            My Date With Drew   \n",
       "\n",
       "      production_budget $  domestic_gross $  worldwide_gross $  \\\n",
       "0             425000000.0       760507625.0       2.776345e+09   \n",
       "1             410600000.0       241063875.0       1.045664e+09   \n",
       "2             350000000.0        42762350.0       1.497624e+08   \n",
       "3             330600000.0       459005868.0       1.403014e+09   \n",
       "4             317000000.0       620181382.0       1.316722e+09   \n",
       "...                   ...               ...                ...   \n",
       "5777               7000.0               0.0       0.000000e+00   \n",
       "5778               6000.0           48482.0       2.404950e+05   \n",
       "5779               5000.0            1338.0       1.338000e+03   \n",
       "5780               1400.0               0.0       0.000000e+00   \n",
       "5781               1100.0          181041.0       1.810410e+05   \n",
       "\n",
       "      profitability_ratio  \n",
       "0                6.532577  \n",
       "1                2.546673  \n",
       "2                0.427892  \n",
       "3                4.243841  \n",
       "4                4.153696  \n",
       "...                   ...  \n",
       "5777             0.000000  \n",
       "5778            40.082500  \n",
       "5779             0.267600  \n",
       "5780             0.000000  \n",
       "5781           164.582727  \n",
       "\n",
       "[5782 rows x 7 columns]"
      ]
     },
     "execution_count": 63,
     "metadata": {},
     "output_type": "execute_result"
    }
   ],
   "source": [
    "# Calculate the profitability Ratio\n",
    "tn_movie_budgets_df[\"profitability_ratio\"] = tn_movie_budgets_df[\"worldwide_gross $\"] / tn_movie_budgets_df[\"production_budget $\"]\n",
    "tn_movie_budgets_df"
   ]
  },
  {
   "cell_type": "markdown",
   "metadata": {},
   "source": [
    "2. Yearly Trend\n",
    "\n",
    "First we extract year from release date and the calculate total and average gross per year "
   ]
  },
  {
   "cell_type": "code",
   "execution_count": 64,
   "metadata": {},
   "outputs": [
    {
     "data": {
      "text/html": [
       "<div>\n",
       "<style scoped>\n",
       "    .dataframe tbody tr th:only-of-type {\n",
       "        vertical-align: middle;\n",
       "    }\n",
       "\n",
       "    .dataframe tbody tr th {\n",
       "        vertical-align: top;\n",
       "    }\n",
       "\n",
       "    .dataframe thead th {\n",
       "        text-align: right;\n",
       "    }\n",
       "</style>\n",
       "<table border=\"1\" class=\"dataframe\">\n",
       "  <thead>\n",
       "    <tr style=\"text-align: right;\">\n",
       "      <th></th>\n",
       "      <th>id</th>\n",
       "      <th>release_date</th>\n",
       "      <th>movie</th>\n",
       "      <th>production_budget $</th>\n",
       "      <th>domestic_gross $</th>\n",
       "      <th>worldwide_gross $</th>\n",
       "      <th>profitability_ratio</th>\n",
       "      <th>release_year</th>\n",
       "    </tr>\n",
       "  </thead>\n",
       "  <tbody>\n",
       "    <tr>\n",
       "      <th>0</th>\n",
       "      <td>1</td>\n",
       "      <td>Dec 18, 2009</td>\n",
       "      <td>Avatar</td>\n",
       "      <td>425000000.0</td>\n",
       "      <td>760507625.0</td>\n",
       "      <td>2.776345e+09</td>\n",
       "      <td>6.532577</td>\n",
       "      <td>2009</td>\n",
       "    </tr>\n",
       "    <tr>\n",
       "      <th>1</th>\n",
       "      <td>2</td>\n",
       "      <td>May 20, 2011</td>\n",
       "      <td>Pirates of the Caribbean: On Stranger Tides</td>\n",
       "      <td>410600000.0</td>\n",
       "      <td>241063875.0</td>\n",
       "      <td>1.045664e+09</td>\n",
       "      <td>2.546673</td>\n",
       "      <td>2011</td>\n",
       "    </tr>\n",
       "    <tr>\n",
       "      <th>2</th>\n",
       "      <td>3</td>\n",
       "      <td>Jun 7, 2019</td>\n",
       "      <td>Dark Phoenix</td>\n",
       "      <td>350000000.0</td>\n",
       "      <td>42762350.0</td>\n",
       "      <td>1.497624e+08</td>\n",
       "      <td>0.427892</td>\n",
       "      <td>2019</td>\n",
       "    </tr>\n",
       "    <tr>\n",
       "      <th>3</th>\n",
       "      <td>4</td>\n",
       "      <td>May 1, 2015</td>\n",
       "      <td>Avengers: Age of Ultron</td>\n",
       "      <td>330600000.0</td>\n",
       "      <td>459005868.0</td>\n",
       "      <td>1.403014e+09</td>\n",
       "      <td>4.243841</td>\n",
       "      <td>2015</td>\n",
       "    </tr>\n",
       "    <tr>\n",
       "      <th>4</th>\n",
       "      <td>5</td>\n",
       "      <td>Dec 15, 2017</td>\n",
       "      <td>Star Wars Ep. VIII: The Last Jedi</td>\n",
       "      <td>317000000.0</td>\n",
       "      <td>620181382.0</td>\n",
       "      <td>1.316722e+09</td>\n",
       "      <td>4.153696</td>\n",
       "      <td>2017</td>\n",
       "    </tr>\n",
       "    <tr>\n",
       "      <th>...</th>\n",
       "      <td>...</td>\n",
       "      <td>...</td>\n",
       "      <td>...</td>\n",
       "      <td>...</td>\n",
       "      <td>...</td>\n",
       "      <td>...</td>\n",
       "      <td>...</td>\n",
       "      <td>...</td>\n",
       "    </tr>\n",
       "    <tr>\n",
       "      <th>5777</th>\n",
       "      <td>78</td>\n",
       "      <td>Dec 31, 2018</td>\n",
       "      <td>Red 11</td>\n",
       "      <td>7000.0</td>\n",
       "      <td>0.0</td>\n",
       "      <td>0.000000e+00</td>\n",
       "      <td>0.000000</td>\n",
       "      <td>2018</td>\n",
       "    </tr>\n",
       "    <tr>\n",
       "      <th>5778</th>\n",
       "      <td>79</td>\n",
       "      <td>Apr 2, 1999</td>\n",
       "      <td>Following</td>\n",
       "      <td>6000.0</td>\n",
       "      <td>48482.0</td>\n",
       "      <td>2.404950e+05</td>\n",
       "      <td>40.082500</td>\n",
       "      <td>1999</td>\n",
       "    </tr>\n",
       "    <tr>\n",
       "      <th>5779</th>\n",
       "      <td>80</td>\n",
       "      <td>Jul 13, 2005</td>\n",
       "      <td>Return to the Land of Wonders</td>\n",
       "      <td>5000.0</td>\n",
       "      <td>1338.0</td>\n",
       "      <td>1.338000e+03</td>\n",
       "      <td>0.267600</td>\n",
       "      <td>2005</td>\n",
       "    </tr>\n",
       "    <tr>\n",
       "      <th>5780</th>\n",
       "      <td>81</td>\n",
       "      <td>Sep 29, 2015</td>\n",
       "      <td>A Plague So Pleasant</td>\n",
       "      <td>1400.0</td>\n",
       "      <td>0.0</td>\n",
       "      <td>0.000000e+00</td>\n",
       "      <td>0.000000</td>\n",
       "      <td>2015</td>\n",
       "    </tr>\n",
       "    <tr>\n",
       "      <th>5781</th>\n",
       "      <td>82</td>\n",
       "      <td>Aug 5, 2005</td>\n",
       "      <td>My Date With Drew</td>\n",
       "      <td>1100.0</td>\n",
       "      <td>181041.0</td>\n",
       "      <td>1.810410e+05</td>\n",
       "      <td>164.582727</td>\n",
       "      <td>2005</td>\n",
       "    </tr>\n",
       "  </tbody>\n",
       "</table>\n",
       "<p>5782 rows × 8 columns</p>\n",
       "</div>"
      ],
      "text/plain": [
       "      id  release_date                                        movie  \\\n",
       "0      1  Dec 18, 2009                                       Avatar   \n",
       "1      2  May 20, 2011  Pirates of the Caribbean: On Stranger Tides   \n",
       "2      3   Jun 7, 2019                                 Dark Phoenix   \n",
       "3      4   May 1, 2015                      Avengers: Age of Ultron   \n",
       "4      5  Dec 15, 2017            Star Wars Ep. VIII: The Last Jedi   \n",
       "...   ..           ...                                          ...   \n",
       "5777  78  Dec 31, 2018                                       Red 11   \n",
       "5778  79   Apr 2, 1999                                    Following   \n",
       "5779  80  Jul 13, 2005                Return to the Land of Wonders   \n",
       "5780  81  Sep 29, 2015                         A Plague So Pleasant   \n",
       "5781  82   Aug 5, 2005                            My Date With Drew   \n",
       "\n",
       "      production_budget $  domestic_gross $  worldwide_gross $  \\\n",
       "0             425000000.0       760507625.0       2.776345e+09   \n",
       "1             410600000.0       241063875.0       1.045664e+09   \n",
       "2             350000000.0        42762350.0       1.497624e+08   \n",
       "3             330600000.0       459005868.0       1.403014e+09   \n",
       "4             317000000.0       620181382.0       1.316722e+09   \n",
       "...                   ...               ...                ...   \n",
       "5777               7000.0               0.0       0.000000e+00   \n",
       "5778               6000.0           48482.0       2.404950e+05   \n",
       "5779               5000.0            1338.0       1.338000e+03   \n",
       "5780               1400.0               0.0       0.000000e+00   \n",
       "5781               1100.0          181041.0       1.810410e+05   \n",
       "\n",
       "      profitability_ratio  release_year  \n",
       "0                6.532577          2009  \n",
       "1                2.546673          2011  \n",
       "2                0.427892          2019  \n",
       "3                4.243841          2015  \n",
       "4                4.153696          2017  \n",
       "...                   ...           ...  \n",
       "5777             0.000000          2018  \n",
       "5778            40.082500          1999  \n",
       "5779             0.267600          2005  \n",
       "5780             0.000000          2015  \n",
       "5781           164.582727          2005  \n",
       "\n",
       "[5782 rows x 8 columns]"
      ]
     },
     "execution_count": 64,
     "metadata": {},
     "output_type": "execute_result"
    }
   ],
   "source": [
    "#extract the year from the release date\n",
    "tn_movie_budgets_df[\"release_year\"] = pd.to_datetime(tn_movie_budgets_df[\"release_date\"]).dt.year\n",
    "tn_movie_budgets_df\n"
   ]
  },
  {
   "cell_type": "markdown",
   "metadata": {},
   "source": [
    "Calculate Total and Average Gross earning per year "
   ]
  },
  {
   "cell_type": "code",
   "execution_count": 65,
   "metadata": {},
   "outputs": [
    {
     "name": "stdout",
     "output_type": "stream",
     "text": [
      "Total Gross Earning:\n",
      "production_budget $    1.826404e+11\n",
      "domestic_gross $       2.421116e+11\n",
      "worldwide_gross $      5.289805e+11\n",
      "dtype: float64\n",
      "\n",
      "Average Gross Earnings:\n",
      "production_budget $    3.158776e+07\n",
      "domestic_gross $       4.187333e+07\n",
      "worldwide_gross $      9.148746e+07\n",
      "dtype: float64\n"
     ]
    }
   ],
   "source": [
    "#calculate total and average gross earnings\n",
    "total_gross = tn_movie_budgets_df[[\"production_budget $\",\"domestic_gross $\",\"worldwide_gross $\"]].sum()\n",
    "average_gross = tn_movie_budgets_df[[\"production_budget $\",\"domestic_gross $\",\"worldwide_gross $\"]].mean()\n",
    "\n",
    "print(\"Total Gross Earning:\")\n",
    "print(total_gross)\n",
    "\n",
    "print(\"\\nAverage Gross Earnings:\")\n",
    "print(average_gross)"
   ]
  },
  {
   "cell_type": "markdown",
   "metadata": {},
   "source": [
    "3. Financial Efficiency\n",
    "Calculate the return on investment (ROI)\n",
    "\n",
    "RIO will help us know if the movies are making profits or losses;\n",
    "\n",
    "ROI> 0: A positive ROI indicates that the movie generated more revenue than its production cost,resulting in a profit\n",
    "\n",
    "ROI = 0: An ROI of zero means the movie broke even,earning just enough to cover its production costs\n",
    "\n",
    "ROI < 0: A negative ROI indicates that the movie generated less revenue than its production cost,resulting in a loss\n",
    "\n"
   ]
  },
  {
   "cell_type": "code",
   "execution_count": 66,
   "metadata": {},
   "outputs": [
    {
     "data": {
      "text/html": [
       "<div>\n",
       "<style scoped>\n",
       "    .dataframe tbody tr th:only-of-type {\n",
       "        vertical-align: middle;\n",
       "    }\n",
       "\n",
       "    .dataframe tbody tr th {\n",
       "        vertical-align: top;\n",
       "    }\n",
       "\n",
       "    .dataframe thead th {\n",
       "        text-align: right;\n",
       "    }\n",
       "</style>\n",
       "<table border=\"1\" class=\"dataframe\">\n",
       "  <thead>\n",
       "    <tr style=\"text-align: right;\">\n",
       "      <th></th>\n",
       "      <th>id</th>\n",
       "      <th>release_date</th>\n",
       "      <th>movie</th>\n",
       "      <th>production_budget $</th>\n",
       "      <th>domestic_gross $</th>\n",
       "      <th>worldwide_gross $</th>\n",
       "      <th>profitability_ratio</th>\n",
       "      <th>release_year</th>\n",
       "      <th>ROI</th>\n",
       "    </tr>\n",
       "  </thead>\n",
       "  <tbody>\n",
       "    <tr>\n",
       "      <th>0</th>\n",
       "      <td>1</td>\n",
       "      <td>Dec 18, 2009</td>\n",
       "      <td>Avatar</td>\n",
       "      <td>425000000.0</td>\n",
       "      <td>760507625.0</td>\n",
       "      <td>2.776345e+09</td>\n",
       "      <td>6.532577</td>\n",
       "      <td>2009</td>\n",
       "      <td>5.532577</td>\n",
       "    </tr>\n",
       "    <tr>\n",
       "      <th>1</th>\n",
       "      <td>2</td>\n",
       "      <td>May 20, 2011</td>\n",
       "      <td>Pirates of the Caribbean: On Stranger Tides</td>\n",
       "      <td>410600000.0</td>\n",
       "      <td>241063875.0</td>\n",
       "      <td>1.045664e+09</td>\n",
       "      <td>2.546673</td>\n",
       "      <td>2011</td>\n",
       "      <td>1.546673</td>\n",
       "    </tr>\n",
       "    <tr>\n",
       "      <th>2</th>\n",
       "      <td>3</td>\n",
       "      <td>Jun 7, 2019</td>\n",
       "      <td>Dark Phoenix</td>\n",
       "      <td>350000000.0</td>\n",
       "      <td>42762350.0</td>\n",
       "      <td>1.497624e+08</td>\n",
       "      <td>0.427892</td>\n",
       "      <td>2019</td>\n",
       "      <td>-0.572108</td>\n",
       "    </tr>\n",
       "    <tr>\n",
       "      <th>3</th>\n",
       "      <td>4</td>\n",
       "      <td>May 1, 2015</td>\n",
       "      <td>Avengers: Age of Ultron</td>\n",
       "      <td>330600000.0</td>\n",
       "      <td>459005868.0</td>\n",
       "      <td>1.403014e+09</td>\n",
       "      <td>4.243841</td>\n",
       "      <td>2015</td>\n",
       "      <td>3.243841</td>\n",
       "    </tr>\n",
       "    <tr>\n",
       "      <th>4</th>\n",
       "      <td>5</td>\n",
       "      <td>Dec 15, 2017</td>\n",
       "      <td>Star Wars Ep. VIII: The Last Jedi</td>\n",
       "      <td>317000000.0</td>\n",
       "      <td>620181382.0</td>\n",
       "      <td>1.316722e+09</td>\n",
       "      <td>4.153696</td>\n",
       "      <td>2017</td>\n",
       "      <td>3.153696</td>\n",
       "    </tr>\n",
       "    <tr>\n",
       "      <th>...</th>\n",
       "      <td>...</td>\n",
       "      <td>...</td>\n",
       "      <td>...</td>\n",
       "      <td>...</td>\n",
       "      <td>...</td>\n",
       "      <td>...</td>\n",
       "      <td>...</td>\n",
       "      <td>...</td>\n",
       "      <td>...</td>\n",
       "    </tr>\n",
       "    <tr>\n",
       "      <th>5777</th>\n",
       "      <td>78</td>\n",
       "      <td>Dec 31, 2018</td>\n",
       "      <td>Red 11</td>\n",
       "      <td>7000.0</td>\n",
       "      <td>0.0</td>\n",
       "      <td>0.000000e+00</td>\n",
       "      <td>0.000000</td>\n",
       "      <td>2018</td>\n",
       "      <td>-1.000000</td>\n",
       "    </tr>\n",
       "    <tr>\n",
       "      <th>5778</th>\n",
       "      <td>79</td>\n",
       "      <td>Apr 2, 1999</td>\n",
       "      <td>Following</td>\n",
       "      <td>6000.0</td>\n",
       "      <td>48482.0</td>\n",
       "      <td>2.404950e+05</td>\n",
       "      <td>40.082500</td>\n",
       "      <td>1999</td>\n",
       "      <td>39.082500</td>\n",
       "    </tr>\n",
       "    <tr>\n",
       "      <th>5779</th>\n",
       "      <td>80</td>\n",
       "      <td>Jul 13, 2005</td>\n",
       "      <td>Return to the Land of Wonders</td>\n",
       "      <td>5000.0</td>\n",
       "      <td>1338.0</td>\n",
       "      <td>1.338000e+03</td>\n",
       "      <td>0.267600</td>\n",
       "      <td>2005</td>\n",
       "      <td>-0.732400</td>\n",
       "    </tr>\n",
       "    <tr>\n",
       "      <th>5780</th>\n",
       "      <td>81</td>\n",
       "      <td>Sep 29, 2015</td>\n",
       "      <td>A Plague So Pleasant</td>\n",
       "      <td>1400.0</td>\n",
       "      <td>0.0</td>\n",
       "      <td>0.000000e+00</td>\n",
       "      <td>0.000000</td>\n",
       "      <td>2015</td>\n",
       "      <td>-1.000000</td>\n",
       "    </tr>\n",
       "    <tr>\n",
       "      <th>5781</th>\n",
       "      <td>82</td>\n",
       "      <td>Aug 5, 2005</td>\n",
       "      <td>My Date With Drew</td>\n",
       "      <td>1100.0</td>\n",
       "      <td>181041.0</td>\n",
       "      <td>1.810410e+05</td>\n",
       "      <td>164.582727</td>\n",
       "      <td>2005</td>\n",
       "      <td>163.582727</td>\n",
       "    </tr>\n",
       "  </tbody>\n",
       "</table>\n",
       "<p>5782 rows × 9 columns</p>\n",
       "</div>"
      ],
      "text/plain": [
       "      id  release_date                                        movie  \\\n",
       "0      1  Dec 18, 2009                                       Avatar   \n",
       "1      2  May 20, 2011  Pirates of the Caribbean: On Stranger Tides   \n",
       "2      3   Jun 7, 2019                                 Dark Phoenix   \n",
       "3      4   May 1, 2015                      Avengers: Age of Ultron   \n",
       "4      5  Dec 15, 2017            Star Wars Ep. VIII: The Last Jedi   \n",
       "...   ..           ...                                          ...   \n",
       "5777  78  Dec 31, 2018                                       Red 11   \n",
       "5778  79   Apr 2, 1999                                    Following   \n",
       "5779  80  Jul 13, 2005                Return to the Land of Wonders   \n",
       "5780  81  Sep 29, 2015                         A Plague So Pleasant   \n",
       "5781  82   Aug 5, 2005                            My Date With Drew   \n",
       "\n",
       "      production_budget $  domestic_gross $  worldwide_gross $  \\\n",
       "0             425000000.0       760507625.0       2.776345e+09   \n",
       "1             410600000.0       241063875.0       1.045664e+09   \n",
       "2             350000000.0        42762350.0       1.497624e+08   \n",
       "3             330600000.0       459005868.0       1.403014e+09   \n",
       "4             317000000.0       620181382.0       1.316722e+09   \n",
       "...                   ...               ...                ...   \n",
       "5777               7000.0               0.0       0.000000e+00   \n",
       "5778               6000.0           48482.0       2.404950e+05   \n",
       "5779               5000.0            1338.0       1.338000e+03   \n",
       "5780               1400.0               0.0       0.000000e+00   \n",
       "5781               1100.0          181041.0       1.810410e+05   \n",
       "\n",
       "      profitability_ratio  release_year         ROI  \n",
       "0                6.532577          2009    5.532577  \n",
       "1                2.546673          2011    1.546673  \n",
       "2                0.427892          2019   -0.572108  \n",
       "3                4.243841          2015    3.243841  \n",
       "4                4.153696          2017    3.153696  \n",
       "...                   ...           ...         ...  \n",
       "5777             0.000000          2018   -1.000000  \n",
       "5778            40.082500          1999   39.082500  \n",
       "5779             0.267600          2005   -0.732400  \n",
       "5780             0.000000          2015   -1.000000  \n",
       "5781           164.582727          2005  163.582727  \n",
       "\n",
       "[5782 rows x 9 columns]"
      ]
     },
     "execution_count": 66,
     "metadata": {},
     "output_type": "execute_result"
    }
   ],
   "source": [
    "tn_movie_budgets_df['ROI'] = (tn_movie_budgets_df[\"worldwide_gross $\"] - tn_movie_budgets_df[\"production_budget $\"])/ tn_movie_budgets_df[\"production_budget $\"]\n",
    "tn_movie_budgets_df\n"
   ]
  },
  {
   "cell_type": "code",
   "execution_count": 67,
   "metadata": {},
   "outputs": [
    {
     "data": {
      "text/plain": [
       "movie\n",
       "Deep Throat                1799.000000\n",
       "Mad Max                     497.750000\n",
       "Paranormal Activity         430.517853\n",
       "The Gallows                 415.564740\n",
       "The Blair Witch Project     412.833333\n",
       "Name: ROI, dtype: float64"
      ]
     },
     "execution_count": 67,
     "metadata": {},
     "output_type": "execute_result"
    }
   ],
   "source": [
    "#Group by movie and sum the worldwide gross $\n",
    "ROI_gross = tn_movie_budgets_df.groupby(\"movie\")[\"ROI\"].sum()\n",
    "# Sort the movies based on the summed worldwide gross $\n",
    "sorted_movies = ROI_gross.sort_values(ascending=False)\n",
    "#select te top 5 movies\n",
    "ROI_top_5_movies = sorted_movies.head(5)\n",
    "ROI_top_5_movies\n"
   ]
  },
  {
   "cell_type": "markdown",
   "metadata": {},
   "source": [
    " let's use the .describe() method to get a summary of the data set,which will provide statitical measures for the columns related to production budget,domestic gross,and worldwide gross"
   ]
  },
  {
   "cell_type": "code",
   "execution_count": 68,
   "metadata": {},
   "outputs": [
    {
     "data": {
      "text/html": [
       "<div>\n",
       "<style scoped>\n",
       "    .dataframe tbody tr th:only-of-type {\n",
       "        vertical-align: middle;\n",
       "    }\n",
       "\n",
       "    .dataframe tbody tr th {\n",
       "        vertical-align: top;\n",
       "    }\n",
       "\n",
       "    .dataframe thead th {\n",
       "        text-align: right;\n",
       "    }\n",
       "</style>\n",
       "<table border=\"1\" class=\"dataframe\">\n",
       "  <thead>\n",
       "    <tr style=\"text-align: right;\">\n",
       "      <th></th>\n",
       "      <th>production_budget $</th>\n",
       "      <th>domestic_gross $</th>\n",
       "      <th>worldwide_gross $</th>\n",
       "    </tr>\n",
       "  </thead>\n",
       "  <tbody>\n",
       "    <tr>\n",
       "      <th>count</th>\n",
       "      <td>5.782000e+03</td>\n",
       "      <td>5.782000e+03</td>\n",
       "      <td>5.782000e+03</td>\n",
       "    </tr>\n",
       "    <tr>\n",
       "      <th>mean</th>\n",
       "      <td>3.158776e+07</td>\n",
       "      <td>4.187333e+07</td>\n",
       "      <td>9.148746e+07</td>\n",
       "    </tr>\n",
       "    <tr>\n",
       "      <th>std</th>\n",
       "      <td>4.181208e+07</td>\n",
       "      <td>6.824060e+07</td>\n",
       "      <td>1.747200e+08</td>\n",
       "    </tr>\n",
       "    <tr>\n",
       "      <th>min</th>\n",
       "      <td>1.100000e+03</td>\n",
       "      <td>0.000000e+00</td>\n",
       "      <td>0.000000e+00</td>\n",
       "    </tr>\n",
       "    <tr>\n",
       "      <th>25%</th>\n",
       "      <td>5.000000e+06</td>\n",
       "      <td>1.429534e+06</td>\n",
       "      <td>4.125415e+06</td>\n",
       "    </tr>\n",
       "    <tr>\n",
       "      <th>50%</th>\n",
       "      <td>1.700000e+07</td>\n",
       "      <td>1.722594e+07</td>\n",
       "      <td>2.798445e+07</td>\n",
       "    </tr>\n",
       "    <tr>\n",
       "      <th>75%</th>\n",
       "      <td>4.000000e+07</td>\n",
       "      <td>5.234866e+07</td>\n",
       "      <td>9.764584e+07</td>\n",
       "    </tr>\n",
       "    <tr>\n",
       "      <th>max</th>\n",
       "      <td>4.250000e+08</td>\n",
       "      <td>9.366622e+08</td>\n",
       "      <td>2.776345e+09</td>\n",
       "    </tr>\n",
       "  </tbody>\n",
       "</table>\n",
       "</div>"
      ],
      "text/plain": [
       "       production_budget $  domestic_gross $  worldwide_gross $\n",
       "count         5.782000e+03      5.782000e+03       5.782000e+03\n",
       "mean          3.158776e+07      4.187333e+07       9.148746e+07\n",
       "std           4.181208e+07      6.824060e+07       1.747200e+08\n",
       "min           1.100000e+03      0.000000e+00       0.000000e+00\n",
       "25%           5.000000e+06      1.429534e+06       4.125415e+06\n",
       "50%           1.700000e+07      1.722594e+07       2.798445e+07\n",
       "75%           4.000000e+07      5.234866e+07       9.764584e+07\n",
       "max           4.250000e+08      9.366622e+08       2.776345e+09"
      ]
     },
     "execution_count": 68,
     "metadata": {},
     "output_type": "execute_result"
    }
   ],
   "source": [
    "# use describe method\n",
    "description = tn_movie_budgets_df[[\"production_budget $\",\"domestic_gross $\",\"worldwide_gross $\"]].describe()\n",
    "description\n"
   ]
  },
  {
   "cell_type": "markdown",
   "metadata": {},
   "source": [
    "Lets get top 5 most profitable movies based on worlwide gross"
   ]
  },
  {
   "cell_type": "code",
   "execution_count": 69,
   "metadata": {},
   "outputs": [
    {
     "data": {
      "text/plain": [
       "movie\n",
       "Avatar                                  2.776345e+09\n",
       "Titanic                                 2.208208e+09\n",
       "Star Wars Ep. VII: The Force Awakens    2.053311e+09\n",
       "Avengers: Infinity War                  2.048134e+09\n",
       "Beauty and the Beast                    1.867631e+09\n",
       "Name: worldwide_gross $, dtype: float64"
      ]
     },
     "execution_count": 69,
     "metadata": {},
     "output_type": "execute_result"
    }
   ],
   "source": [
    "#Group by movie and sum the worldwide gross $\n",
    "movie_gross = tn_movie_budgets_df.groupby(\"movie\")[\"worldwide_gross $\"].sum()\n",
    "# Sort the movies based on the summed worldwide gross $\n",
    "sorted_movies = movie_gross.sort_values(ascending=False)\n",
    "#select te top 5 movies\n",
    "top_5_movies = sorted_movies.head(5)\n",
    "top_5_movies"
   ]
  },
  {
   "cell_type": "markdown",
   "metadata": {},
   "source": [
    "Looking into the mean of production_budget,domestic_gross and worlwide_gross we can say that the average production budget for movies is $31,587,770 million. This suggests that typical movie production involve significant fiancial investment. In terms of earnings, the average domestic gross revenue is  $41,873,330 million, indicating that movies generally perform well in their home market. However,the average worldwide gross revenue is $91,487,460 million,showing that international markets play a crucial role in the overall financial success of movies. These figures highlight the  importance of global distribution and marketing strategies to maximize revenue."
   ]
  },
  {
   "cell_type": "markdown",
   "metadata": {},
   "source": [
    "# Calculate most profitable movie in terms of absolute earnings\n",
    "\n",
    "We will calculate using the forluma \"worldwide_gross $\" - \"production_budget $\" to get the profit"
   ]
  },
  {
   "cell_type": "code",
   "execution_count": 70,
   "metadata": {},
   "outputs": [
    {
     "data": {
      "text/html": [
       "<div>\n",
       "<style scoped>\n",
       "    .dataframe tbody tr th:only-of-type {\n",
       "        vertical-align: middle;\n",
       "    }\n",
       "\n",
       "    .dataframe tbody tr th {\n",
       "        vertical-align: top;\n",
       "    }\n",
       "\n",
       "    .dataframe thead th {\n",
       "        text-align: right;\n",
       "    }\n",
       "</style>\n",
       "<table border=\"1\" class=\"dataframe\">\n",
       "  <thead>\n",
       "    <tr style=\"text-align: right;\">\n",
       "      <th></th>\n",
       "      <th>id</th>\n",
       "      <th>release_date</th>\n",
       "      <th>movie</th>\n",
       "      <th>production_budget $</th>\n",
       "      <th>domestic_gross $</th>\n",
       "      <th>worldwide_gross $</th>\n",
       "      <th>profitability_ratio</th>\n",
       "      <th>release_year</th>\n",
       "      <th>ROI</th>\n",
       "      <th>profit</th>\n",
       "    </tr>\n",
       "  </thead>\n",
       "  <tbody>\n",
       "    <tr>\n",
       "      <th>0</th>\n",
       "      <td>1</td>\n",
       "      <td>Dec 18, 2009</td>\n",
       "      <td>Avatar</td>\n",
       "      <td>425000000.0</td>\n",
       "      <td>760507625.0</td>\n",
       "      <td>2.776345e+09</td>\n",
       "      <td>6.532577</td>\n",
       "      <td>2009</td>\n",
       "      <td>5.532577</td>\n",
       "      <td>2.351345e+09</td>\n",
       "    </tr>\n",
       "    <tr>\n",
       "      <th>42</th>\n",
       "      <td>43</td>\n",
       "      <td>Dec 19, 1997</td>\n",
       "      <td>Titanic</td>\n",
       "      <td>200000000.0</td>\n",
       "      <td>659363944.0</td>\n",
       "      <td>2.208208e+09</td>\n",
       "      <td>11.041042</td>\n",
       "      <td>1997</td>\n",
       "      <td>10.041042</td>\n",
       "      <td>2.008208e+09</td>\n",
       "    </tr>\n",
       "    <tr>\n",
       "      <th>6</th>\n",
       "      <td>7</td>\n",
       "      <td>Apr 27, 2018</td>\n",
       "      <td>Avengers: Infinity War</td>\n",
       "      <td>300000000.0</td>\n",
       "      <td>678815482.0</td>\n",
       "      <td>2.048134e+09</td>\n",
       "      <td>6.827114</td>\n",
       "      <td>2018</td>\n",
       "      <td>5.827114</td>\n",
       "      <td>1.748134e+09</td>\n",
       "    </tr>\n",
       "    <tr>\n",
       "      <th>5</th>\n",
       "      <td>6</td>\n",
       "      <td>Dec 18, 2015</td>\n",
       "      <td>Star Wars Ep. VII: The Force Awakens</td>\n",
       "      <td>306000000.0</td>\n",
       "      <td>936662225.0</td>\n",
       "      <td>2.053311e+09</td>\n",
       "      <td>6.710167</td>\n",
       "      <td>2015</td>\n",
       "      <td>5.710167</td>\n",
       "      <td>1.747311e+09</td>\n",
       "    </tr>\n",
       "    <tr>\n",
       "      <th>33</th>\n",
       "      <td>34</td>\n",
       "      <td>Jun 12, 2015</td>\n",
       "      <td>Jurassic World</td>\n",
       "      <td>215000000.0</td>\n",
       "      <td>652270625.0</td>\n",
       "      <td>1.648855e+09</td>\n",
       "      <td>7.669092</td>\n",
       "      <td>2015</td>\n",
       "      <td>6.669092</td>\n",
       "      <td>1.433855e+09</td>\n",
       "    </tr>\n",
       "  </tbody>\n",
       "</table>\n",
       "</div>"
      ],
      "text/plain": [
       "    id  release_date                                 movie  \\\n",
       "0    1  Dec 18, 2009                                Avatar   \n",
       "42  43  Dec 19, 1997                               Titanic   \n",
       "6    7  Apr 27, 2018                Avengers: Infinity War   \n",
       "5    6  Dec 18, 2015  Star Wars Ep. VII: The Force Awakens   \n",
       "33  34  Jun 12, 2015                        Jurassic World   \n",
       "\n",
       "    production_budget $  domestic_gross $  worldwide_gross $  \\\n",
       "0           425000000.0       760507625.0       2.776345e+09   \n",
       "42          200000000.0       659363944.0       2.208208e+09   \n",
       "6           300000000.0       678815482.0       2.048134e+09   \n",
       "5           306000000.0       936662225.0       2.053311e+09   \n",
       "33          215000000.0       652270625.0       1.648855e+09   \n",
       "\n",
       "    profitability_ratio  release_year        ROI        profit  \n",
       "0              6.532577          2009   5.532577  2.351345e+09  \n",
       "42            11.041042          1997  10.041042  2.008208e+09  \n",
       "6              6.827114          2018   5.827114  1.748134e+09  \n",
       "5              6.710167          2015   5.710167  1.747311e+09  \n",
       "33             7.669092          2015   6.669092  1.433855e+09  "
      ]
     },
     "execution_count": 70,
     "metadata": {},
     "output_type": "execute_result"
    }
   ],
   "source": [
    "#to calculate profit\n",
    "tn_movie_budgets_df[\"profit\"] = tn_movie_budgets_df[\"worldwide_gross $\"] - tn_movie_budgets_df[\"production_budget $\"] # type: ignore\n",
    "top_10_profit = tn_movie_budgets_df.sort_values(by='profit', ascending=False).head()\n",
    "top_10_profit"
   ]
  },
  {
   "cell_type": "code",
   "execution_count": 71,
   "metadata": {},
   "outputs": [
    {
     "data": {
      "text/plain": [
       "'\\nThe reason we have decided to use both RIO and Profit is because\\nby using RIO we will get a high_level view of the overall returns\\non investments,while Profit expoloration delves deeper into the\\ncomponents of profit to understand the underlying drivers\\n'"
      ]
     },
     "execution_count": 71,
     "metadata": {},
     "output_type": "execute_result"
    }
   ],
   "source": [
    "\"\"\"\n",
    "The reason we have decided to use both RIO and Profit is because\n",
    "by using RIO we will get a high_level view of the overall returns\n",
    "on investments,while Profit expoloration delves deeper into the\n",
    "components of profit to understand the underlying drivers\n",
    "\"\"\""
   ]
  },
  {
   "cell_type": "markdown",
   "metadata": {},
   "source": [
    "# 4.1 rt.movie_info.tsv analysis"
   ]
  },
  {
   "cell_type": "markdown",
   "metadata": {},
   "source": [
    "1. Rating Distribution\n",
    "\n",
    "To see how movies are distributed across different rating"
   ]
  },
  {
   "cell_type": "code",
   "execution_count": 72,
   "metadata": {},
   "outputs": [
    {
     "data": {
      "text/plain": [
       "R        518\n",
       "NR       479\n",
       "PG       239\n",
       "PG-13    232\n",
       "G         57\n",
       "NC17       1\n",
       "Name: rating, dtype: int64"
      ]
     },
     "execution_count": 72,
     "metadata": {},
     "output_type": "execute_result"
    }
   ],
   "source": [
    "rating_distribution = rt_movie_df[\"rating\"].value_counts()\n",
    "rating_distribution"
   ]
  },
  {
   "cell_type": "markdown",
   "metadata": {},
   "source": [
    "Use Cross tabulation(contingency table)\n",
    "\n",
    "To see how different genres are distributed accross different rating"
   ]
  },
  {
   "cell_type": "code",
   "execution_count": 73,
   "metadata": {},
   "outputs": [
    {
     "data": {
      "text/html": [
       "<div>\n",
       "<style scoped>\n",
       "    .dataframe tbody tr th:only-of-type {\n",
       "        vertical-align: middle;\n",
       "    }\n",
       "\n",
       "    .dataframe tbody tr th {\n",
       "        vertical-align: top;\n",
       "    }\n",
       "\n",
       "    .dataframe thead th {\n",
       "        text-align: right;\n",
       "    }\n",
       "</style>\n",
       "<table border=\"1\" class=\"dataframe\">\n",
       "  <thead>\n",
       "    <tr style=\"text-align: right;\">\n",
       "      <th>rating</th>\n",
       "      <th>G</th>\n",
       "      <th>NC17</th>\n",
       "      <th>NR</th>\n",
       "      <th>PG</th>\n",
       "      <th>PG-13</th>\n",
       "      <th>R</th>\n",
       "    </tr>\n",
       "    <tr>\n",
       "      <th>genre</th>\n",
       "      <th></th>\n",
       "      <th></th>\n",
       "      <th></th>\n",
       "      <th></th>\n",
       "      <th></th>\n",
       "      <th></th>\n",
       "    </tr>\n",
       "  </thead>\n",
       "  <tbody>\n",
       "    <tr>\n",
       "      <th>Action and Adventure</th>\n",
       "      <td>0</td>\n",
       "      <td>0</td>\n",
       "      <td>9</td>\n",
       "      <td>2</td>\n",
       "      <td>2</td>\n",
       "      <td>5</td>\n",
       "    </tr>\n",
       "    <tr>\n",
       "      <th>Action and Adventure|Animation|Art House and International|Drama|Science Fiction and Fantasy</th>\n",
       "      <td>0</td>\n",
       "      <td>0</td>\n",
       "      <td>0</td>\n",
       "      <td>0</td>\n",
       "      <td>0</td>\n",
       "      <td>1</td>\n",
       "    </tr>\n",
       "    <tr>\n",
       "      <th>Action and Adventure|Animation|Classics|Comedy|Kids and Family|Musical and Performing Arts</th>\n",
       "      <td>1</td>\n",
       "      <td>0</td>\n",
       "      <td>0</td>\n",
       "      <td>0</td>\n",
       "      <td>0</td>\n",
       "      <td>0</td>\n",
       "    </tr>\n",
       "    <tr>\n",
       "      <th>Action and Adventure|Animation|Comedy</th>\n",
       "      <td>0</td>\n",
       "      <td>0</td>\n",
       "      <td>0</td>\n",
       "      <td>1</td>\n",
       "      <td>0</td>\n",
       "      <td>0</td>\n",
       "    </tr>\n",
       "    <tr>\n",
       "      <th>Action and Adventure|Animation|Comedy|Drama|Kids and Family</th>\n",
       "      <td>1</td>\n",
       "      <td>0</td>\n",
       "      <td>0</td>\n",
       "      <td>0</td>\n",
       "      <td>0</td>\n",
       "      <td>0</td>\n",
       "    </tr>\n",
       "    <tr>\n",
       "      <th>...</th>\n",
       "      <td>...</td>\n",
       "      <td>...</td>\n",
       "      <td>...</td>\n",
       "      <td>...</td>\n",
       "      <td>...</td>\n",
       "      <td>...</td>\n",
       "    </tr>\n",
       "    <tr>\n",
       "      <th>Mystery and Suspense|Science Fiction and Fantasy</th>\n",
       "      <td>0</td>\n",
       "      <td>0</td>\n",
       "      <td>0</td>\n",
       "      <td>0</td>\n",
       "      <td>2</td>\n",
       "      <td>0</td>\n",
       "    </tr>\n",
       "    <tr>\n",
       "      <th>Mystery and Suspense|Science Fiction and Fantasy|Western</th>\n",
       "      <td>0</td>\n",
       "      <td>0</td>\n",
       "      <td>0</td>\n",
       "      <td>0</td>\n",
       "      <td>0</td>\n",
       "      <td>1</td>\n",
       "    </tr>\n",
       "    <tr>\n",
       "      <th>Science Fiction and Fantasy</th>\n",
       "      <td>0</td>\n",
       "      <td>0</td>\n",
       "      <td>3</td>\n",
       "      <td>3</td>\n",
       "      <td>0</td>\n",
       "      <td>0</td>\n",
       "    </tr>\n",
       "    <tr>\n",
       "      <th>Science Fiction and Fantasy|Romance</th>\n",
       "      <td>0</td>\n",
       "      <td>0</td>\n",
       "      <td>1</td>\n",
       "      <td>0</td>\n",
       "      <td>0</td>\n",
       "      <td>0</td>\n",
       "    </tr>\n",
       "    <tr>\n",
       "      <th>Western</th>\n",
       "      <td>0</td>\n",
       "      <td>0</td>\n",
       "      <td>5</td>\n",
       "      <td>0</td>\n",
       "      <td>0</td>\n",
       "      <td>0</td>\n",
       "    </tr>\n",
       "  </tbody>\n",
       "</table>\n",
       "<p>294 rows × 6 columns</p>\n",
       "</div>"
      ],
      "text/plain": [
       "rating                                              G  NC17  NR  PG  PG-13  R\n",
       "genre                                                                        \n",
       "Action and Adventure                                0     0   9   2      2  5\n",
       "Action and Adventure|Animation|Art House and In...  0     0   0   0      0  1\n",
       "Action and Adventure|Animation|Classics|Comedy|...  1     0   0   0      0  0\n",
       "Action and Adventure|Animation|Comedy               0     0   0   1      0  0\n",
       "Action and Adventure|Animation|Comedy|Drama|Kid...  1     0   0   0      0  0\n",
       "...                                                ..   ...  ..  ..    ... ..\n",
       "Mystery and Suspense|Science Fiction and Fantasy    0     0   0   0      2  0\n",
       "Mystery and Suspense|Science Fiction and Fantas...  0     0   0   0      0  1\n",
       "Science Fiction and Fantasy                         0     0   3   3      0  0\n",
       "Science Fiction and Fantasy|Romance                 0     0   1   0      0  0\n",
       "Western                                             0     0   5   0      0  0\n",
       "\n",
       "[294 rows x 6 columns]"
      ]
     },
     "execution_count": 73,
     "metadata": {},
     "output_type": "execute_result"
    }
   ],
   "source": [
    "genre_rating= pd.crosstab(rt_movie_df[\"genre\"],rt_movie_df[\"rating\"])\n",
    "genre_rating"
   ]
  },
  {
   "cell_type": "markdown",
   "metadata": {},
   "source": [
    "Use value_counts() method to calculate frequency counts for categorical variables like rating and genre"
   ]
  },
  {
   "cell_type": "code",
   "execution_count": 74,
   "metadata": {},
   "outputs": [
    {
     "name": "stdout",
     "output_type": "stream",
     "text": [
      "Frequency counts for genre:\n",
      "Drama                                                                                                 146\n",
      "Comedy                                                                                                109\n",
      "Comedy|Drama                                                                                           80\n",
      "Drama|Mystery and Suspense                                                                             67\n",
      "Art House and International|Drama                                                                      61\n",
      "                                                                                                     ... \n",
      "Art House and International|Documentary|Drama|Musical and Performing Arts|Special Interest              1\n",
      "Art House and International|Classics|Comedy|Drama|Romance                                               1\n",
      "Classics|Comedy|Drama|Kids and Family|Musical and Performing Arts                                       1\n",
      "Action and Adventure|Anime and Manga|Art House and International|Science Fiction and Fantasy            1\n",
      "Action and Adventure|Art House and International|Drama|Kids and Family|Science Fiction and Fantasy      1\n",
      "Name: genre, Length: 294, dtype: int64\n",
      "Frequency counts for rating\n",
      "R        518\n",
      "NR       479\n",
      "PG       239\n",
      "PG-13    232\n",
      "G         57\n",
      "NC17       1\n",
      "Name: rating, dtype: int64\n"
     ]
    }
   ],
   "source": [
    "genre_counts = rt_movie_df[\"genre\"].value_counts()\n",
    "rating_counts = rt_movie_df[\"rating\"].value_counts()\n",
    "print(\"Frequency counts for genre:\")\n",
    "print(genre_counts)\n",
    "print(\"Frequency counts for rating\")\n",
    "print(rating_counts)\n"
   ]
  },
  {
   "cell_type": "markdown",
   "metadata": {},
   "source": [
    "# Get the top_10_genres of the dataset"
   ]
  },
  {
   "cell_type": "code",
   "execution_count": 75,
   "metadata": {},
   "outputs": [
    {
     "data": {
      "text/plain": [
       "Drama                                              146\n",
       "Comedy                                             109\n",
       "Comedy|Drama                                        80\n",
       "Drama|Mystery and Suspense                          67\n",
       "Art House and International|Drama                   61\n",
       "Action and Adventure|Drama                          41\n",
       "Action and Adventure|Drama|Mystery and Suspense     40\n",
       "Drama|Romance                                       35\n",
       "Comedy|Romance                                      32\n",
       "Horror                                              30\n",
       "Name: genre, dtype: int64"
      ]
     },
     "execution_count": 75,
     "metadata": {},
     "output_type": "execute_result"
    }
   ],
   "source": [
    "top_10_genres = genre_counts.head(10)\n",
    "top_10_genres"
   ]
  },
  {
   "cell_type": "markdown",
   "metadata": {},
   "source": [
    "# 5.1 bom.movie_gross.csv Analysis"
   ]
  },
  {
   "cell_type": "markdown",
   "metadata": {},
   "source": [
    "We start by looking at the descriptive statistics of our dataset to get an overview of the dataset including basic statitics about domestic gross"
   ]
  },
  {
   "cell_type": "code",
   "execution_count": 76,
   "metadata": {},
   "outputs": [
    {
     "data": {
      "text/html": [
       "<div>\n",
       "<style scoped>\n",
       "    .dataframe tbody tr th:only-of-type {\n",
       "        vertical-align: middle;\n",
       "    }\n",
       "\n",
       "    .dataframe tbody tr th {\n",
       "        vertical-align: top;\n",
       "    }\n",
       "\n",
       "    .dataframe thead th {\n",
       "        text-align: right;\n",
       "    }\n",
       "</style>\n",
       "<table border=\"1\" class=\"dataframe\">\n",
       "  <thead>\n",
       "    <tr style=\"text-align: right;\">\n",
       "      <th></th>\n",
       "      <th>domestic_gross</th>\n",
       "      <th>year</th>\n",
       "    </tr>\n",
       "  </thead>\n",
       "  <tbody>\n",
       "    <tr>\n",
       "      <th>count</th>\n",
       "      <td>3.387000e+03</td>\n",
       "      <td>3387.000000</td>\n",
       "    </tr>\n",
       "    <tr>\n",
       "      <th>mean</th>\n",
       "      <td>2.874585e+07</td>\n",
       "      <td>2013.958075</td>\n",
       "    </tr>\n",
       "    <tr>\n",
       "      <th>std</th>\n",
       "      <td>6.670497e+07</td>\n",
       "      <td>2.478141</td>\n",
       "    </tr>\n",
       "    <tr>\n",
       "      <th>min</th>\n",
       "      <td>1.000000e+02</td>\n",
       "      <td>2010.000000</td>\n",
       "    </tr>\n",
       "    <tr>\n",
       "      <th>25%</th>\n",
       "      <td>1.225000e+05</td>\n",
       "      <td>2012.000000</td>\n",
       "    </tr>\n",
       "    <tr>\n",
       "      <th>50%</th>\n",
       "      <td>1.400000e+06</td>\n",
       "      <td>2014.000000</td>\n",
       "    </tr>\n",
       "    <tr>\n",
       "      <th>75%</th>\n",
       "      <td>2.874585e+07</td>\n",
       "      <td>2016.000000</td>\n",
       "    </tr>\n",
       "    <tr>\n",
       "      <th>max</th>\n",
       "      <td>9.367000e+08</td>\n",
       "      <td>2018.000000</td>\n",
       "    </tr>\n",
       "  </tbody>\n",
       "</table>\n",
       "</div>"
      ],
      "text/plain": [
       "       domestic_gross         year\n",
       "count    3.387000e+03  3387.000000\n",
       "mean     2.874585e+07  2013.958075\n",
       "std      6.670497e+07     2.478141\n",
       "min      1.000000e+02  2010.000000\n",
       "25%      1.225000e+05  2012.000000\n",
       "50%      1.400000e+06  2014.000000\n",
       "75%      2.874585e+07  2016.000000\n",
       "max      9.367000e+08  2018.000000"
      ]
     },
     "execution_count": 76,
     "metadata": {},
     "output_type": "execute_result"
    }
   ],
   "source": [
    "# Descriptive statitics\n",
    "bom_movie_gross_df.describe()"
   ]
  },
  {
   "cell_type": "markdown",
   "metadata": {},
   "source": [
    "Use groupby method to get the average gross per year,get studio market share  for each studio and also the best performing movie"
   ]
  },
  {
   "cell_type": "code",
   "execution_count": 77,
   "metadata": {},
   "outputs": [
    {
     "data": {
      "text/plain": [
       "year\n",
       "2010    3.140444e+07\n",
       "2011    2.536754e+07\n",
       "2012    2.769457e+07\n",
       "2013    3.124588e+07\n",
       "2014    2.646259e+07\n",
       "2015    2.462256e+07\n",
       "2016    2.600892e+07\n",
       "2017    3.414957e+07\n",
       "2018    3.601042e+07\n",
       "Name: domestic_gross, dtype: float64"
      ]
     },
     "execution_count": 77,
     "metadata": {},
     "output_type": "execute_result"
    }
   ],
   "source": [
    "# get the average gross per year\n",
    "avg_gross_per_year = bom_movie_gross_df.groupby(\"year\").mean()[\"domestic_gross\"]\n",
    "avg_gross_per_year"
   ]
  },
  {
   "cell_type": "markdown",
   "metadata": {},
   "source": [
    "Calculate the studio market share using groupby"
   ]
  },
  {
   "cell_type": "code",
   "execution_count": 78,
   "metadata": {},
   "outputs": [
    {
     "data": {
      "text/plain": [
       "studio\n",
       "3D       0.000063\n",
       "A23      0.000002\n",
       "A24      0.003330\n",
       "ADC      0.000003\n",
       "AF       0.000022\n",
       "           ...   \n",
       "XL       0.000005\n",
       "YFG      0.000011\n",
       "Yash     0.000620\n",
       "Zee      0.000011\n",
       "Zeit.    0.000058\n",
       "Name: domestic_gross, Length: 257, dtype: float64"
      ]
     },
     "execution_count": 78,
     "metadata": {},
     "output_type": "execute_result"
    }
   ],
   "source": [
    "#Get the studio market share\n",
    "studio_market_share = bom_movie_gross_df.groupby(\"studio\").sum()[\"domestic_gross\"]/bom_movie_gross_df[\"domestic_gross\"].sum()\n",
    "studio_market_share"
   ]
  },
  {
   "cell_type": "markdown",
   "metadata": {},
   "source": [
    "Also we will use the groupby method to get the top performing movie title"
   ]
  },
  {
   "cell_type": "code",
   "execution_count": 79,
   "metadata": {},
   "outputs": [
    {
     "data": {
      "text/plain": [
       "title\n",
       "Star Wars: The Force Awakens    936700000.0\n",
       "Black Panther                   700100000.0\n",
       "Avengers: Infinity War          678800000.0\n",
       "Jurassic World                  652300000.0\n",
       "Marvel's The Avengers           623400000.0\n",
       "Star Wars: The Last Jedi        620200000.0\n",
       "Incredibles 2                   608600000.0\n",
       "Rogue One: A Star Wars Story    532200000.0\n",
       "Beauty and the Beast (2017)     504000000.0\n",
       "Finding Dory                    486300000.0\n",
       "Name: domestic_gross, dtype: float64"
      ]
     },
     "execution_count": 79,
     "metadata": {},
     "output_type": "execute_result"
    }
   ],
   "source": [
    "#top performer Analysis\n",
    "#Group by title and sum the domestic gross\n",
    "title_gross = bom_movie_gross_df.groupby(\"title\")[\"domestic_gross\"].sum()\n",
    "#sort the title based on the summed domestic\n",
    "sorted_title = title_gross.sort_values(ascending=False)\n",
    "top_10_movie_title = sorted_title.head(10)\n",
    "top_10_movie_title"
   ]
  },
  {
   "cell_type": "markdown",
   "metadata": {},
   "source": [
    "Using groupby to get the best performing studios"
   ]
  },
  {
   "cell_type": "code",
   "execution_count": 80,
   "metadata": {},
   "outputs": [
    {
     "data": {
      "text/plain": [
       "studio\n",
       "BV      1.841903e+10\n",
       "Uni.    1.290239e+10\n",
       "WB      1.216805e+10\n",
       "Fox     1.094950e+10\n",
       "Sony    8.488429e+09\n",
       "Name: domestic_gross, dtype: float64"
      ]
     },
     "execution_count": 80,
     "metadata": {},
     "output_type": "execute_result"
    }
   ],
   "source": [
    "#Group by studio and sum the domestic gross\n",
    "studio_gross = bom_movie_gross_df.groupby(\"studio\")[\"domestic_gross\"].sum()\n",
    "#sort the studios based on the summed domestic\n",
    "sorted_studios = studio_gross.sort_values(ascending=False)\n",
    "top_5_studios = sorted_studios.head(5)\n",
    "top_5_studios"
   ]
  },
  {
   "cell_type": "markdown",
   "metadata": {},
   "source": [
    "# Data visualization\n",
    "\n",
    "# 1.1.2 tmdb.movies visualization\n",
    "\n",
    "1. We start by plotting top_years and show how much releases per each top year"
   ]
  },
  {
   "cell_type": "code",
   "execution_count": 81,
   "metadata": {},
   "outputs": [
    {
     "data": {
      "text/html": [
       "<div>\n",
       "<style scoped>\n",
       "    .dataframe tbody tr th:only-of-type {\n",
       "        vertical-align: middle;\n",
       "    }\n",
       "\n",
       "    .dataframe tbody tr th {\n",
       "        vertical-align: top;\n",
       "    }\n",
       "\n",
       "    .dataframe thead th {\n",
       "        text-align: right;\n",
       "    }\n",
       "</style>\n",
       "<table border=\"1\" class=\"dataframe\">\n",
       "  <thead>\n",
       "    <tr style=\"text-align: right;\">\n",
       "      <th></th>\n",
       "      <th>genre_ids</th>\n",
       "      <th>id</th>\n",
       "      <th>original_language</th>\n",
       "      <th>original_title</th>\n",
       "      <th>popularity</th>\n",
       "      <th>release_date</th>\n",
       "      <th>title</th>\n",
       "      <th>vote_average</th>\n",
       "      <th>vote_count</th>\n",
       "      <th>release_year</th>\n",
       "    </tr>\n",
       "  </thead>\n",
       "  <tbody>\n",
       "    <tr>\n",
       "      <th>0</th>\n",
       "      <td>[12, 14, 10751]</td>\n",
       "      <td>12444</td>\n",
       "      <td>en</td>\n",
       "      <td>Harry Potter and the Deathly Hallows: Part 1</td>\n",
       "      <td>33.533</td>\n",
       "      <td>2010-11-19</td>\n",
       "      <td>Harry Potter and the Deathly Hallows: Part 1</td>\n",
       "      <td>7.7</td>\n",
       "      <td>10788</td>\n",
       "      <td>2010</td>\n",
       "    </tr>\n",
       "    <tr>\n",
       "      <th>1</th>\n",
       "      <td>[14, 12, 16, 10751]</td>\n",
       "      <td>10191</td>\n",
       "      <td>en</td>\n",
       "      <td>How to Train Your Dragon</td>\n",
       "      <td>28.734</td>\n",
       "      <td>2010-03-26</td>\n",
       "      <td>How to Train Your Dragon</td>\n",
       "      <td>7.7</td>\n",
       "      <td>7610</td>\n",
       "      <td>2010</td>\n",
       "    </tr>\n",
       "    <tr>\n",
       "      <th>2</th>\n",
       "      <td>[12, 28, 878]</td>\n",
       "      <td>10138</td>\n",
       "      <td>en</td>\n",
       "      <td>Iron Man 2</td>\n",
       "      <td>28.515</td>\n",
       "      <td>2010-05-07</td>\n",
       "      <td>Iron Man 2</td>\n",
       "      <td>6.8</td>\n",
       "      <td>12368</td>\n",
       "      <td>2010</td>\n",
       "    </tr>\n",
       "    <tr>\n",
       "      <th>3</th>\n",
       "      <td>[16, 35, 10751]</td>\n",
       "      <td>862</td>\n",
       "      <td>en</td>\n",
       "      <td>Toy Story</td>\n",
       "      <td>28.005</td>\n",
       "      <td>1995-11-22</td>\n",
       "      <td>Toy Story</td>\n",
       "      <td>7.9</td>\n",
       "      <td>10174</td>\n",
       "      <td>1995</td>\n",
       "    </tr>\n",
       "    <tr>\n",
       "      <th>4</th>\n",
       "      <td>[28, 878, 12]</td>\n",
       "      <td>27205</td>\n",
       "      <td>en</td>\n",
       "      <td>Inception</td>\n",
       "      <td>27.920</td>\n",
       "      <td>2010-07-16</td>\n",
       "      <td>Inception</td>\n",
       "      <td>8.3</td>\n",
       "      <td>22186</td>\n",
       "      <td>2010</td>\n",
       "    </tr>\n",
       "  </tbody>\n",
       "</table>\n",
       "</div>"
      ],
      "text/plain": [
       "             genre_ids     id original_language  \\\n",
       "0      [12, 14, 10751]  12444                en   \n",
       "1  [14, 12, 16, 10751]  10191                en   \n",
       "2        [12, 28, 878]  10138                en   \n",
       "3      [16, 35, 10751]    862                en   \n",
       "4        [28, 878, 12]  27205                en   \n",
       "\n",
       "                                 original_title  popularity release_date  \\\n",
       "0  Harry Potter and the Deathly Hallows: Part 1      33.533   2010-11-19   \n",
       "1                      How to Train Your Dragon      28.734   2010-03-26   \n",
       "2                                    Iron Man 2      28.515   2010-05-07   \n",
       "3                                     Toy Story      28.005   1995-11-22   \n",
       "4                                     Inception      27.920   2010-07-16   \n",
       "\n",
       "                                          title  vote_average  vote_count  \\\n",
       "0  Harry Potter and the Deathly Hallows: Part 1           7.7       10788   \n",
       "1                      How to Train Your Dragon           7.7        7610   \n",
       "2                                    Iron Man 2           6.8       12368   \n",
       "3                                     Toy Story           7.9       10174   \n",
       "4                                     Inception           8.3       22186   \n",
       "\n",
       "   release_year  \n",
       "0          2010  \n",
       "1          2010  \n",
       "2          2010  \n",
       "3          1995  \n",
       "4          2010  "
      ]
     },
     "execution_count": 81,
     "metadata": {},
     "output_type": "execute_result"
    }
   ],
   "source": [
    "tmdb_df.head()"
   ]
  },
  {
   "cell_type": "markdown",
   "metadata": {},
   "source": [
    "# Years with the highest Number of Release Visualization"
   ]
  },
  {
   "cell_type": "code",
   "execution_count": 82,
   "metadata": {},
   "outputs": [
    {
     "data": {
      "image/png": "[encoded data removed]",
      "text/plain": [
       "<Figure size 720x432 with 1 Axes>"
      ]
     },
     "metadata": {
      "needs_background": "light"
     },
     "output_type": "display_data"
    }
   ],
   "source": [
    "top_years = tmdb_df[\"release_date\"].dt.year.value_counts().nlargest(10)\n",
    "#plotting bar graph\n",
    "plt.figure(figsize=(10,6))\n",
    "top_years.plot(kind=\"bar\",color=\"green\")\n",
    "#Labeling axis and title\n",
    "plt.title(\"Top Ten Years with Highest Number of Release\")\n",
    "plt.xlabel(\"Year\")\n",
    "plt.ylabel(\"Number of Releases\")\n",
    "plt.xticks(rotation=45)\n",
    "plt.tight_layout()\n",
    "plt.show()\n"
   ]
  },
  {
   "cell_type": "markdown",
   "metadata": {},
   "source": [
    "From the bar graph we can see the best performing year was 2015 these means majority of the movies where released in 2015 alot was not happening in 2019"
   ]
  },
  {
   "cell_type": "markdown",
   "metadata": {},
   "source": [
    "# Most popular language visualization"
   ]
  },
  {
   "cell_type": "code",
   "execution_count": 83,
   "metadata": {},
   "outputs": [
    {
     "data": {
      "text/html": [
       "<div>\n",
       "<style scoped>\n",
       "    .dataframe tbody tr th:only-of-type {\n",
       "        vertical-align: middle;\n",
       "    }\n",
       "\n",
       "    .dataframe tbody tr th {\n",
       "        vertical-align: top;\n",
       "    }\n",
       "\n",
       "    .dataframe thead th {\n",
       "        text-align: right;\n",
       "    }\n",
       "</style>\n",
       "<table border=\"1\" class=\"dataframe\">\n",
       "  <thead>\n",
       "    <tr style=\"text-align: right;\">\n",
       "      <th></th>\n",
       "      <th>original_language</th>\n",
       "      <th>popularity</th>\n",
       "    </tr>\n",
       "  </thead>\n",
       "  <tbody>\n",
       "    <tr>\n",
       "      <th>47</th>\n",
       "      <td>nb</td>\n",
       "      <td>8.221000</td>\n",
       "    </tr>\n",
       "    <tr>\n",
       "      <th>63</th>\n",
       "      <td>sw</td>\n",
       "      <td>7.440000</td>\n",
       "    </tr>\n",
       "    <tr>\n",
       "      <th>34</th>\n",
       "      <td>ja</td>\n",
       "      <td>5.711072</td>\n",
       "    </tr>\n",
       "    <tr>\n",
       "      <th>30</th>\n",
       "      <td>hz</td>\n",
       "      <td>5.495000</td>\n",
       "    </tr>\n",
       "    <tr>\n",
       "      <th>69</th>\n",
       "      <td>uk</td>\n",
       "      <td>5.331000</td>\n",
       "    </tr>\n",
       "    <tr>\n",
       "      <th>31</th>\n",
       "      <td>id</td>\n",
       "      <td>5.187000</td>\n",
       "    </tr>\n",
       "    <tr>\n",
       "      <th>1</th>\n",
       "      <td>af</td>\n",
       "      <td>4.814000</td>\n",
       "    </tr>\n",
       "    <tr>\n",
       "      <th>62</th>\n",
       "      <td>sv</td>\n",
       "      <td>4.799897</td>\n",
       "    </tr>\n",
       "    <tr>\n",
       "      <th>44</th>\n",
       "      <td>mi</td>\n",
       "      <td>4.746000</td>\n",
       "    </tr>\n",
       "    <tr>\n",
       "      <th>38</th>\n",
       "      <td>ko</td>\n",
       "      <td>4.697441</td>\n",
       "    </tr>\n",
       "  </tbody>\n",
       "</table>\n",
       "</div>"
      ],
      "text/plain": [
       "   original_language  popularity\n",
       "47                nb    8.221000\n",
       "63                sw    7.440000\n",
       "34                ja    5.711072\n",
       "30                hz    5.495000\n",
       "69                uk    5.331000\n",
       "31                id    5.187000\n",
       "1                 af    4.814000\n",
       "62                sv    4.799897\n",
       "44                mi    4.746000\n",
       "38                ko    4.697441"
      ]
     },
     "execution_count": 83,
     "metadata": {},
     "output_type": "execute_result"
    }
   ],
   "source": [
    "top_10_popular_language = language_popularity.sort_values(by=\"popularity\",ascending=False).head(10)\n",
    "top_10_popular_language"
   ]
  },
  {
   "cell_type": "code",
   "execution_count": 84,
   "metadata": {},
   "outputs": [
    {
     "data": {
      "image/png": "[encoded data removed]",
      "text/plain": [
       "<Figure size 1080x576 with 1 Axes>"
      ]
     },
     "metadata": {
      "needs_background": "light"
     },
     "output_type": "display_data"
    }
   ],
   "source": [
    "# Plotting bar graph\n",
    "plt.figure(figsize=(15,8))\n",
    "plt.bar(top_10_popular_language['original_language'], top_10_popular_language['popularity'], color='green')\n",
    "#labeling axis and title\n",
    "plt.xlabel('Language')\n",
    "plt.ylabel('Popularity')\n",
    "plt.title('Top Ten Popular Languages')\n",
    "plt.xticks(rotation=45)\n",
    "plt.tight_layout()\n",
    "plt.show()"
   ]
  },
  {
   "cell_type": "code",
   "execution_count": 85,
   "metadata": {},
   "outputs": [
    {
     "data": {
      "text/html": [
       "<div>\n",
       "<style scoped>\n",
       "    .dataframe tbody tr th:only-of-type {\n",
       "        vertical-align: middle;\n",
       "    }\n",
       "\n",
       "    .dataframe tbody tr th {\n",
       "        vertical-align: top;\n",
       "    }\n",
       "\n",
       "    .dataframe thead th {\n",
       "        text-align: right;\n",
       "    }\n",
       "</style>\n",
       "<table border=\"1\" class=\"dataframe\">\n",
       "  <thead>\n",
       "    <tr style=\"text-align: right;\">\n",
       "      <th></th>\n",
       "      <th>original_language</th>\n",
       "      <th>popularity</th>\n",
       "    </tr>\n",
       "  </thead>\n",
       "  <tbody>\n",
       "    <tr>\n",
       "      <th>47</th>\n",
       "      <td>nb</td>\n",
       "      <td>8.221000</td>\n",
       "    </tr>\n",
       "    <tr>\n",
       "      <th>63</th>\n",
       "      <td>sw</td>\n",
       "      <td>7.440000</td>\n",
       "    </tr>\n",
       "    <tr>\n",
       "      <th>34</th>\n",
       "      <td>ja</td>\n",
       "      <td>5.711072</td>\n",
       "    </tr>\n",
       "    <tr>\n",
       "      <th>30</th>\n",
       "      <td>hz</td>\n",
       "      <td>5.495000</td>\n",
       "    </tr>\n",
       "    <tr>\n",
       "      <th>69</th>\n",
       "      <td>uk</td>\n",
       "      <td>5.331000</td>\n",
       "    </tr>\n",
       "    <tr>\n",
       "      <th>31</th>\n",
       "      <td>id</td>\n",
       "      <td>5.187000</td>\n",
       "    </tr>\n",
       "    <tr>\n",
       "      <th>1</th>\n",
       "      <td>af</td>\n",
       "      <td>4.814000</td>\n",
       "    </tr>\n",
       "    <tr>\n",
       "      <th>62</th>\n",
       "      <td>sv</td>\n",
       "      <td>4.799897</td>\n",
       "    </tr>\n",
       "    <tr>\n",
       "      <th>44</th>\n",
       "      <td>mi</td>\n",
       "      <td>4.746000</td>\n",
       "    </tr>\n",
       "    <tr>\n",
       "      <th>38</th>\n",
       "      <td>ko</td>\n",
       "      <td>4.697441</td>\n",
       "    </tr>\n",
       "  </tbody>\n",
       "</table>\n",
       "</div>"
      ],
      "text/plain": [
       "   original_language  popularity\n",
       "47                nb    8.221000\n",
       "63                sw    7.440000\n",
       "34                ja    5.711072\n",
       "30                hz    5.495000\n",
       "69                uk    5.331000\n",
       "31                id    5.187000\n",
       "1                 af    4.814000\n",
       "62                sv    4.799897\n",
       "44                mi    4.746000\n",
       "38                ko    4.697441"
      ]
     },
     "execution_count": 85,
     "metadata": {},
     "output_type": "execute_result"
    }
   ],
   "source": [
    "top_10_popular_language"
   ]
  },
  {
   "cell_type": "markdown",
   "metadata": {},
   "source": [
    "# Correlation between vote_avarage,popularity and vote_count"
   ]
  },
  {
   "cell_type": "code",
   "execution_count": 86,
   "metadata": {},
   "outputs": [
    {
     "data": {
      "text/html": [
       "<div>\n",
       "<style scoped>\n",
       "    .dataframe tbody tr th:only-of-type {\n",
       "        vertical-align: middle;\n",
       "    }\n",
       "\n",
       "    .dataframe tbody tr th {\n",
       "        vertical-align: top;\n",
       "    }\n",
       "\n",
       "    .dataframe thead th {\n",
       "        text-align: right;\n",
       "    }\n",
       "</style>\n",
       "<table border=\"1\" class=\"dataframe\">\n",
       "  <thead>\n",
       "    <tr style=\"text-align: right;\">\n",
       "      <th></th>\n",
       "      <th>vote_average</th>\n",
       "      <th>vote_count</th>\n",
       "      <th>popularity</th>\n",
       "    </tr>\n",
       "  </thead>\n",
       "  <tbody>\n",
       "    <tr>\n",
       "      <th>vote_average</th>\n",
       "      <td>1.000000</td>\n",
       "      <td>0.086370</td>\n",
       "      <td>0.065273</td>\n",
       "    </tr>\n",
       "    <tr>\n",
       "      <th>vote_count</th>\n",
       "      <td>0.086370</td>\n",
       "      <td>1.000000</td>\n",
       "      <td>0.694849</td>\n",
       "    </tr>\n",
       "    <tr>\n",
       "      <th>popularity</th>\n",
       "      <td>0.065273</td>\n",
       "      <td>0.694849</td>\n",
       "      <td>1.000000</td>\n",
       "    </tr>\n",
       "  </tbody>\n",
       "</table>\n",
       "</div>"
      ],
      "text/plain": [
       "              vote_average  vote_count  popularity\n",
       "vote_average      1.000000    0.086370    0.065273\n",
       "vote_count        0.086370    1.000000    0.694849\n",
       "popularity        0.065273    0.694849    1.000000"
      ]
     },
     "execution_count": 86,
     "metadata": {},
     "output_type": "execute_result"
    }
   ],
   "source": [
    "correlation_matrix = tmdb_df[[\"vote_average\",\"vote_count\",\"popularity\"]].corr()\n",
    "correlation_matrix"
   ]
  },
  {
   "cell_type": "code",
   "execution_count": 87,
   "metadata": {},
   "outputs": [
    {
     "data": {
      "image/png": "[encoded data removed]",
      "text/plain": [
       "<Figure size 1296x432 with 3 Axes>"
      ]
     },
     "metadata": {
      "needs_background": "light"
     },
     "output_type": "display_data"
    }
   ],
   "source": [
    "#create a scatter plots\n",
    "plt.figure(figsize=(18,6))\n",
    "# Scatter plot vote_average vs popularity\n",
    "plt.subplot(1,3,2)\n",
    "plt.scatter(tmdb_df[\"vote_average\"],tmdb_df[\"popularity\"],\n",
    "alpha=0.5)\n",
    "#label axis and title\n",
    "plt.title(\"Vote Average vs Popularity\")\n",
    "plt.xlabel(\"Vote Average\")\n",
    "plt.ylabel(\"Popularity\")\n",
    "#Scatter plot vote count vs popularity\n",
    "plt.subplot(1,3,3)\n",
    "plt.scatter(tmdb_df[\"vote_count\"],tmdb_df[\"popularity\"],\n",
    "alpha=0.5)\n",
    "#label axis and title\n",
    "plt.title(\"Vote Count vs Popularity\")\n",
    "plt.xlabel(\"Vote Count\")\n",
    "plt.ylabel(\"Popularity\")\n",
    "# Scatter plot vote average vs vote count\n",
    "plt.subplot(1,3,1)\n",
    "plt.scatter(tmdb_df[\"vote_average\"],tmdb_df[\"vote_count\"],\n",
    "alpha=0.5)\n",
    "#Label axis and title\n",
    "plt.title(\"Vote Average vs Vote Count\")\n",
    "plt.xlabel(\"Vote Average\")\n",
    "plt.ylabel(\"Vote Count\")\n",
    "\n",
    "plt.tight_layout()\n",
    "plt.show()\n"
   ]
  },
  {
   "cell_type": "markdown",
   "metadata": {},
   "source": [
    "We can say we have a very positive relationship between vote count vs popularity as compared to others,which means that movies with higher vote counts tend to be more popular\n",
    "From our correlation we can see Correlation between vote_count and popularity  is a strong correlation it indicates that movies with more votes tend to be more popular. It suggets that as the number of votes increases,the popularity of the movie also increases"
   ]
  },
  {
   "cell_type": "markdown",
   "metadata": {},
   "source": [
    "# 2.1.2 rt.reviews.tsv visualization\n",
    "\n"
   ]
  },
  {
   "cell_type": "code",
   "execution_count": 88,
   "metadata": {},
   "outputs": [
    {
     "data": {
      "text/html": [
       "<div>\n",
       "<style scoped>\n",
       "    .dataframe tbody tr th:only-of-type {\n",
       "        vertical-align: middle;\n",
       "    }\n",
       "\n",
       "    .dataframe tbody tr th {\n",
       "        vertical-align: top;\n",
       "    }\n",
       "\n",
       "    .dataframe thead th {\n",
       "        text-align: right;\n",
       "    }\n",
       "</style>\n",
       "<table border=\"1\" class=\"dataframe\">\n",
       "  <thead>\n",
       "    <tr style=\"text-align: right;\">\n",
       "      <th></th>\n",
       "      <th>id</th>\n",
       "      <th>review</th>\n",
       "      <th>rating</th>\n",
       "      <th>fresh</th>\n",
       "      <th>critic</th>\n",
       "      <th>top_critic</th>\n",
       "      <th>publisher</th>\n",
       "      <th>date</th>\n",
       "    </tr>\n",
       "  </thead>\n",
       "  <tbody>\n",
       "    <tr>\n",
       "      <th>0</th>\n",
       "      <td>3</td>\n",
       "      <td>A distinctly gallows take on contemporary fina...</td>\n",
       "      <td>3.0</td>\n",
       "      <td>fresh</td>\n",
       "      <td>PJ Nabarro</td>\n",
       "      <td>0</td>\n",
       "      <td>Patrick Nabarro</td>\n",
       "      <td>November 10, 2018</td>\n",
       "    </tr>\n",
       "    <tr>\n",
       "      <th>1</th>\n",
       "      <td>3</td>\n",
       "      <td>It's an allegory in search of a meaning that n...</td>\n",
       "      <td>-1.0</td>\n",
       "      <td>rotten</td>\n",
       "      <td>Annalee Newitz</td>\n",
       "      <td>0</td>\n",
       "      <td>io9.com</td>\n",
       "      <td>May 23, 2018</td>\n",
       "    </tr>\n",
       "    <tr>\n",
       "      <th>2</th>\n",
       "      <td>3</td>\n",
       "      <td>... life lived in a bubble in financial dealin...</td>\n",
       "      <td>-1.0</td>\n",
       "      <td>fresh</td>\n",
       "      <td>Sean Axmaker</td>\n",
       "      <td>0</td>\n",
       "      <td>Stream on Demand</td>\n",
       "      <td>January 4, 2018</td>\n",
       "    </tr>\n",
       "    <tr>\n",
       "      <th>3</th>\n",
       "      <td>3</td>\n",
       "      <td>Continuing along a line introduced in last yea...</td>\n",
       "      <td>-1.0</td>\n",
       "      <td>fresh</td>\n",
       "      <td>Daniel Kasman</td>\n",
       "      <td>0</td>\n",
       "      <td>MUBI</td>\n",
       "      <td>November 16, 2017</td>\n",
       "    </tr>\n",
       "    <tr>\n",
       "      <th>4</th>\n",
       "      <td>3</td>\n",
       "      <td>... a perverse twist on neorealism...</td>\n",
       "      <td>-1.0</td>\n",
       "      <td>fresh</td>\n",
       "      <td>Unknown Critic</td>\n",
       "      <td>0</td>\n",
       "      <td>Cinema Scope</td>\n",
       "      <td>October 12, 2017</td>\n",
       "    </tr>\n",
       "  </tbody>\n",
       "</table>\n",
       "</div>"
      ],
      "text/plain": [
       "   id                                             review  rating   fresh  \\\n",
       "0   3  A distinctly gallows take on contemporary fina...     3.0   fresh   \n",
       "1   3  It's an allegory in search of a meaning that n...    -1.0  rotten   \n",
       "2   3  ... life lived in a bubble in financial dealin...    -1.0   fresh   \n",
       "3   3  Continuing along a line introduced in last yea...    -1.0   fresh   \n",
       "4   3             ... a perverse twist on neorealism...     -1.0   fresh   \n",
       "\n",
       "           critic  top_critic         publisher               date  \n",
       "0      PJ Nabarro           0   Patrick Nabarro  November 10, 2018  \n",
       "1  Annalee Newitz           0           io9.com       May 23, 2018  \n",
       "2    Sean Axmaker           0  Stream on Demand    January 4, 2018  \n",
       "3   Daniel Kasman           0              MUBI  November 16, 2017  \n",
       "4  Unknown Critic           0      Cinema Scope   October 12, 2017  "
      ]
     },
     "execution_count": 88,
     "metadata": {},
     "output_type": "execute_result"
    }
   ],
   "source": [
    "rt_reviews_df.head()"
   ]
  },
  {
   "cell_type": "markdown",
   "metadata": {},
   "source": [
    "# Top Publishers Visualization"
   ]
  },
  {
   "cell_type": "code",
   "execution_count": 89,
   "metadata": {},
   "outputs": [
    {
     "data": {
      "text/html": [
       "<div>\n",
       "<style scoped>\n",
       "    .dataframe tbody tr th:only-of-type {\n",
       "        vertical-align: middle;\n",
       "    }\n",
       "\n",
       "    .dataframe tbody tr th {\n",
       "        vertical-align: top;\n",
       "    }\n",
       "\n",
       "    .dataframe thead th {\n",
       "        text-align: right;\n",
       "    }\n",
       "</style>\n",
       "<table border=\"1\" class=\"dataframe\">\n",
       "  <thead>\n",
       "    <tr style=\"text-align: right;\">\n",
       "      <th></th>\n",
       "      <th>publisher</th>\n",
       "      <th>rating</th>\n",
       "    </tr>\n",
       "  </thead>\n",
       "  <tbody>\n",
       "    <tr>\n",
       "      <th>1037</th>\n",
       "      <td>Tampa Tribune</td>\n",
       "      <td>9.0</td>\n",
       "    </tr>\n",
       "    <tr>\n",
       "      <th>902</th>\n",
       "      <td>Rotten Tomatoes</td>\n",
       "      <td>9.0</td>\n",
       "    </tr>\n",
       "    <tr>\n",
       "      <th>269</th>\n",
       "      <td>CutPrintFilm</td>\n",
       "      <td>9.0</td>\n",
       "    </tr>\n",
       "    <tr>\n",
       "      <th>24</th>\n",
       "      <td>AfterElton.com</td>\n",
       "      <td>9.0</td>\n",
       "    </tr>\n",
       "    <tr>\n",
       "      <th>889</th>\n",
       "      <td>Revolver</td>\n",
       "      <td>9.0</td>\n",
       "    </tr>\n",
       "    <tr>\n",
       "      <th>1254</th>\n",
       "      <td>cinemaobsession.com</td>\n",
       "      <td>9.0</td>\n",
       "    </tr>\n",
       "    <tr>\n",
       "      <th>234</th>\n",
       "      <td>Colbybryant.com</td>\n",
       "      <td>8.5</td>\n",
       "    </tr>\n",
       "    <tr>\n",
       "      <th>458</th>\n",
       "      <td>Gay.com UK</td>\n",
       "      <td>8.0</td>\n",
       "    </tr>\n",
       "    <tr>\n",
       "      <th>652</th>\n",
       "      <td>Maven's Nest</td>\n",
       "      <td>8.0</td>\n",
       "    </tr>\n",
       "    <tr>\n",
       "      <th>862</th>\n",
       "      <td>Rave Reviews</td>\n",
       "      <td>8.0</td>\n",
       "    </tr>\n",
       "  </tbody>\n",
       "</table>\n",
       "</div>"
      ],
      "text/plain": [
       "                publisher  rating\n",
       "1037        Tampa Tribune     9.0\n",
       "902       Rotten Tomatoes     9.0\n",
       "269          CutPrintFilm     9.0\n",
       "24         AfterElton.com     9.0\n",
       "889              Revolver     9.0\n",
       "1254  cinemaobsession.com     9.0\n",
       "234       Colbybryant.com     8.5\n",
       "458            Gay.com UK     8.0\n",
       "652          Maven's Nest     8.0\n",
       "862          Rave Reviews     8.0"
      ]
     },
     "execution_count": 89,
     "metadata": {},
     "output_type": "execute_result"
    }
   ],
   "source": [
    "top_publishers = mean_ratings_by_publisher.sort_values(by=\"rating\",ascending=False).head(10)\n",
    "top_publishers"
   ]
  },
  {
   "cell_type": "code",
   "execution_count": 90,
   "metadata": {},
   "outputs": [
    {
     "data": {
      "image/png": "[encoded data removed]",
      "text/plain": [
       "<Figure size 1080x576 with 1 Axes>"
      ]
     },
     "metadata": {
      "needs_background": "light"
     },
     "output_type": "display_data"
    }
   ],
   "source": [
    "#plot the bar graph\n",
    "plt.figure(figsize=(15,8))\n",
    "plt.bar(top_publishers['publisher'], top_publishers['rating'], color='green')\n",
    "# label axis and title\n",
    "plt.xlabel('Publisher')\n",
    "plt.ylabel('Rating for Top Publisher')\n",
    "plt.title('Top Ten Publishers Based On Rating')\n",
    "plt.xticks(rotation=45)\n",
    "plt.tight_layout()\n",
    "plt.show()"
   ]
  },
  {
   "cell_type": "markdown",
   "metadata": {},
   "source": [
    "# Visualization on Reviews Based on Top critic,Rating and Fresh"
   ]
  },
  {
   "cell_type": "code",
   "execution_count": 91,
   "metadata": {},
   "outputs": [],
   "source": [
    "import seaborn as sns\n"
   ]
  },
  {
   "cell_type": "code",
   "execution_count": 92,
   "metadata": {},
   "outputs": [
    {
     "data": {
      "text/plain": [
       "<AxesSubplot:xlabel='top_critic', ylabel='count'>"
      ]
     },
     "execution_count": 92,
     "metadata": {},
     "output_type": "execute_result"
    },
    {
     "data": {
      "image/png": "[encoded data removed]",
      "text/plain": [
       "<Figure size 720x432 with 3 Axes>"
      ]
     },
     "metadata": {
      "needs_background": "light"
     },
     "output_type": "display_data"
    }
   ],
   "source": [
    "plt.figure(figsize=(10,6))\n",
    "plt.subplot(2,2,1)\n",
    "sns.countplot(data=rt_reviews_df,x=\"rating\")\n",
    "#Bar plot of fresh\n",
    "plt.subplot(2,2,2)\n",
    "sns.countplot(data=rt_reviews_df,x=\"fresh\")\n",
    "#Bar plot of top_critic\n",
    "plt.subplot(2,2,3)\n",
    "sns.countplot(data=rt_reviews_df,x=\"top_critic\")"
   ]
  },
  {
   "cell_type": "markdown",
   "metadata": {},
   "source": [
    "We have used sns.countplot() to show the counts of observation in each category of our categorical variable\n",
    "\n",
    "We can say since our movies have alot of fresh compared to rotten these mean critics perceived and reviewed movies with fresh indicating a positive reception and for those perceived and reviewed with rotten means negative reception"
   ]
  },
  {
   "cell_type": "markdown",
   "metadata": {},
   "source": [
    "We can also say based on rating most movies have a -1 of which we used -1 as a placeholder that indicates most of the movies in our dataset where not rated since the percetange of place holder is much higher. But we can say majority of the movies received a rating between 2-3 as per our rating count."
   ]
  },
  {
   "cell_type": "markdown",
   "metadata": {},
   "source": [
    "# 3.1.2 tn.movie_budgets visualization"
   ]
  },
  {
   "cell_type": "code",
   "execution_count": 93,
   "metadata": {},
   "outputs": [
    {
     "data": {
      "text/html": [
       "<div>\n",
       "<style scoped>\n",
       "    .dataframe tbody tr th:only-of-type {\n",
       "        vertical-align: middle;\n",
       "    }\n",
       "\n",
       "    .dataframe tbody tr th {\n",
       "        vertical-align: top;\n",
       "    }\n",
       "\n",
       "    .dataframe thead th {\n",
       "        text-align: right;\n",
       "    }\n",
       "</style>\n",
       "<table border=\"1\" class=\"dataframe\">\n",
       "  <thead>\n",
       "    <tr style=\"text-align: right;\">\n",
       "      <th></th>\n",
       "      <th>id</th>\n",
       "      <th>release_date</th>\n",
       "      <th>movie</th>\n",
       "      <th>production_budget $</th>\n",
       "      <th>domestic_gross $</th>\n",
       "      <th>worldwide_gross $</th>\n",
       "      <th>profitability_ratio</th>\n",
       "      <th>release_year</th>\n",
       "      <th>ROI</th>\n",
       "      <th>profit</th>\n",
       "    </tr>\n",
       "  </thead>\n",
       "  <tbody>\n",
       "    <tr>\n",
       "      <th>0</th>\n",
       "      <td>1</td>\n",
       "      <td>Dec 18, 2009</td>\n",
       "      <td>Avatar</td>\n",
       "      <td>425000000.0</td>\n",
       "      <td>760507625.0</td>\n",
       "      <td>2.776345e+09</td>\n",
       "      <td>6.532577</td>\n",
       "      <td>2009</td>\n",
       "      <td>5.532577</td>\n",
       "      <td>2.351345e+09</td>\n",
       "    </tr>\n",
       "    <tr>\n",
       "      <th>1</th>\n",
       "      <td>2</td>\n",
       "      <td>May 20, 2011</td>\n",
       "      <td>Pirates of the Caribbean: On Stranger Tides</td>\n",
       "      <td>410600000.0</td>\n",
       "      <td>241063875.0</td>\n",
       "      <td>1.045664e+09</td>\n",
       "      <td>2.546673</td>\n",
       "      <td>2011</td>\n",
       "      <td>1.546673</td>\n",
       "      <td>6.350639e+08</td>\n",
       "    </tr>\n",
       "    <tr>\n",
       "      <th>2</th>\n",
       "      <td>3</td>\n",
       "      <td>Jun 7, 2019</td>\n",
       "      <td>Dark Phoenix</td>\n",
       "      <td>350000000.0</td>\n",
       "      <td>42762350.0</td>\n",
       "      <td>1.497624e+08</td>\n",
       "      <td>0.427892</td>\n",
       "      <td>2019</td>\n",
       "      <td>-0.572108</td>\n",
       "      <td>-2.002376e+08</td>\n",
       "    </tr>\n",
       "    <tr>\n",
       "      <th>3</th>\n",
       "      <td>4</td>\n",
       "      <td>May 1, 2015</td>\n",
       "      <td>Avengers: Age of Ultron</td>\n",
       "      <td>330600000.0</td>\n",
       "      <td>459005868.0</td>\n",
       "      <td>1.403014e+09</td>\n",
       "      <td>4.243841</td>\n",
       "      <td>2015</td>\n",
       "      <td>3.243841</td>\n",
       "      <td>1.072414e+09</td>\n",
       "    </tr>\n",
       "    <tr>\n",
       "      <th>4</th>\n",
       "      <td>5</td>\n",
       "      <td>Dec 15, 2017</td>\n",
       "      <td>Star Wars Ep. VIII: The Last Jedi</td>\n",
       "      <td>317000000.0</td>\n",
       "      <td>620181382.0</td>\n",
       "      <td>1.316722e+09</td>\n",
       "      <td>4.153696</td>\n",
       "      <td>2017</td>\n",
       "      <td>3.153696</td>\n",
       "      <td>9.997217e+08</td>\n",
       "    </tr>\n",
       "  </tbody>\n",
       "</table>\n",
       "</div>"
      ],
      "text/plain": [
       "   id  release_date                                        movie  \\\n",
       "0   1  Dec 18, 2009                                       Avatar   \n",
       "1   2  May 20, 2011  Pirates of the Caribbean: On Stranger Tides   \n",
       "2   3   Jun 7, 2019                                 Dark Phoenix   \n",
       "3   4   May 1, 2015                      Avengers: Age of Ultron   \n",
       "4   5  Dec 15, 2017            Star Wars Ep. VIII: The Last Jedi   \n",
       "\n",
       "   production_budget $  domestic_gross $  worldwide_gross $  \\\n",
       "0          425000000.0       760507625.0       2.776345e+09   \n",
       "1          410600000.0       241063875.0       1.045664e+09   \n",
       "2          350000000.0        42762350.0       1.497624e+08   \n",
       "3          330600000.0       459005868.0       1.403014e+09   \n",
       "4          317000000.0       620181382.0       1.316722e+09   \n",
       "\n",
       "   profitability_ratio  release_year       ROI        profit  \n",
       "0             6.532577          2009  5.532577  2.351345e+09  \n",
       "1             2.546673          2011  1.546673  6.350639e+08  \n",
       "2             0.427892          2019 -0.572108 -2.002376e+08  \n",
       "3             4.243841          2015  3.243841  1.072414e+09  \n",
       "4             4.153696          2017  3.153696  9.997217e+08  "
      ]
     },
     "execution_count": 93,
     "metadata": {},
     "output_type": "execute_result"
    }
   ],
   "source": [
    "tn_movie_budgets_df.head()"
   ]
  },
  {
   "cell_type": "markdown",
   "metadata": {},
   "source": [
    "# Best Earning Movies based on Worldwide Gross Visualization"
   ]
  },
  {
   "cell_type": "code",
   "execution_count": 94,
   "metadata": {},
   "outputs": [
    {
     "data": {
      "text/plain": [
       "movie\n",
       "Avatar                                  2.776345e+09\n",
       "Titanic                                 2.208208e+09\n",
       "Star Wars Ep. VII: The Force Awakens    2.053311e+09\n",
       "Avengers: Infinity War                  2.048134e+09\n",
       "Beauty and the Beast                    1.867631e+09\n",
       "Name: worldwide_gross $, dtype: float64"
      ]
     },
     "execution_count": 94,
     "metadata": {},
     "output_type": "execute_result"
    }
   ],
   "source": [
    "#Group by movie and sum the worldwide gross $\n",
    "movie_gross = tn_movie_budgets_df.groupby(\"movie\")[\"worldwide_gross $\"].sum()\n",
    "# Sort the movies based on the summed worldwide gross $\n",
    "sorted_movies = movie_gross.sort_values(ascending=False)\n",
    "#select te top 5 movies\n",
    "top_5_movies = sorted_movies.head(5)\n",
    "top_5_movies"
   ]
  },
  {
   "cell_type": "markdown",
   "metadata": {},
   "source": [
    "  We create a function to format the large numbers in human_readable format and from matplotlib we import(from matplolib.ticker import FuncFormatter) and asign variable formatter FuncFormatter(human_format)\n",
    " "
   ]
  },
  {
   "cell_type": "code",
   "execution_count": 95,
   "metadata": {},
   "outputs": [],
   "source": [
    "#Function to format the large numbers in human_readable format\n",
    "def human_format(num,pos):\n",
    "    #format number in a hman readable format\n",
    "    if num >=1e6:\n",
    "        return f'{num*1e-6:-1f}M'\n",
    "    elif num >= 1e3:\n",
    "        return f'{num*1e-3:1f}K'\n",
    "    else:\n",
    "        return str(num)"
   ]
  },
  {
   "cell_type": "code",
   "execution_count": 96,
   "metadata": {},
   "outputs": [],
   "source": [
    "from matplotlib.ticker import FuncFormatter\n",
    "formatter = FuncFormatter(human_format)"
   ]
  },
  {
   "cell_type": "code",
   "execution_count": 97,
   "metadata": {},
   "outputs": [
    {
     "data": {
      "image/png": "[encoded data removed]",
      "text/plain": [
       "<Figure size 1080x576 with 1 Axes>"
      ]
     },
     "metadata": {
      "needs_background": "light"
     },
     "output_type": "display_data"
    }
   ],
   "source": [
    "# Plot bar graph \n",
    "plt.figure(figsize=(15,8))\n",
    "ax = top_5_movies.plot(kind=\"bar\",color=\"green\")\n",
    "#Name axis and title\n",
    "ax.set_xlabel('Movie')\n",
    "ax.set_ylabel('World Wide Gross')\n",
    "ax.set_title('Worldwide Gross Earning for top_5_Movies')\n",
    "ax.set_xticklabels(ax.get_xticklabels(),rotation=45,ha=\"right\")\n",
    "plt.tight_layout()\n",
    "\n",
    "#apply the formatter to the y-axis\n",
    "ax.yaxis.set_major_formatter(formatter)\n",
    "plt.show()"
   ]
  },
  {
   "cell_type": "markdown",
   "metadata": {},
   "source": [
    "# Best earning Movies Based on Return On Investments (ROI) Visualization"
   ]
  },
  {
   "cell_type": "code",
   "execution_count": 98,
   "metadata": {},
   "outputs": [],
   "source": [
    "#Group by movie and sum the worldwide gross $\n",
    "ROI_gross = tn_movie_budgets_df.groupby(\"movie\")[\"ROI\"].sum()\n",
    "# Sort the movies based on the summed worldwide gross $\n",
    "sorted_movies = ROI_gross.sort_values(ascending=False)\n",
    "#select te top 5 movies\n",
    "ROI_top_5_movies = sorted_movies.head(5)\n",
    "\n"
   ]
  },
  {
   "cell_type": "code",
   "execution_count": 99,
   "metadata": {},
   "outputs": [
    {
     "data": {
      "text/plain": [
       "movie\n",
       "Deep Throat                1799.000000\n",
       "Mad Max                     497.750000\n",
       "Paranormal Activity         430.517853\n",
       "The Gallows                 415.564740\n",
       "The Blair Witch Project     412.833333\n",
       "Name: ROI, dtype: float64"
      ]
     },
     "execution_count": 99,
     "metadata": {},
     "output_type": "execute_result"
    }
   ],
   "source": [
    "ROI_top_5_movies"
   ]
  },
  {
   "cell_type": "code",
   "execution_count": 100,
   "metadata": {},
   "outputs": [
    {
     "data": {
      "image/png": "[encoded data removed]",
      "text/plain": [
       "<Figure size 1080x576 with 1 Axes>"
      ]
     },
     "metadata": {
      "needs_background": "light"
     },
     "output_type": "display_data"
    }
   ],
   "source": [
    "plt.figure(figsize=(15,8))\n",
    "ax = ROI_top_5_movies.plot(kind=\"bar\",color=\"green\")\n",
    "ax.set_xlabel('Movie')\n",
    "ax.set_ylabel('Return on Investment (RIO)')\n",
    "ax.set_title('Return on Investment Earning for top_5_Movies')\n",
    "ax.set_xticklabels(ax.get_xticklabels(),rotation=45,ha=\"right\")\n",
    "plt.tight_layout()\n",
    "\n",
    "#apply the formatter to the y-axis\n",
    "ax.yaxis.set_major_formatter(formatter)\n",
    "plt.show()"
   ]
  },
  {
   "cell_type": "markdown",
   "metadata": {},
   "source": [
    "# 4.1.2 rt.movie_info.tsv Visualization"
   ]
  },
  {
   "cell_type": "code",
   "execution_count": 101,
   "metadata": {},
   "outputs": [
    {
     "data": {
      "text/html": [
       "<div>\n",
       "<style scoped>\n",
       "    .dataframe tbody tr th:only-of-type {\n",
       "        vertical-align: middle;\n",
       "    }\n",
       "\n",
       "    .dataframe tbody tr th {\n",
       "        vertical-align: top;\n",
       "    }\n",
       "\n",
       "    .dataframe thead th {\n",
       "        text-align: right;\n",
       "    }\n",
       "</style>\n",
       "<table border=\"1\" class=\"dataframe\">\n",
       "  <thead>\n",
       "    <tr style=\"text-align: right;\">\n",
       "      <th></th>\n",
       "      <th>rating</th>\n",
       "      <th>genre</th>\n",
       "      <th>runtime</th>\n",
       "    </tr>\n",
       "  </thead>\n",
       "  <tbody>\n",
       "    <tr>\n",
       "      <th>0</th>\n",
       "      <td>R</td>\n",
       "      <td>Action and Adventure|Classics|Drama</td>\n",
       "      <td>104 minutes</td>\n",
       "    </tr>\n",
       "    <tr>\n",
       "      <th>1</th>\n",
       "      <td>R</td>\n",
       "      <td>Drama|Science Fiction and Fantasy</td>\n",
       "      <td>108 minutes</td>\n",
       "    </tr>\n",
       "    <tr>\n",
       "      <th>2</th>\n",
       "      <td>R</td>\n",
       "      <td>Drama|Musical and Performing Arts</td>\n",
       "      <td>116 minutes</td>\n",
       "    </tr>\n",
       "    <tr>\n",
       "      <th>3</th>\n",
       "      <td>R</td>\n",
       "      <td>Drama|Mystery and Suspense</td>\n",
       "      <td>128 minutes</td>\n",
       "    </tr>\n",
       "    <tr>\n",
       "      <th>4</th>\n",
       "      <td>NR</td>\n",
       "      <td>Drama|Romance</td>\n",
       "      <td>200 minutes</td>\n",
       "    </tr>\n",
       "  </tbody>\n",
       "</table>\n",
       "</div>"
      ],
      "text/plain": [
       "  rating                                genre      runtime\n",
       "0      R  Action and Adventure|Classics|Drama  104 minutes\n",
       "1      R    Drama|Science Fiction and Fantasy  108 minutes\n",
       "2      R    Drama|Musical and Performing Arts  116 minutes\n",
       "3      R           Drama|Mystery and Suspense  128 minutes\n",
       "4     NR                        Drama|Romance  200 minutes"
      ]
     },
     "execution_count": 101,
     "metadata": {},
     "output_type": "execute_result"
    }
   ],
   "source": [
    "rt_movie_df.head()"
   ]
  },
  {
   "cell_type": "markdown",
   "metadata": {},
   "source": [
    "# Best performing Movie Genres Visualization"
   ]
  },
  {
   "cell_type": "code",
   "execution_count": 102,
   "metadata": {},
   "outputs": [
    {
     "name": "stdout",
     "output_type": "stream",
     "text": [
      "Frequency counts for genre:\n",
      "Drama                                                                                                 146\n",
      "Comedy                                                                                                109\n",
      "Comedy|Drama                                                                                           80\n",
      "Drama|Mystery and Suspense                                                                             67\n",
      "Art House and International|Drama                                                                      61\n",
      "                                                                                                     ... \n",
      "Art House and International|Documentary|Drama|Musical and Performing Arts|Special Interest              1\n",
      "Art House and International|Classics|Comedy|Drama|Romance                                               1\n",
      "Classics|Comedy|Drama|Kids and Family|Musical and Performing Arts                                       1\n",
      "Action and Adventure|Anime and Manga|Art House and International|Science Fiction and Fantasy            1\n",
      "Action and Adventure|Art House and International|Drama|Kids and Family|Science Fiction and Fantasy      1\n",
      "Name: genre, Length: 294, dtype: int64\n",
      "Frequency counts for rating\n",
      "R        518\n",
      "NR       479\n",
      "PG       239\n",
      "PG-13    232\n",
      "G         57\n",
      "NC17       1\n",
      "Name: rating, dtype: int64\n"
     ]
    }
   ],
   "source": [
    "genre_counts = rt_movie_df[\"genre\"].value_counts()\n",
    "rating_counts = rt_movie_df[\"rating\"].value_counts()\n",
    "print(\"Frequency counts for genre:\")\n",
    "print(genre_counts)\n",
    "print(\"Frequency counts for rating\")\n",
    "print(rating_counts)\n"
   ]
  },
  {
   "cell_type": "code",
   "execution_count": 103,
   "metadata": {},
   "outputs": [
    {
     "data": {
      "text/plain": [
       "Drama                                              146\n",
       "Comedy                                             109\n",
       "Comedy|Drama                                        80\n",
       "Drama|Mystery and Suspense                          67\n",
       "Art House and International|Drama                   61\n",
       "Action and Adventure|Drama                          41\n",
       "Action and Adventure|Drama|Mystery and Suspense     40\n",
       "Drama|Romance                                       35\n",
       "Comedy|Romance                                      32\n",
       "Horror                                              30\n",
       "Name: genre, dtype: int64"
      ]
     },
     "execution_count": 103,
     "metadata": {},
     "output_type": "execute_result"
    }
   ],
   "source": [
    "top_10_genres = genre_counts.head(10)\n",
    "top_10_genres"
   ]
  },
  {
   "cell_type": "code",
   "execution_count": 104,
   "metadata": {},
   "outputs": [
    {
     "data": {
      "image/png": "[encoded data removed]",
      "text/plain": [
       "<Figure size 720x432 with 1 Axes>"
      ]
     },
     "metadata": {
      "needs_background": "light"
     },
     "output_type": "display_data"
    }
   ],
   "source": [
    "plt.figure(figsize=(10,6))\n",
    "top_10_genres.plot(kind=\"bar\",color=\"green\")\n",
    "plt.title(\"Top Ten Movie Genres\")\n",
    "plt.xlabel(\"Genres\")\n",
    "plt.ylabel(\"Number of Genres\")\n",
    "plt.xticks(rotation=45)\n",
    "plt.tight_layout()\n",
    "plt.show()\n"
   ]
  },
  {
   "cell_type": "markdown",
   "metadata": {},
   "source": [
    "# Movie Rating Visualization\n",
    "This will help us to determine the best target audience based on rating"
   ]
  },
  {
   "cell_type": "code",
   "execution_count": 105,
   "metadata": {},
   "outputs": [
    {
     "data": {
      "text/plain": [
       "R        518\n",
       "NR       479\n",
       "PG       239\n",
       "PG-13    232\n",
       "G         57\n",
       "NC17       1\n",
       "Name: rating, dtype: int64"
      ]
     },
     "execution_count": 105,
     "metadata": {},
     "output_type": "execute_result"
    }
   ],
   "source": [
    "rating_distribution = rt_movie_df[\"rating\"].value_counts()\n",
    "rating_distribution"
   ]
  },
  {
   "cell_type": "code",
   "execution_count": 106,
   "metadata": {},
   "outputs": [
    {
     "data": {
      "image/png": "[encoded data removed]",
      "text/plain": [
       "<Figure size 720x432 with 1 Axes>"
      ]
     },
     "metadata": {
      "needs_background": "light"
     },
     "output_type": "display_data"
    }
   ],
   "source": [
    "plt.figure(figsize=(10,6))\n",
    "rating_distribution.plot(kind=\"bar\",color=\"green\")\n",
    "plt.title(\"Rating Distribution\")\n",
    "plt.xlabel(\"Rating\")\n",
    "plt.ylabel(\"Rating Frequency\")\n",
    "plt.xticks(rotation=45)\n",
    "plt.tight_layout()\n",
    "plt.show()"
   ]
  },
  {
   "cell_type": "markdown",
   "metadata": {},
   "source": [
    "# 5.1.2 bom.movie_gross visualization"
   ]
  },
  {
   "cell_type": "code",
   "execution_count": 107,
   "metadata": {},
   "outputs": [
    {
     "data": {
      "text/html": [
       "<div>\n",
       "<style scoped>\n",
       "    .dataframe tbody tr th:only-of-type {\n",
       "        vertical-align: middle;\n",
       "    }\n",
       "\n",
       "    .dataframe tbody tr th {\n",
       "        vertical-align: top;\n",
       "    }\n",
       "\n",
       "    .dataframe thead th {\n",
       "        text-align: right;\n",
       "    }\n",
       "</style>\n",
       "<table border=\"1\" class=\"dataframe\">\n",
       "  <thead>\n",
       "    <tr style=\"text-align: right;\">\n",
       "      <th></th>\n",
       "      <th>title</th>\n",
       "      <th>studio</th>\n",
       "      <th>domestic_gross</th>\n",
       "      <th>foreign_gross</th>\n",
       "      <th>year</th>\n",
       "    </tr>\n",
       "  </thead>\n",
       "  <tbody>\n",
       "    <tr>\n",
       "      <th>0</th>\n",
       "      <td>Toy Story 3</td>\n",
       "      <td>BV</td>\n",
       "      <td>415000000.0</td>\n",
       "      <td>652000000</td>\n",
       "      <td>2010</td>\n",
       "    </tr>\n",
       "    <tr>\n",
       "      <th>1</th>\n",
       "      <td>Alice in Wonderland (2010)</td>\n",
       "      <td>BV</td>\n",
       "      <td>334200000.0</td>\n",
       "      <td>691300000</td>\n",
       "      <td>2010</td>\n",
       "    </tr>\n",
       "    <tr>\n",
       "      <th>2</th>\n",
       "      <td>Harry Potter and the Deathly Hallows Part 1</td>\n",
       "      <td>WB</td>\n",
       "      <td>296000000.0</td>\n",
       "      <td>664300000</td>\n",
       "      <td>2010</td>\n",
       "    </tr>\n",
       "    <tr>\n",
       "      <th>3</th>\n",
       "      <td>Inception</td>\n",
       "      <td>WB</td>\n",
       "      <td>292600000.0</td>\n",
       "      <td>535700000</td>\n",
       "      <td>2010</td>\n",
       "    </tr>\n",
       "    <tr>\n",
       "      <th>4</th>\n",
       "      <td>Shrek Forever After</td>\n",
       "      <td>P/DW</td>\n",
       "      <td>238700000.0</td>\n",
       "      <td>513900000</td>\n",
       "      <td>2010</td>\n",
       "    </tr>\n",
       "  </tbody>\n",
       "</table>\n",
       "</div>"
      ],
      "text/plain": [
       "                                         title studio  domestic_gross  \\\n",
       "0                                  Toy Story 3     BV     415000000.0   \n",
       "1                   Alice in Wonderland (2010)     BV     334200000.0   \n",
       "2  Harry Potter and the Deathly Hallows Part 1     WB     296000000.0   \n",
       "3                                    Inception     WB     292600000.0   \n",
       "4                          Shrek Forever After   P/DW     238700000.0   \n",
       "\n",
       "  foreign_gross  year  \n",
       "0     652000000  2010  \n",
       "1     691300000  2010  \n",
       "2     664300000  2010  \n",
       "3     535700000  2010  \n",
       "4     513900000  2010  "
      ]
     },
     "execution_count": 107,
     "metadata": {},
     "output_type": "execute_result"
    }
   ],
   "source": [
    "bom_movie_gross_df.head()"
   ]
  },
  {
   "cell_type": "markdown",
   "metadata": {},
   "source": [
    "# Top ten Best Performing Years based on Domestic Gross Visualization"
   ]
  },
  {
   "cell_type": "code",
   "execution_count": 108,
   "metadata": {},
   "outputs": [
    {
     "data": {
      "text/plain": [
       "year\n",
       "2010    3.140444e+07\n",
       "2011    2.536754e+07\n",
       "2012    2.769457e+07\n",
       "2013    3.124588e+07\n",
       "2014    2.646259e+07\n",
       "2015    2.462256e+07\n",
       "2016    2.600892e+07\n",
       "2017    3.414957e+07\n",
       "2018    3.601042e+07\n",
       "Name: domestic_gross, dtype: float64"
      ]
     },
     "execution_count": 108,
     "metadata": {},
     "output_type": "execute_result"
    }
   ],
   "source": [
    "# we use groupby to calculate average gross for each year\n",
    "avg_gross_per_year = bom_movie_gross_df.groupby(\"year\").mean()[\"domestic_gross\"]\n",
    "avg_gross_per_year"
   ]
  },
  {
   "cell_type": "code",
   "execution_count": 109,
   "metadata": {},
   "outputs": [
    {
     "data": {
      "image/png": "[encoded data removed]",
      "text/plain": [
       "<Figure size 1080x576 with 1 Axes>"
      ]
     },
     "metadata": {
      "needs_background": "light"
     },
     "output_type": "display_data"
    }
   ],
   "source": [
    "plt.figure(figsize=(15,8))\n",
    "ax = avg_gross_per_year.plot(kind=\"bar\",color=\"green\")\n",
    "ax.set_xlabel('Year')\n",
    "ax.set_ylabel('Domestic Gross')\n",
    "ax.set_title('Avarage Gross Per Year')\n",
    "ax.set_xticklabels(ax.get_xticklabels(),rotation=45,ha=\"right\")\n",
    "plt.tight_layout()\n",
    "\n",
    "#apply the formatter to the y-axis\n",
    "ax.yaxis.set_major_formatter(formatter)\n",
    "plt.show()"
   ]
  },
  {
   "cell_type": "markdown",
   "metadata": {},
   "source": [
    "# Top most Performing Movie Studios Based on Domestic Gross Visualization"
   ]
  },
  {
   "cell_type": "code",
   "execution_count": 110,
   "metadata": {},
   "outputs": [
    {
     "data": {
      "text/plain": [
       "studio\n",
       "BV      1.841903e+10\n",
       "Uni.    1.290239e+10\n",
       "WB      1.216805e+10\n",
       "Fox     1.094950e+10\n",
       "Sony    8.488429e+09\n",
       "Name: domestic_gross, dtype: float64"
      ]
     },
     "execution_count": 110,
     "metadata": {},
     "output_type": "execute_result"
    }
   ],
   "source": [
    "#Group by studio and sum the domestic gross\n",
    "studio_gross = bom_movie_gross_df.groupby(\"studio\")[\"domestic_gross\"].sum()\n",
    "#sort the studios based on the summed domestic\n",
    "sorted_studios = studio_gross.sort_values(ascending=False)\n",
    "top_5_studios = sorted_studios.head(5)\n",
    "top_5_studios"
   ]
  },
  {
   "cell_type": "code",
   "execution_count": 111,
   "metadata": {},
   "outputs": [
    {
     "data": {
      "image/png": "[encoded data removed]",
      "text/plain": [
       "<Figure size 1080x576 with 1 Axes>"
      ]
     },
     "metadata": {
      "needs_background": "light"
     },
     "output_type": "display_data"
    }
   ],
   "source": [
    "plt.figure(figsize=(15,8))\n",
    "ax =top_5_studios.plot(kind=\"bar\",color=\"green\")\n",
    "ax.set_xlabel('Studio')\n",
    "ax.set_ylabel('Domestic Gross')\n",
    "ax.set_title('Top Five Studios For Movie Production Based on Domestic Gross')\n",
    "ax.set_xticklabels(ax.get_xticklabels(),rotation=45,ha=\"right\")\n",
    "plt.tight_layout()\n",
    "\n",
    "#apply the formatter to the y-axis\n",
    "ax.yaxis.set_major_formatter(formatter)\n",
    "plt.show()"
   ]
  },
  {
   "cell_type": "markdown",
   "metadata": {},
   "source": [
    "# Top performing Movies Based on Domestic Gross"
   ]
  },
  {
   "cell_type": "code",
   "execution_count": 112,
   "metadata": {},
   "outputs": [
    {
     "data": {
      "text/plain": [
       "title\n",
       "Star Wars: The Force Awakens    936700000.0\n",
       "Black Panther                   700100000.0\n",
       "Avengers: Infinity War          678800000.0\n",
       "Jurassic World                  652300000.0\n",
       "Marvel's The Avengers           623400000.0\n",
       "Star Wars: The Last Jedi        620200000.0\n",
       "Incredibles 2                   608600000.0\n",
       "Rogue One: A Star Wars Story    532200000.0\n",
       "Beauty and the Beast (2017)     504000000.0\n",
       "Finding Dory                    486300000.0\n",
       "Name: domestic_gross, dtype: float64"
      ]
     },
     "execution_count": 112,
     "metadata": {},
     "output_type": "execute_result"
    }
   ],
   "source": [
    "#Group by title and sum the domestic gross\n",
    "title_gross = bom_movie_gross_df.groupby(\"title\")[\"domestic_gross\"].sum()\n",
    "#sort the title based on the summed domestic\n",
    "sorted_title = title_gross.sort_values(ascending=False)\n",
    "top_10_movie_title = sorted_title.head(10)\n",
    "top_10_movie_title"
   ]
  },
  {
   "cell_type": "code",
   "execution_count": 113,
   "metadata": {},
   "outputs": [
    {
     "data": {
      "image/png": "[encoded data removed]",
      "text/plain": [
       "<Figure size 1080x576 with 1 Axes>"
      ]
     },
     "metadata": {
      "needs_background": "light"
     },
     "output_type": "display_data"
    }
   ],
   "source": [
    "plt.figure(figsize=(15,8))\n",
    "ax =top_10_movie_title.plot(kind=\"bar\",color=\"green\")\n",
    "ax.set_xlabel('Title')\n",
    "ax.set_ylabel('Domestic Gross')\n",
    "ax.set_title('Top 10 Movie Tilte Based on Domestic Gross')\n",
    "ax.set_xticklabels(ax.get_xticklabels(),rotation=45,ha=\"right\")\n",
    "plt.tight_layout()\n",
    "\n",
    "#apply the formatter to the y-axis\n",
    "ax.yaxis.set_major_formatter(formatter)\n",
    "plt.show()"
   ]
  },
  {
   "cell_type": "markdown",
   "metadata": {},
   "source": [
    "# Final stage\n",
    "# Recommendations"
   ]
  },
  {
   "cell_type": "markdown",
   "metadata": {},
   "source": [
    "Based on the analysis here are actionable insights for microsoft's new movie studios.\n",
    "- To focus on high-grossing Genres this means that microsoft should prioritize producing films in genres that are consistently performing well, such as Drama,Comedy,Comedy|Drama,Drama|Mystery and Suspense,Art house and International|Drama,Action and Adventures|Drama. As we have seen from our analysis these genres are among the best performing genres.\n",
    "- To focus on the target key demographic, as per our rating distribution we have seen the best rated are Restricted (R) and Not rated(NR). So Microsoft should focus on developing content that appeals to core demographics,particularly the 18-34 age group since the ristricted movies only produce contents for people over the age of 18 and above and this age group are the most frequent moviegoers. They should also consider intergrating diverse and inclusive storyline to attract a wider audience.\n",
    "- Should Balance budgets and quality - They should aim for a balance between production quality and budget. As we have seen from our analysis mid range budget films with a strong storytelling can be highly profitable and this was well portrait by Return On Investment (ROI) from our analysis. They should avoid over-relying on high-budget productions unless they have a very high probability of success and these was well portrait on worldwide gross analysis.\n",
    "- Emphasize critical acclaim - Microsoft should strive for strong critical and audience reception and invest in quality screenwriting,direction and production to generate positive reviews which can boost long-term box office performance as we saw from our reveiw analysis reviews matter towards the success of movie.\n",
    "- Also interms of production microsoft should invest with the best performing studios to produce films since we have seen alot of returns from the best studios according to box office. The studios highly recommended are BV,Universal,WB,FOX AND Sony respectively.\n",
    "- Also we recommend microsoft to apply same strategies applied by the best performing movies in the box office. Movies such as Avatar,Star Wars,Avengers and Beauty and the beast are the best performing movies as per box office.\n"
   ]
  },
  {
   "cell_type": "markdown",
   "metadata": {},
   "source": []
  }
 ],
 "metadata": {
  "kernelspec": {
   "display_name": "learn-env",
   "language": "python",
   "name": "python3"
  },
  "language_info": {
   "codemirror_mode": {
    "name": "ipython",
    "version": 3
   },
   "file_extension": ".py",
   "mimetype": "text/x-python",
   "name": "python",
   "nbconvert_exporter": "python",
   "pygments_lexer": "ipython3",
   "version": "3.8.5"
  }
 },
 "nbformat": 4,
 "nbformat_minor": 2
}
